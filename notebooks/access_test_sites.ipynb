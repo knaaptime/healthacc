{
 "cells": [
  {
   "cell_type": "markdown",
   "metadata": {},
   "source": [
    "# Multimodal Accessibility Analysis *At Scale*: \n",
    "## Measuring Access to Covid Testing Sites in California"
   ]
  },
  {
   "cell_type": "markdown",
   "metadata": {},
   "source": [
    "This notebook calculates access to Covid-19 testing sites for every block group in California. Apart from the locations of test sites, all data are collected on the fly. To account for the massive size of the study area (all of CA) the analysis is chunked at the county level; access is computed for the blockgroups in each county (with both supply and demand data buffered 8km beyond the county borders to mitigate edge effects), then the counties are recombined into a statewide set. "
   ]
  },
  {
   "cell_type": "code",
   "execution_count": 1,
   "metadata": {},
   "outputs": [
    {
     "name": "stderr",
     "output_type": "stream",
     "text": [
      "/Users/knaaptime/Dropbox/projects/geosnap/geosnap/_data.py:123: UserWarning: Unable to locate local census data. Streaming instead.\n",
      "If you plan to use census data repeatedly you can store it locally with the io.store_census function for better performance\n",
      "  \"Unable to locate local census data. Streaming instead.\\n\"\n",
      "Loading manifest: 100%|██████████| 5/5 [00:00<00:00, 7204.23entries/s]\n",
      "Loading manifest: 100%|██████████| 5/5 [00:00<00:00, 11683.30entries/s]\n"
     ]
    }
   ],
   "source": [
    "import cenpy\n",
    "import osmnet\n",
    "import os\n",
    "import importlib\n",
    "import pandas as pd\n",
    "import numpy as np\n",
    "import pandana as pdna\n",
    "import urbanaccess as ua\n",
    "import geopandas as gpd\n",
    "import matplotlib.pyplot as plt\n",
    "from geosnap import Community, datasets\n",
    "from access import access as Access"
   ]
  },
  {
   "cell_type": "code",
   "execution_count": null,
   "metadata": {},
   "outputs": [],
   "source": []
  },
  {
   "cell_type": "code",
   "execution_count": 2,
   "metadata": {},
   "outputs": [],
   "source": [
    "from access import weights as acweights\n",
    "from healthacc.travel_matrix import compute_travel_cost_adjlist"
   ]
  },
  {
   "cell_type": "code",
   "execution_count": 3,
   "metadata": {},
   "outputs": [],
   "source": [
    "from segregation.util import project_gdf"
   ]
  },
  {
   "cell_type": "markdown",
   "metadata": {},
   "source": [
    "## Testing Locations (testing supply)"
   ]
  },
  {
   "cell_type": "code",
   "execution_count": 4,
   "metadata": {},
   "outputs": [],
   "source": [
    "test_locations = gpd.read_file(\"../data/accessbility/Testing_Locations_7_15.shp\")"
   ]
  },
  {
   "cell_type": "code",
   "execution_count": 5,
   "metadata": {},
   "outputs": [],
   "source": [
    "test_locations['count'] = 1"
   ]
  },
  {
   "cell_type": "markdown",
   "metadata": {},
   "source": [
    "## Census Data (testing demand)"
   ]
  },
  {
   "cell_type": "code",
   "execution_count": 6,
   "metadata": {},
   "outputs": [],
   "source": [
    "counties = datasets.counties()"
   ]
  },
  {
   "cell_type": "code",
   "execution_count": 7,
   "metadata": {},
   "outputs": [],
   "source": [
    "ca_counties = counties[counties.geoid.str.startswith('06')]"
   ]
  },
  {
   "cell_type": "code",
   "execution_count": 8,
   "metadata": {},
   "outputs": [],
   "source": [
    "ca_blkgrps= gpd.read_file(\"../data/accessbility/CA_BG_Income.shp\")"
   ]
  },
  {
   "cell_type": "code",
   "execution_count": 9,
   "metadata": {},
   "outputs": [],
   "source": [
    "ca_blkgrps = ca_blkgrps.to_crs(4326)"
   ]
  },
  {
   "cell_type": "code",
   "execution_count": 10,
   "metadata": {},
   "outputs": [],
   "source": [
    "counties = [county[-3:] for county in ca_counties.geoid.tolist()]"
   ]
  },
  {
   "cell_type": "markdown",
   "metadata": {},
   "source": [
    "Our blockgroup geometries seem to contain income data, but we also need population data to pass to `access`. We'll grab blockgroup-level population data using `cenpy`, but since blockgroups [arent implemented]() in the products api yet, we need to loop over each county"
   ]
  },
  {
   "cell_type": "code",
   "execution_count": 11,
   "metadata": {},
   "outputs": [],
   "source": [
    "if not os.path.exists('../data/ca_blockgroup_population.csv'):\n",
    "\n",
    "    cadict = []\n",
    "    conn = cenpy.products.APIConnection(\"ACSDT5Y2017\")   \n",
    "    for county in counties:\n",
    "        data = conn.query([\"B01001_001E\"], geo_unit = 'block group', geo_filter = {\"state\": \"06\", \"county\": f'{county}'})\n",
    "        cadict.append(data)\n",
    "    gdf = pd.concat(cadict)\n",
    "    gdf.to_csv('../data/ca_blockgroup_population.csv')\n",
    "else:\n",
    "    gdf = pd.read_csv('../data/ca_blockgroup_population.csv', converters={'state':str, 'county':str, 'tract':str, 'block group': str})"
   ]
  },
  {
   "cell_type": "code",
   "execution_count": 12,
   "metadata": {},
   "outputs": [],
   "source": [
    "gdf['geoid'] = gdf.state + gdf.county + gdf.tract + gdf['block group']"
   ]
  },
  {
   "cell_type": "code",
   "execution_count": 13,
   "metadata": {},
   "outputs": [],
   "source": [
    "blockgroups = ca_blkgrps.merge(gdf, left_on='GEOID10', right_on='geoid')"
   ]
  },
  {
   "cell_type": "markdown",
   "metadata": {},
   "source": [
    "## OSM Data (pedestrian network)"
   ]
  },
  {
   "cell_type": "markdown",
   "metadata": {},
   "source": [
    "To download the networks for each county we need to do a little bit of laborious data processing. The study area of *all* of california is too large of a problem size to deal with in a single go (we're likely talking  about a point-to-point travel matrix of billions of OSM intersections...) so we split the data and process by county. To mitigate edge effects though, we need to buffer each county beyond the travel threshold we care about and operate on the buffered data before clipping it back to the proper spatial extent. OSM handles data in lat/long, so we first need to iterate over each california county and project it into the proper CRS. California is a big state, so it falls into two different UTM zones (10 and 11). I don't want to lookup the proper CRS for each county, so here we use the `utm` library to:\n",
    "- loop over each county\n",
    "- project it to utm\n",
    "- buffer it out 8000m\n",
    "- project it back to WGS and collect the bounding box\n",
    "- send the bbox to OSM to download the network and store it"
   ]
  },
  {
   "cell_type": "code",
   "execution_count": 14,
   "metadata": {},
   "outputs": [],
   "source": [
    "def determine_utm(polygon):\n",
    "    \n",
    "    lon = polygon.centroid.x\n",
    "    lat = polygon.centroid.y\n",
    "    \n",
    "    zone = utm.from_latlon(lat,lon)\n",
    "    crs = crs = f\"+proj=utm +zone={str(zone[2])} +ellps=WGS84 +datum=WGS84 +units=m +no_defs\"\n",
    "    \n",
    "    return crs"
   ]
  },
  {
   "cell_type": "code",
   "execution_count": 15,
   "metadata": {},
   "outputs": [],
   "source": [
    "def buffer_bbox(polygon):\n",
    "    \n",
    "    crs = determine_utm(polygon)\n",
    "    gdf = gpd.GeoDataFrame(pd.Series([polygon], name='geometry'))\n",
    "    gdf.crs=4326\n",
    "    gdf = gdf.to_crs(crs).buffer(8000)\n",
    "    gdf = gdf.to_crs(4326)\n",
    "    \n",
    "    return gdf.total_bounds\n",
    "    "
   ]
  },
  {
   "cell_type": "code",
   "execution_count": 16,
   "metadata": {},
   "outputs": [],
   "source": [
    "for county in ca_counties.iterrows():\n",
    "    fname = f\"../data/networks/osmnet_{county[1].geoid}.h5\"\n",
    "    if not os.path.exists(fname):\n",
    "        bbox = buffer_bbox(county[1].geometry)\n",
    "        nodes, edges = osmnet.network_from_bbox(bbox=tuple(bbox))\n",
    "        net = pdna.Network(nodes[\"x\"],\n",
    "                           nodes[\"y\"],\n",
    "                           edges[\"from\"],\n",
    "                           edges[\"to\"],\n",
    "                           edges[[\"distance\"]])\n",
    "        net.save_hdf5(fname)\n",
    "    else:\n",
    "        pass\n",
    "    "
   ]
  },
  {
   "cell_type": "markdown",
   "metadata": {},
   "source": [
    "## GTFS Data (transit network)"
   ]
  },
  {
   "cell_type": "markdown",
   "metadata": {},
   "source": [
    "In my first attempt, I used the builtin downloader but the results were unsatisfactory, so I wrote a couple functions to hit the transitland api instead, which works better"
   ]
  },
  {
   "cell_type": "markdown",
   "metadata": {},
   "source": [
    "~~Brute force: add all feeds for california*, then clip the network to an extent using the buffered bboox for each county. GTFS data are pretty small so this is easy and fast~~"
   ]
  },
  {
   "cell_type": "markdown",
   "metadata": {},
   "source": [
    "~~**two things to note here. First, urbanaccess is setup to query from GTFS Data Exchange which was shut down a few years ago, so the data may be stale. Second, we're doing a string search for California, which may not necessarily be in every CA transit feed name. TransitLand has popped up to replace  GTGS Data Exchange, and its api allows searching by geograpic extent via bounding boxes. There's an experimental (but stale) branch of ua that implements a transitland search here https://github.com/UDST/urbanaccess/blob/kuanb-gtfs-feeds-query-util/urbanaccess/gtfsfeeds.py but i havent tested it. ~~"
   ]
  },
  {
   "cell_type": "code",
   "execution_count": 17,
   "metadata": {},
   "outputs": [],
   "source": [
    "from healthacc import feeds_from_bbox"
   ]
  },
  {
   "cell_type": "code",
   "execution_count": 18,
   "metadata": {},
   "outputs": [],
   "source": [
    "# these throw a 403. I think the call to `requests` inside urbanaccess needs to be beefed up with user agent and headers and such \n",
    "# <https://stackoverflow.com/questions/38489386/python-requests-403-forbidden>\n",
    "fourofours = ['metro', 'laketahoe','southwestpoint','metrolinktrains', 'riversidetransitagency','blue','tidelinewatertaxi','countyconnection']\n",
    "\n",
    "# throw  401 for not having an API key for 511.org\n",
    "fouroones = ['capitolcorridor','angelislandtiburonferry', 'acealtamontcorridorexpress', 'goldengateferry', 'alcatrazhornblowerferry', 'smart', \\\n",
    "            'unioncitytransit', 'vacavillecitycoach', 'vinenapacounty', 'sanfranciscobayferry', 'americancanyontransit', 'dumbartonexpress']\n",
    "#this one times out\n",
    "tout = ['trideltatransit']\n",
    "# these are corrupt zips or bad GTFS data\n",
    "# usually missing calendar_dates, but other errors too\n",
    "incorrect = ['commuteorgshuttle', 'culvercitybus', 'airportexpressinc', 'madera','anaheim','vctc','goldengatetransit','kerncounty','delnorte',\\\n",
    "            'yosemite','longbeachtransit', 'getbus', 'avalon', 'amtrak', 'petalumatransit'] \n",
    "\n",
    "feederrors = fourofours + fouroones + tout + incorrect\n",
    "\n",
    "\n"
   ]
  },
  {
   "cell_type": "code",
   "execution_count": 77,
   "metadata": {},
   "outputs": [],
   "source": [
    "def build_network(county, bbox):\n",
    "    COUNTY_PATH = f\"../data/counties/{county}\"\n",
    "    osm_network = pdna.Network.from_hdf5(f\"../data/networks/osmnet_{county}.h5\")\n",
    "    try:\n",
    "        # download gtfs data if we need it\n",
    "        if os.path.exists(f\"{COUNTY_PATH}/{county}_gtfs.h5\"):\n",
    "            loaded_feeds = ua.gtfs.network.load_processed_gtfs_data(f\"{county}_gtfs.h5\", dir=COUNTY_PATH,)\n",
    "        else:   \n",
    "            # get GTFS feeds for the area\n",
    "            feeds = feeds_from_bbox(bbox)\n",
    "            for feed in list(feeds.keys()):\n",
    "                if feed in feederrors:\n",
    "                    feeds.pop(feed)\n",
    "            if len(ua.gtfsfeeds.feeds.to_dict()['gtfs_feeds'])>0:\n",
    "                ua.gtfsfeeds.feeds.remove_feed(remove_all=True)  #feeds object is global so reset it from last iter\n",
    "            ua.gtfsfeeds.feeds.add_feed(feeds)\n",
    "            ua.gtfsfeeds.download()\n",
    "            loaded_feeds = ua.gtfs.load.gtfsfeed_to_df(f\"{COUNTY_PATH}/gtfsfeed_text/\",\n",
    "                                                       bbox=bbox,\n",
    "                                                       remove_stops_outsidebbox=True)\n",
    "            ua_to_h5(loaded_feeds, f\"{COUNTY_PATH}/{county}_gtfs.h5\")\n",
    "        \n",
    "        # Create transit and OSM networks and combine them into a single multimodal net\n",
    "        ua.create_transit_net(gtfsfeeds_dfs=loaded_feeds,\n",
    "                                       day='monday',\n",
    "                                       timerange=['07:00:00', '10:00:00'],\n",
    "                                       calendar_dates_lookup=None)\n",
    "        osm_network.nodes_df['id'] = osm_network.nodes_df.index\n",
    "        ua_osm = ua.create_osm_net(osm_edges=osm_network.edges_df,\n",
    "                                  osm_nodes=osm_network.nodes_df,\n",
    "                                  travel_speed_mph=3)\n",
    "        urbanaccess_net = ua.ua_network\n",
    "        ua.integrate_network(urbanaccess_network=urbanaccess_net,\n",
    "                             headways=False)\n",
    "        combined_net = pdna.Network(urbanaccess_net.net_nodes[\"x\"],\n",
    "                                    urbanaccess_net.net_nodes[\"y\"],\n",
    "                                    urbanaccess_net.net_edges[\"from_int\"],\n",
    "                                    urbanaccess_net.net_edges[\"to_int\"],\n",
    "                                    urbanaccess_net.net_edges[[\"weight\"]])\n",
    "    \n",
    "    except KeyError:  # fallback to ped-only network if no gtfs in that county\n",
    "        combined_net = pdna.Network(osm_network.nodes_df[\"x\"],\n",
    "                                    osm_network.nodes_df[\"y\"],\n",
    "                                    osm_network.edges_df[\"from\"],\n",
    "                                    osm_network.edges_df[\"to\"],\n",
    "                                    osm_network.edges_df[[\"weight\"]])\n",
    "    return combined_net"
   ]
  },
  {
   "cell_type": "code",
   "execution_count": 20,
   "metadata": {},
   "outputs": [],
   "source": [
    "def ua_to_h5(loaded_feeds, path):\n",
    "    \n",
    "    hdf = pd.HDFStore(path)\n",
    "    hdf['calendar'] =loaded_feeds.calendar\n",
    "    hdf['calendar_dates'] =loaded_feeds.calendar_dates\n",
    "    hdf['headways'] =loaded_feeds.headways\n",
    "    hdf['routes'] =loaded_feeds.routes\n",
    "    hdf['stop_times'] =loaded_feeds.stop_times\n",
    "    hdf['stop_times_int'] =loaded_feeds.stops\n",
    "    hdf['stops'] =loaded_feeds.stops\n",
    "    hdf['trips'] = loaded_feeds.trips\n",
    "    hdf.close()"
   ]
  },
  {
   "cell_type": "markdown",
   "metadata": {},
   "source": [
    "## Calculating Accessibility"
   ]
  },
  {
   "cell_type": "code",
   "execution_count": 21,
   "metadata": {},
   "outputs": [],
   "source": [
    "def prepare_data(county):\n",
    "    \n",
    "    df = ca_blkgrps[ca_blkgrps.GEOID10.str[:5]==county].copy()\n",
    "    boundary = project_gdf(df).buffer(8000)\n",
    "    utm = boundary.crs\n",
    "    boundary = boundary.to_crs(4326).unary_union\n",
    "    \n",
    "    # this part is expensive\n",
    "    buf_testint = test_locations[test_locations.intersects(boundary)]    \n",
    "    buf_blkgrps = ca_blkgrps[ca_blkgrps.centroid.intersects(boundary)]\n",
    "\n",
    "    geoms = buf_blkgrps[['GEOID10', 'geometry']]\n",
    "    \n",
    "    \n",
    "    dests = gpd.sjoin(geoms, buf_testint, how='left', op='intersects').groupby('GEOID10').sum().merge(geoms, on='GEOID10')\n",
    "    \n",
    "    buf_blkgrps = buf_blkgrps.merge(dests[['GEOID10', 'count']], on='GEOID10')\n",
    "    buf_blkgrps = buf_blkgrps.merge(blockgroups[['GEOID10', 'B01001_001E']], on='GEOID10', how='left')\n",
    "    buf_blkgrps =  gpd.GeoDataFrame(buf_blkgrps)\n",
    "    buf_blkgrps.crs = 4326\n",
    "\n",
    "    \n",
    "    return buf_blkgrps\n",
    "\n"
   ]
  },
  {
   "cell_type": "code",
   "execution_count": 76,
   "metadata": {},
   "outputs": [],
   "source": [
    "def compute_access(county, blkgrps, network):\n",
    "    COUNTY_PATH = f\"../data/counties/{county}\"\n",
    "    if os.path.exists(f\"{COUNTY_PATH}/matrices/{county}_adj.parquet\"):\n",
    "        adjlist = pd.read_parquet(f\"{COUNTY_PATH}/matrices/{county}_adj.parquet\")\n",
    "    else:\n",
    "        adjlist = compute_travel_cost_adjlist(blkgrps, blkgrps, network, reindex_dest='GEOID10', reindex_orig='GEOID10')\n",
    "        adjlist.assign(temp=adjlist.origin+adjlist.destination).drop_duplicates(subset='temp', inplace=True)\n",
    "    ac_test=Access(demand_df = blkgrps,\n",
    "            demand_index = 'GEOID10',\n",
    "            demand_value = 'B01001_001E',\n",
    "            supply_df    = blkgrps,\n",
    "            supply_index = 'GEOID10',\n",
    "            cost_df=adjlist.replace(0.0,1.0),  # gravity chokes if travel time is 0\n",
    "            cost_origin='origin',\n",
    "            cost_dest='destination',\n",
    "            cost_name='cost',\n",
    "            supply_value='count',\n",
    "            neighbor_cost_df     = adjlist.replace(0.0,1.0),\n",
    "            neighbor_cost_origin = 'origin',\n",
    "            neighbor_cost_dest   = 'destination',\n",
    "            neighbor_cost_name   = 'cost'\n",
    "      )\n",
    "    ac_test.raam(name = \"raam\", tau = 60);\n",
    "    ac_test.access_df[\"raam_count\"] = 1 / ac_test.access_df[\"raam_count\"] \n",
    "    ac_test.two_stage_fca(name =\"2sfca\", max_cost = 60,)\n",
    "    ac_test.enhanced_two_stage_fca(name = \"g2sfca\", weight_fn = gaussian)\n",
    "    ac_test.three_stage_fca(name = \"3sfca\")\n",
    "    ac_test.weighted_catchment(name = \"catch_gravity\", weight_fn = gravity)\n",
    "    ac_test.weighted_catchment(name = \"catch_gaussian\", weight_fn = gaussian)\n",
    "    ac_test.fca_ratio(name = \"fca60\",      max_cost = 30)\n",
    "    ac_test.fca_ratio(name = \"fca120\",      max_cost = 60) \n",
    "    \n",
    "    return ac_test.access_df[ac_test.access_df.index.str.startswith(county)]\n"
   ]
  },
  {
   "cell_type": "code",
   "execution_count": 27,
   "metadata": {},
   "outputs": [],
   "source": [
    "from urbanaccess.config import settings"
   ]
  },
  {
   "cell_type": "code",
   "execution_count": 28,
   "metadata": {},
   "outputs": [
    {
     "data": {
      "text/plain": [
       "{'data_folder': 'data',\n",
       " 'logs_folder': 'logs',\n",
       " 'log_file': True,\n",
       " 'log_console': False,\n",
       " 'log_name': 'urbanaccess',\n",
       " 'log_filename': 'urbanaccess',\n",
       " 'gtfs_api': {'gtfsdataexch': 'http://www.gtfs-data-exchange.com/api/agencies?format=csv'}}"
      ]
     },
     "execution_count": 28,
     "metadata": {},
     "output_type": "execute_result"
    }
   ],
   "source": [
    "settings.to_dict()"
   ]
  },
  {
   "cell_type": "code",
   "execution_count": 29,
   "metadata": {},
   "outputs": [
    {
     "data": {
      "text/plain": [
       "0"
      ]
     },
     "execution_count": 29,
     "metadata": {},
     "output_type": "execute_result"
    }
   ],
   "source": [
    "len(ua.gtfsfeeds.feeds.to_dict()['gtfs_feeds'])"
   ]
  },
  {
   "cell_type": "code",
   "execution_count": 30,
   "metadata": {},
   "outputs": [],
   "source": [
    "from access import weights as acweights"
   ]
  },
  {
   "cell_type": "code",
   "execution_count": 31,
   "metadata": {},
   "outputs": [],
   "source": [
    "gravity = acweights.gravity(scale = 60, alpha = -1)\n",
    "gaussian = acweights.gaussian(60)"
   ]
  },
  {
   "cell_type": "code",
   "execution_count": 73,
   "metadata": {},
   "outputs": [],
   "source": [
    "settings.log_console=False # turn off urbanccess verbosity"
   ]
  },
  {
   "cell_type": "markdown",
   "metadata": {},
   "source": [
    "This cell does all the computation and it will take awhile to run. Despite pandana's impressive speed, this is a lot of data to crunch. Most counties are done in a minute or two, but LA takes about an hour on its own."
   ]
  },
  {
   "cell_type": "code",
   "execution_count": null,
   "metadata": {},
   "outputs": [
    {
     "name": "stderr",
     "output_type": "stream",
     "text": [
      "/Users/knaaptime/anaconda3/envs/healthacc/lib/python3.7/site-packages/ipykernel_launcher.py:10: UserWarning: Geometry is in a geographic CRS. Results from 'centroid' are likely incorrect. Use 'GeoSeries.to_crs()' to re-project geometries to a projected CRS before this operation.\n",
      "\n",
      "  # Remove the CWD from sys.path while we load stuff.\n"
     ]
    },
    {
     "name": "stdout",
     "output_type": "stream",
     "text": [
      "Successfully read store: ../data/counties/06037/06037_gtfs.h5 with the following keys: ['/calendar', '/calendar_dates', '/headways', '/routes', '/stop_times', '/stop_times_int', '/stops', '/trips']\n",
      "Successfully read store: ../data/counties/06037/06037_gtfs.h5 with the following keys: ['/calendar', '/calendar_dates', '/headways', '/routes', '/stop_times', '/stop_times_int', '/stops', '/trips']\n",
      "Successfully read store: ../data/counties/06037/06037_gtfs.h5 with the following keys: ['/calendar', '/calendar_dates', '/headways', '/routes', '/stop_times', '/stop_times_int', '/stops', '/trips']\n",
      "Successfully read store: ../data/counties/06037/06037_gtfs.h5 with the following keys: ['/calendar', '/calendar_dates', '/headways', '/routes', '/stop_times', '/stop_times_int', '/stops', '/trips']\n",
      "Successfully read store: ../data/counties/06037/06037_gtfs.h5 with the following keys: ['/calendar', '/calendar_dates', '/headways', '/routes', '/stop_times', '/stop_times_int', '/stops', '/trips']\n",
      "Successfully read store: ../data/counties/06037/06037_gtfs.h5 with the following keys: ['/calendar', '/calendar_dates', '/headways', '/routes', '/stop_times', '/stop_times_int', '/stops', '/trips']\n",
      "Using calendar to extract service_ids to select trips.\n",
      "61 service_ids were extracted from calendar\n",
      "14,637 trip(s) 48.00 percent of 30,494 total trip records were found in calendar for GTFS feed(s): ['thousandoaks', 'airportvaletexpress', 'omnitrans', 'corona', '707', 'norwalktransitsystem', 'dpwlacounty', 'pvpta', 'elmontetransit', 'foothilltransit', 'duartetransit', 'ladot', 'glendalebeeline', 'victorville', 'burbankbus', 'bigbluebus', 'pasadenatransit', 'torrancetransit', 'montereypark', 'cityofcommercemunicipalbuslines', 'lagunabeach', 'lawndale', 'easternsierra', 'orangecountytransportationauthority']\n",
      "NOTE: If you expected more trips to have been extracted and your GTFS feed(s) have a calendar_dates file, consider utilizing the calendar_dates_lookup parameter in order to add additional trips based on information inside of calendar_dates. This should only be done if you know the corresponding GTFS feed is using calendar_dates instead of calendar to specify service_ids. When in doubt do not use the calendar_dates_lookup parameter.\n",
      "14,637 trip(s) 48.00 percent of 30,494 total trip records were not found in calendar for GTFS feed: thousandoaks\n",
      "14,637 trip(s) 48.00 percent of 30,494 total trip records were not found in calendar for GTFS feed: omnitrans\n",
      "14,637 trip(s) 48.00 percent of 30,494 total trip records were not found in calendar for GTFS feed: corona\n",
      "14,637 trip(s) 48.00 percent of 30,494 total trip records were not found in calendar for GTFS feed: 707\n",
      "14,637 trip(s) 48.00 percent of 30,494 total trip records were not found in calendar for GTFS feed: norwalktransitsystem\n",
      "14,637 trip(s) 48.00 percent of 30,494 total trip records were not found in calendar for GTFS feed: dpwlacounty\n",
      "14,637 trip(s) 48.00 percent of 30,494 total trip records were not found in calendar for GTFS feed: elmontetransit\n",
      "14,637 trip(s) 48.00 percent of 30,494 total trip records were not found in calendar for GTFS feed: foothilltransit\n",
      "14,637 trip(s) 48.00 percent of 30,494 total trip records were not found in calendar for GTFS feed: duartetransit\n",
      "14,637 trip(s) 48.00 percent of 30,494 total trip records were not found in calendar for GTFS feed: ladot\n",
      "14,637 trip(s) 48.00 percent of 30,494 total trip records were not found in calendar for GTFS feed: glendalebeeline\n",
      "14,637 trip(s) 48.00 percent of 30,494 total trip records were not found in calendar for GTFS feed: victorville\n",
      "14,637 trip(s) 48.00 percent of 30,494 total trip records were not found in calendar for GTFS feed: bigbluebus\n",
      "14,637 trip(s) 48.00 percent of 30,494 total trip records were not found in calendar for GTFS feed: pasadenatransit\n",
      "14,637 trip(s) 48.00 percent of 30,494 total trip records were not found in calendar for GTFS feed: torrancetransit\n",
      "14,637 trip(s) 48.00 percent of 30,494 total trip records were not found in calendar for GTFS feed: montereypark\n",
      "14,637 trip(s) 48.00 percent of 30,494 total trip records were not found in calendar for GTFS feed: cityofcommercemunicipalbuslines\n",
      "14,637 trip(s) 48.00 percent of 30,494 total trip records were not found in calendar for GTFS feed: lagunabeach\n",
      "14,637 trip(s) 48.00 percent of 30,494 total trip records were not found in calendar for GTFS feed: lawndale\n",
      "14,637 trip(s) 48.00 percent of 30,494 total trip records were not found in calendar for GTFS feed: easternsierra\n",
      "14,637 trip(s) 48.00 percent of 30,494 total trip records were not found in calendar for GTFS feed: orangecountytransportationauthority\n",
      "14,637 of 30,494 total trips were extracted representing calendar day: monday. Took 0.05 seconds\n",
      "Note: Processing may take a long time depending on the number of records. Total unique trips to assess: 14,637\n",
      "Starting departure stop time interpolation...\n",
      "Departure time records missing from trips following monday schedule: 35,648 (6.19 percent of 575,902 total records)\n",
      "Interpolating...\n",
      "WARNING: Number of records unable to interpolate: 90. These records have been removed.\n",
      "Departure stop time interpolation complete. Took 2.06 seconds\n",
      "Difference between stop times has been successfully calculated. Took 2.63 seconds\n",
      "Stop times from 07:00:00 to 10:00:00 successfully selected 114,295 records out of 575,812 total records (19.85 percent of total). Took 0.18 seconds\n",
      "Starting transformation process for 3,733 total trips...\n",
      "stop time table transformation to Pandana format edge table completed. Took 9.08 seconds\n",
      "Time conversion completed: seconds converted to minutes.\n",
      "17,669 of 19,012 records selected from stops. Took 0.03 seconds\n",
      "stop time table transformation to Pandana format node table completed. Took 0.02 seconds\n",
      "route type successfully joined to transit edges. Took 3.22 seconds\n",
      "route id successfully joined to transit edges. Took 0.09 seconds\n",
      "Successfully created transit network. Took 17.45 seconds\n",
      "Created OSM network with travel time impedance using a travel speed of 3 MPH. Took 0.04 seconds\n",
      "Loaded UrbanAccess network components comprised of:\n",
      "     Transit: 17,669 nodes and 110,562 edges;\n",
      "     OSM: 881,638 nodes and 1,722,544 edges\n",
      "Connector edges between the OSM and transit network nodes successfully completed. Took 9.39 seconds\n",
      "Edge and node tables formatted for Pandana with integer node ids: id_int, to_int, and from_int. Took 8.16 seconds\n",
      "Network edge and node network integration completed successfully resulting in a total of 899,307 nodes and 1,868,444 edges:\n",
      "     Transit: 17,669 nodes 110,562 edges;\n",
      "     OSM: 881,638 nodes 1,722,544 edges; and\n",
      "     OSM/Transit connector: 35,338 edges.\n"
     ]
    }
   ],
   "source": [
    "ca_statewide = []\n",
    "for index, row in ca_counties.iterrows():\n",
    "    try:\n",
    "        if not os.path.exists(f\"../data/counties/{row.geoid}_access.parquet\"):\n",
    "\n",
    "            gdf = prepare_data(row.geoid)\n",
    "            network = build_network(row.geoid, gdf.total_bounds)\n",
    "            access = compute_access(row.geoid, gdf.drop_duplicates(subset=['GEOID10']), network)\n",
    "            access.to_parquet(f\"../data/counties/{row.geoid}_access.parquet\")\n",
    "        else:\n",
    "            access = pd.read_parquet(f\"../data/counties/{row.geoid}_access.parquet\")\n",
    "        ca_statewide.append(access)\n",
    "    except:\n",
    "        print(f\"{row.geoid} failed\")\n",
    "statewide_access = pd.concat(ca_statewide)\n",
    "statewide_access.to_parquet(\"../data/ca_statewide_access.parquet\")"
   ]
  },
  {
   "cell_type": "code",
   "execution_count": 44,
   "metadata": {},
   "outputs": [
    {
     "data": {
      "text/html": [
       "<div>\n",
       "<style scoped>\n",
       "    .dataframe tbody tr th:only-of-type {\n",
       "        vertical-align: middle;\n",
       "    }\n",
       "\n",
       "    .dataframe tbody tr th {\n",
       "        vertical-align: top;\n",
       "    }\n",
       "\n",
       "    .dataframe thead th {\n",
       "        text-align: right;\n",
       "    }\n",
       "</style>\n",
       "<table border=\"1\" class=\"dataframe\">\n",
       "  <thead>\n",
       "    <tr style=\"text-align: right;\">\n",
       "      <th></th>\n",
       "      <th>B01001_001E</th>\n",
       "      <th>raam_count</th>\n",
       "      <th>2sfca_count</th>\n",
       "      <th>g2sfca_count</th>\n",
       "      <th>3sfca_count</th>\n",
       "      <th>catch_gravity_count</th>\n",
       "      <th>catch_gaussian_count</th>\n",
       "      <th>fca60_count</th>\n",
       "      <th>fca120_count</th>\n",
       "    </tr>\n",
       "    <tr>\n",
       "      <th>GEOID10</th>\n",
       "      <th></th>\n",
       "      <th></th>\n",
       "      <th></th>\n",
       "      <th></th>\n",
       "      <th></th>\n",
       "      <th></th>\n",
       "      <th></th>\n",
       "      <th></th>\n",
       "      <th></th>\n",
       "    </tr>\n",
       "  </thead>\n",
       "  <tbody>\n",
       "    <tr>\n",
       "      <th>060910100001</th>\n",
       "      <td>822.0</td>\n",
       "      <td>0.067329</td>\n",
       "      <td>0.000000</td>\n",
       "      <td>4.666358e-45</td>\n",
       "      <td>0.000000</td>\n",
       "      <td>0.072190</td>\n",
       "      <td>2.146525e-42</td>\n",
       "      <td>0.000000</td>\n",
       "      <td>0.000000</td>\n",
       "    </tr>\n",
       "    <tr>\n",
       "      <th>060910100002</th>\n",
       "      <td>755.0</td>\n",
       "      <td>0.075626</td>\n",
       "      <td>0.000000</td>\n",
       "      <td>7.855203e-36</td>\n",
       "      <td>0.000000</td>\n",
       "      <td>0.081813</td>\n",
       "      <td>3.613393e-33</td>\n",
       "      <td>0.000000</td>\n",
       "      <td>0.000000</td>\n",
       "    </tr>\n",
       "    <tr>\n",
       "      <th>060910100003</th>\n",
       "      <td>460.0</td>\n",
       "      <td>0.983607</td>\n",
       "      <td>0.002174</td>\n",
       "      <td>2.173611e-03</td>\n",
       "      <td>0.002091</td>\n",
       "      <td>60.000000</td>\n",
       "      <td>9.998611e-01</td>\n",
       "      <td>0.002174</td>\n",
       "      <td>0.002174</td>\n",
       "    </tr>\n",
       "    <tr>\n",
       "      <th>060910100004</th>\n",
       "      <td>496.0</td>\n",
       "      <td>0.149394</td>\n",
       "      <td>0.000000</td>\n",
       "      <td>1.984793e-10</td>\n",
       "      <td>0.000000</td>\n",
       "      <td>0.175633</td>\n",
       "      <td>9.130048e-08</td>\n",
       "      <td>0.000000</td>\n",
       "      <td>0.000000</td>\n",
       "    </tr>\n",
       "    <tr>\n",
       "      <th>060910100005</th>\n",
       "      <td>352.0</td>\n",
       "      <td>0.102245</td>\n",
       "      <td>0.000000</td>\n",
       "      <td>3.945663e-20</td>\n",
       "      <td>0.000000</td>\n",
       "      <td>0.113890</td>\n",
       "      <td>1.815005e-17</td>\n",
       "      <td>0.000000</td>\n",
       "      <td>0.000000</td>\n",
       "    </tr>\n",
       "    <tr>\n",
       "      <th>...</th>\n",
       "      <td>...</td>\n",
       "      <td>...</td>\n",
       "      <td>...</td>\n",
       "      <td>...</td>\n",
       "      <td>...</td>\n",
       "      <td>...</td>\n",
       "      <td>...</td>\n",
       "      <td>...</td>\n",
       "      <td>...</td>\n",
       "    </tr>\n",
       "    <tr>\n",
       "      <th>060790128001</th>\n",
       "      <td>200.0</td>\n",
       "      <td>0.611836</td>\n",
       "      <td>0.000696</td>\n",
       "      <td>7.278385e-04</td>\n",
       "      <td>0.000001</td>\n",
       "      <td>5.243206</td>\n",
       "      <td>1.320800e+00</td>\n",
       "      <td>0.000000</td>\n",
       "      <td>0.000078</td>\n",
       "    </tr>\n",
       "    <tr>\n",
       "      <th>060790129001</th>\n",
       "      <td>2233.0</td>\n",
       "      <td>0.314930</td>\n",
       "      <td>0.000000</td>\n",
       "      <td>7.369267e-05</td>\n",
       "      <td>0.000000</td>\n",
       "      <td>3.314752</td>\n",
       "      <td>1.195730e-01</td>\n",
       "      <td>0.000000</td>\n",
       "      <td>0.000000</td>\n",
       "    </tr>\n",
       "    <tr>\n",
       "      <th>060790129002</th>\n",
       "      <td>2745.0</td>\n",
       "      <td>0.286054</td>\n",
       "      <td>0.000000</td>\n",
       "      <td>3.594200e-04</td>\n",
       "      <td>0.000000</td>\n",
       "      <td>3.357944</td>\n",
       "      <td>2.833098e-01</td>\n",
       "      <td>0.000000</td>\n",
       "      <td>0.000000</td>\n",
       "    </tr>\n",
       "    <tr>\n",
       "      <th>060790130001</th>\n",
       "      <td>1459.0</td>\n",
       "      <td>0.097995</td>\n",
       "      <td>0.000000</td>\n",
       "      <td>3.197700e-19</td>\n",
       "      <td>0.000000</td>\n",
       "      <td>1.592585</td>\n",
       "      <td>2.590137e-16</td>\n",
       "      <td>0.000000</td>\n",
       "      <td>0.000000</td>\n",
       "    </tr>\n",
       "    <tr>\n",
       "      <th>060790130002</th>\n",
       "      <td>1420.0</td>\n",
       "      <td>0.325301</td>\n",
       "      <td>0.000000</td>\n",
       "      <td>4.388715e-04</td>\n",
       "      <td>0.000000</td>\n",
       "      <td>4.946491</td>\n",
       "      <td>4.762090e-01</td>\n",
       "      <td>0.000000</td>\n",
       "      <td>0.000000</td>\n",
       "    </tr>\n",
       "  </tbody>\n",
       "</table>\n",
       "<p>14036 rows × 9 columns</p>\n",
       "</div>"
      ],
      "text/plain": [
       "              B01001_001E  raam_count  2sfca_count  g2sfca_count  3sfca_count  \\\n",
       "GEOID10                                                                         \n",
       "060910100001        822.0    0.067329     0.000000  4.666358e-45     0.000000   \n",
       "060910100002        755.0    0.075626     0.000000  7.855203e-36     0.000000   \n",
       "060910100003        460.0    0.983607     0.002174  2.173611e-03     0.002091   \n",
       "060910100004        496.0    0.149394     0.000000  1.984793e-10     0.000000   \n",
       "060910100005        352.0    0.102245     0.000000  3.945663e-20     0.000000   \n",
       "...                   ...         ...          ...           ...          ...   \n",
       "060790128001        200.0    0.611836     0.000696  7.278385e-04     0.000001   \n",
       "060790129001       2233.0    0.314930     0.000000  7.369267e-05     0.000000   \n",
       "060790129002       2745.0    0.286054     0.000000  3.594200e-04     0.000000   \n",
       "060790130001       1459.0    0.097995     0.000000  3.197700e-19     0.000000   \n",
       "060790130002       1420.0    0.325301     0.000000  4.388715e-04     0.000000   \n",
       "\n",
       "              catch_gravity_count  catch_gaussian_count  fca60_count  \\\n",
       "GEOID10                                                                \n",
       "060910100001             0.072190          2.146525e-42     0.000000   \n",
       "060910100002             0.081813          3.613393e-33     0.000000   \n",
       "060910100003            60.000000          9.998611e-01     0.002174   \n",
       "060910100004             0.175633          9.130048e-08     0.000000   \n",
       "060910100005             0.113890          1.815005e-17     0.000000   \n",
       "...                           ...                   ...          ...   \n",
       "060790128001             5.243206          1.320800e+00     0.000000   \n",
       "060790129001             3.314752          1.195730e-01     0.000000   \n",
       "060790129002             3.357944          2.833098e-01     0.000000   \n",
       "060790130001             1.592585          2.590137e-16     0.000000   \n",
       "060790130002             4.946491          4.762090e-01     0.000000   \n",
       "\n",
       "              fca120_count  \n",
       "GEOID10                     \n",
       "060910100001      0.000000  \n",
       "060910100002      0.000000  \n",
       "060910100003      0.002174  \n",
       "060910100004      0.000000  \n",
       "060910100005      0.000000  \n",
       "...                    ...  \n",
       "060790128001      0.000078  \n",
       "060790129001      0.000000  \n",
       "060790129002      0.000000  \n",
       "060790130001      0.000000  \n",
       "060790130002      0.000000  \n",
       "\n",
       "[14036 rows x 9 columns]"
      ]
     },
     "execution_count": 44,
     "metadata": {},
     "output_type": "execute_result"
    }
   ],
   "source": [
    "statewide_access"
   ]
  },
  {
   "cell_type": "code",
   "execution_count": null,
   "metadata": {},
   "outputs": [],
   "source": [
    "blockgroups = blockgroups.merge(statewide_access, left_on='GEOID10', right_index=True)"
   ]
  },
  {
   "cell_type": "code",
   "execution_count": null,
   "metadata": {},
   "outputs": [],
   "source": [
    "blockgroups.plot('raam_count', cmap='blues', scheme='quantiles', k=8)"
   ]
  },
  {
   "cell_type": "code",
   "execution_count": null,
   "metadata": {},
   "outputs": [],
   "source": []
  }
 ],
 "metadata": {
  "kernelspec": {
   "display_name": "Python [conda env:healthacc]",
   "language": "python",
   "name": "conda-env-healthacc-py"
  },
  "language_info": {
   "codemirror_mode": {
    "name": "ipython",
    "version": 3
   },
   "file_extension": ".py",
   "mimetype": "text/x-python",
   "name": "python",
   "nbconvert_exporter": "python",
   "pygments_lexer": "ipython3",
   "version": "3.7.8"
  },
  "widgets": {
   "application/vnd.jupyter.widget-state+json": {
    "state": {
     "005bbf0e7a0c44c18ba844604148e810": {
      "model_module": "@jupyter-widgets/controls",
      "model_module_version": "1.5.0",
      "model_name": "HTMLModel",
      "state": {
       "layout": "IPY_MODEL_5146d4601ba549978a3384b10cafcc1b",
       "style": "IPY_MODEL_dc1f57dddca948848e4a74ac95e44c4b",
       "value": " 309/309 [00:22&lt;00:00, 13.77it/s]"
      }
     },
     "009c806b91e947ae81a28f4b222388f1": {
      "model_module": "@jupyter-widgets/controls",
      "model_module_version": "1.5.0",
      "model_name": "DescriptionStyleModel",
      "state": {
       "description_width": ""
      }
     },
     "00bcaa63b6da40148cda730fee573414": {
      "model_module": "@jupyter-widgets/controls",
      "model_module_version": "1.5.0",
      "model_name": "DescriptionStyleModel",
      "state": {
       "description_width": ""
      }
     },
     "00ce7208f0c34840bc7fa5bfe3fc76c3": {
      "model_module": "@jupyter-widgets/controls",
      "model_module_version": "1.5.0",
      "model_name": "HTMLModel",
      "state": {
       "layout": "IPY_MODEL_43a136d15ed14b339ec9e2bd720f7ea6",
       "style": "IPY_MODEL_80777971ec9f49248eadd3eda514907e",
       "value": " 256/256 [00:16&lt;00:00, 15.58it/s]"
      }
     },
     "018d89a1b9364bd6b9262c3ea06db594": {
      "model_module": "@jupyter-widgets/controls",
      "model_module_version": "1.5.0",
      "model_name": "HBoxModel",
      "state": {
       "children": [
        "IPY_MODEL_5406234e391444c4a2bc5c5b69bab1b5",
        "IPY_MODEL_6e2f27b0da034ebdb4f164c7d032d1f9"
       ],
       "layout": "IPY_MODEL_66721b2d5cf148f8af0867bfb5c32a64"
      }
     },
     "01ec556249744c08ab8b9c97be22a67b": {
      "model_module": "@jupyter-widgets/base",
      "model_module_version": "1.2.0",
      "model_name": "LayoutModel",
      "state": {}
     },
     "02361728f31e4b78a6be0009fcb6e20b": {
      "model_module": "@jupyter-widgets/controls",
      "model_module_version": "1.5.0",
      "model_name": "ProgressStyleModel",
      "state": {
       "description_width": "initial"
      }
     },
     "02fd26408b2d407aaeb929f7208d1fb6": {
      "model_module": "@jupyter-widgets/controls",
      "model_module_version": "1.5.0",
      "model_name": "DescriptionStyleModel",
      "state": {
       "description_width": ""
      }
     },
     "0302975b69434dd6b1b23b65b4e5c470": {
      "model_module": "@jupyter-widgets/base",
      "model_module_version": "1.2.0",
      "model_name": "LayoutModel",
      "state": {}
     },
     "03988c86fc4d4b4487fce5551013749d": {
      "model_module": "@jupyter-widgets/controls",
      "model_module_version": "1.5.0",
      "model_name": "HTMLModel",
      "state": {
       "layout": "IPY_MODEL_adfd5a8306004ebda8d0bc382b949bab",
       "style": "IPY_MODEL_7adbed50cec4433cb0e2ec7c86f5fdbc",
       "value": " 64/64 [00:05&lt;00:00, 11.68it/s]"
      }
     },
     "042e20091f4b4633989007243fc28602": {
      "model_module": "@jupyter-widgets/base",
      "model_module_version": "1.2.0",
      "model_name": "LayoutModel",
      "state": {}
     },
     "052cb0fb1c5347a09f595b4025ab4f67": {
      "model_module": "@jupyter-widgets/controls",
      "model_module_version": "1.5.0",
      "model_name": "DescriptionStyleModel",
      "state": {
       "description_width": ""
      }
     },
     "05510362ec0847258dd842917687734a": {
      "model_module": "@jupyter-widgets/controls",
      "model_module_version": "1.5.0",
      "model_name": "HBoxModel",
      "state": {
       "children": [
        "IPY_MODEL_70f7c61c9bd441529b96b2e17eadcd82",
        "IPY_MODEL_10f5d97f85af4a6a9859f725239c5cec"
       ],
       "layout": "IPY_MODEL_44ff66e417394b5e8df498bc2ba054c2"
      }
     },
     "05e1128ccf8a402b9dc5b7a54492cb6d": {
      "model_module": "@jupyter-widgets/base",
      "model_module_version": "1.2.0",
      "model_name": "LayoutModel",
      "state": {}
     },
     "060378b5f8ce4466b6f6ef8962ba1b80": {
      "model_module": "@jupyter-widgets/controls",
      "model_module_version": "1.5.0",
      "model_name": "HBoxModel",
      "state": {
       "children": [
        "IPY_MODEL_b7d2968fa7f8428386dd549cf70dae67",
        "IPY_MODEL_127e00a14dd84ef2a6524fdadf7c0ea5"
       ],
       "layout": "IPY_MODEL_567e21b05c2549a4b7c8294a659957d7"
      }
     },
     "0619604390a040aabad0026c0530eff2": {
      "model_module": "@jupyter-widgets/base",
      "model_module_version": "1.2.0",
      "model_name": "LayoutModel",
      "state": {}
     },
     "064fe6a58cdd43cb829053198604e061": {
      "model_module": "@jupyter-widgets/base",
      "model_module_version": "1.2.0",
      "model_name": "LayoutModel",
      "state": {}
     },
     "07ba6b885556462da33ebaa98df4b658": {
      "model_module": "@jupyter-widgets/controls",
      "model_module_version": "1.5.0",
      "model_name": "DescriptionStyleModel",
      "state": {
       "description_width": ""
      }
     },
     "0808e64777244b03b2a03915d2cc2a9c": {
      "model_module": "@jupyter-widgets/controls",
      "model_module_version": "1.5.0",
      "model_name": "HBoxModel",
      "state": {
       "children": [
        "IPY_MODEL_87062f7292734a429f91e75717807334",
        "IPY_MODEL_5b965fcfa9284822b0fe41ce5db7d96e"
       ],
       "layout": "IPY_MODEL_133c8f50bbab4ebdac2d76b62f64fcc7"
      }
     },
     "081e252ca56b4df29b31386ab96189ef": {
      "model_module": "@jupyter-widgets/controls",
      "model_module_version": "1.5.0",
      "model_name": "ProgressStyleModel",
      "state": {
       "description_width": "initial"
      }
     },
     "088cb43212a44aab82921a9a3877eb9a": {
      "model_module": "@jupyter-widgets/controls",
      "model_module_version": "1.5.0",
      "model_name": "HBoxModel",
      "state": {
       "children": [
        "IPY_MODEL_5d552ac3cdd34b9c96f69371b5d74d17",
        "IPY_MODEL_00ce7208f0c34840bc7fa5bfe3fc76c3"
       ],
       "layout": "IPY_MODEL_a90797723a0b418681503030ee2387e8"
      }
     },
     "088e9c03efc246f9b3d06a320be20db4": {
      "model_module": "@jupyter-widgets/controls",
      "model_module_version": "1.5.0",
      "model_name": "HBoxModel",
      "state": {
       "children": [
        "IPY_MODEL_4e6eabac3a3447319b2f9cef68bf4cab",
        "IPY_MODEL_639eb2dcba7f4bbd960f33043a743727"
       ],
       "layout": "IPY_MODEL_eba9058b913e47ec81ce5ee04fd0d422"
      }
     },
     "08a1ef25ed8f4aa3bfc29d37460bda87": {
      "model_module": "@jupyter-widgets/controls",
      "model_module_version": "1.5.0",
      "model_name": "HBoxModel",
      "state": {
       "children": [
        "IPY_MODEL_fde62baa86204183ae9be4e76f7ce16a",
        "IPY_MODEL_7fda31e8515b4e5da9070029d4120e27"
       ],
       "layout": "IPY_MODEL_939fc7ff49024f628f8ec9a4aaba5fe1"
      }
     },
     "08ab63d53b81403391460aaa38554518": {
      "model_module": "@jupyter-widgets/controls",
      "model_module_version": "1.5.0",
      "model_name": "ProgressStyleModel",
      "state": {
       "description_width": "initial"
      }
     },
     "092d17192a2f4289ad63c2adf74e2242": {
      "model_module": "@jupyter-widgets/base",
      "model_module_version": "1.2.0",
      "model_name": "LayoutModel",
      "state": {}
     },
     "0aa651404a434589b4f0ae2609daa610": {
      "model_module": "@jupyter-widgets/base",
      "model_module_version": "1.2.0",
      "model_name": "LayoutModel",
      "state": {}
     },
     "0ac936c81e614ce98b3826c6e932ba1b": {
      "model_module": "@jupyter-widgets/controls",
      "model_module_version": "1.5.0",
      "model_name": "ProgressStyleModel",
      "state": {
       "description_width": "initial"
      }
     },
     "0b45801ce37c4e9098dc716fd1f649db": {
      "model_module": "@jupyter-widgets/base",
      "model_module_version": "1.2.0",
      "model_name": "LayoutModel",
      "state": {}
     },
     "0c04599bab7744349aea3623ec535fae": {
      "model_module": "@jupyter-widgets/controls",
      "model_module_version": "1.5.0",
      "model_name": "DescriptionStyleModel",
      "state": {
       "description_width": ""
      }
     },
     "0ca85f7f3ab748a39e46304f6c716d0a": {
      "model_module": "@jupyter-widgets/controls",
      "model_module_version": "1.5.0",
      "model_name": "ProgressStyleModel",
      "state": {
       "description_width": "initial"
      }
     },
     "0e0b8e7a2f314641bc1fd7756c2a6196": {
      "model_module": "@jupyter-widgets/controls",
      "model_module_version": "1.5.0",
      "model_name": "HTMLModel",
      "state": {
       "layout": "IPY_MODEL_0b45801ce37c4e9098dc716fd1f649db",
       "style": "IPY_MODEL_9e6e31f89d3f46d5872f27bdb79fba16",
       "value": " 28/28 [00:02&lt;00:00, 11.85it/s]"
      }
     },
     "0e3d61c5bd3648b6bcccde235e075eee": {
      "model_module": "@jupyter-widgets/controls",
      "model_module_version": "1.5.0",
      "model_name": "ProgressStyleModel",
      "state": {
       "description_width": "initial"
      }
     },
     "0e51562ed2084b1fa97ed759c711dfc5": {
      "model_module": "@jupyter-widgets/controls",
      "model_module_version": "1.5.0",
      "model_name": "HTMLModel",
      "state": {
       "layout": "IPY_MODEL_a8040333f0f24c5993109a825fcb6018",
       "style": "IPY_MODEL_1453cbc391854f08868c2affc478057f",
       "value": " 38/38 [00:03&lt;00:00,  9.50it/s]"
      }
     },
     "0ea42933b0e74c45a459051be81006a9": {
      "model_module": "@jupyter-widgets/controls",
      "model_module_version": "1.5.0",
      "model_name": "HTMLModel",
      "state": {
       "layout": "IPY_MODEL_57c18985d7c04be1a643d8057726138f",
       "style": "IPY_MODEL_be6baf85e32940d6a900a614a9f564d2",
       "value": " 28/28 [06:57&lt;00:00, 14.92s/it]"
      }
     },
     "108a2c03d83e479a8074d0b3ee600583": {
      "model_module": "@jupyter-widgets/controls",
      "model_module_version": "1.5.0",
      "model_name": "DescriptionStyleModel",
      "state": {
       "description_width": ""
      }
     },
     "10c7583d76944307a00f155b8963fbd1": {
      "model_module": "@jupyter-widgets/base",
      "model_module_version": "1.2.0",
      "model_name": "LayoutModel",
      "state": {}
     },
     "10f5d97f85af4a6a9859f725239c5cec": {
      "model_module": "@jupyter-widgets/controls",
      "model_module_version": "1.5.0",
      "model_name": "HTMLModel",
      "state": {
       "layout": "IPY_MODEL_b4c2e0d1fe924ffbbbe07c08e10add9d",
       "style": "IPY_MODEL_5013d392eef84c6184893e20216ad992",
       "value": " 108/108 [00:07&lt;00:00, 13.89it/s]"
      }
     },
     "125c11813bea4a6ba2ac8f4a69dc3dee": {
      "model_module": "@jupyter-widgets/controls",
      "model_module_version": "1.5.0",
      "model_name": "FloatProgressModel",
      "state": {
       "bar_style": "success",
       "description": "100%",
       "layout": "IPY_MODEL_642b85c2d0904abe8ac0e7a522b9bad0",
       "max": 111,
       "style": "IPY_MODEL_e7d3658a186345c09e6d8b1cf08d7709",
       "value": 111
      }
     },
     "127d05ed66614914b3969ba32f20d61d": {
      "model_module": "@jupyter-widgets/controls",
      "model_module_version": "1.5.0",
      "model_name": "FloatProgressModel",
      "state": {
       "bar_style": "success",
       "description": "100%",
       "layout": "IPY_MODEL_b04938488d2d4d3296edd7b2f9cd2d19",
       "max": 20,
       "style": "IPY_MODEL_e9a9e5a7e95245bcb346081980b71432",
       "value": 20
      }
     },
     "127e00a14dd84ef2a6524fdadf7c0ea5": {
      "model_module": "@jupyter-widgets/controls",
      "model_module_version": "1.5.0",
      "model_name": "HTMLModel",
      "state": {
       "layout": "IPY_MODEL_c043e48fe03844d0bf62e7d18c3e6776",
       "style": "IPY_MODEL_688c19c4adf941fb9b0f2ca8618a56fc",
       "value": " 658/658 [01:54&lt;00:00,  5.75it/s]"
      }
     },
     "127f18731de64fcf9a2c0355435d58e2": {
      "model_module": "@jupyter-widgets/base",
      "model_module_version": "1.2.0",
      "model_name": "LayoutModel",
      "state": {}
     },
     "1319e067f77948d89db821a49a556f1e": {
      "model_module": "@jupyter-widgets/controls",
      "model_module_version": "1.5.0",
      "model_name": "HTMLModel",
      "state": {
       "layout": "IPY_MODEL_7755e7acb8ca478dbacf1a83f89767ef",
       "style": "IPY_MODEL_56e0066469d84b1d9e314b726e0fe5b7",
       "value": " 52/52 [00:06&lt;00:00,  8.37it/s]"
      }
     },
     "133c8f50bbab4ebdac2d76b62f64fcc7": {
      "model_module": "@jupyter-widgets/base",
      "model_module_version": "1.2.0",
      "model_name": "LayoutModel",
      "state": {}
     },
     "138d16b774c744bcb3fb4a0065ea4cc6": {
      "model_module": "@jupyter-widgets/base",
      "model_module_version": "1.2.0",
      "model_name": "LayoutModel",
      "state": {}
     },
     "13b632bdcfc94fb2ad481760bebd7a45": {
      "model_module": "@jupyter-widgets/base",
      "model_module_version": "1.2.0",
      "model_name": "LayoutModel",
      "state": {}
     },
     "14080b62bf1b446b80811e7f320d210d": {
      "model_module": "@jupyter-widgets/base",
      "model_module_version": "1.2.0",
      "model_name": "LayoutModel",
      "state": {}
     },
     "1453cbc391854f08868c2affc478057f": {
      "model_module": "@jupyter-widgets/controls",
      "model_module_version": "1.5.0",
      "model_name": "DescriptionStyleModel",
      "state": {
       "description_width": ""
      }
     },
     "15008fc8df4c4e8c9ad28f1166df7dbc": {
      "model_module": "@jupyter-widgets/base",
      "model_module_version": "1.2.0",
      "model_name": "LayoutModel",
      "state": {}
     },
     "1561b06e15bf444585809844cf725a7c": {
      "model_module": "@jupyter-widgets/controls",
      "model_module_version": "1.5.0",
      "model_name": "HBoxModel",
      "state": {
       "children": [
        "IPY_MODEL_ee4803d64ad44f8fa26a24434fabac23",
        "IPY_MODEL_495a94dc113341ba809a2ba281f8bf0e"
       ],
       "layout": "IPY_MODEL_15008fc8df4c4e8c9ad28f1166df7dbc"
      }
     },
     "15c5af2953a6443baa0775889e04c488": {
      "model_module": "@jupyter-widgets/controls",
      "model_module_version": "1.5.0",
      "model_name": "HTMLModel",
      "state": {
       "layout": "IPY_MODEL_d01e10c6be324a8f83f5db7475e0c38e",
       "style": "IPY_MODEL_306e22cdb4d84f60994792d4065f49f9",
       "value": " 26/26 [00:07&lt;00:00,  3.51it/s]"
      }
     },
     "169c6ee0e30344dfa903af66242f081b": {
      "model_module": "@jupyter-widgets/controls",
      "model_module_version": "1.5.0",
      "model_name": "FloatProgressModel",
      "state": {
       "bar_style": "success",
       "description": "100%",
       "layout": "IPY_MODEL_13b632bdcfc94fb2ad481760bebd7a45",
       "max": 210,
       "style": "IPY_MODEL_18b9ba18d1d1418bbcef884f1aed062b",
       "value": 210
      }
     },
     "16d22ab5bfa64cf190e30e337194539b": {
      "model_module": "@jupyter-widgets/controls",
      "model_module_version": "1.5.0",
      "model_name": "HTMLModel",
      "state": {
       "layout": "IPY_MODEL_6a735f3c9aa347ecb02d0d93e0dea8f1",
       "style": "IPY_MODEL_00bcaa63b6da40148cda730fee573414",
       "value": " 356/356 [00:23&lt;00:00, 14.92it/s]"
      }
     },
     "16ea5ba57f2544aca6cc4eeabbaff22f": {
      "model_module": "@jupyter-widgets/base",
      "model_module_version": "1.2.0",
      "model_name": "LayoutModel",
      "state": {}
     },
     "17b87f1e8d3945219c3143ae449401a7": {
      "model_module": "@jupyter-widgets/base",
      "model_module_version": "1.2.0",
      "model_name": "LayoutModel",
      "state": {}
     },
     "18408d9ad72e4bbc9329dea34e92e8dc": {
      "model_module": "@jupyter-widgets/base",
      "model_module_version": "1.2.0",
      "model_name": "LayoutModel",
      "state": {}
     },
     "18b9ba18d1d1418bbcef884f1aed062b": {
      "model_module": "@jupyter-widgets/controls",
      "model_module_version": "1.5.0",
      "model_name": "ProgressStyleModel",
      "state": {
       "description_width": "initial"
      }
     },
     "19d92acca101440ba5a78559a163c54b": {
      "model_module": "@jupyter-widgets/controls",
      "model_module_version": "1.5.0",
      "model_name": "HTMLModel",
      "state": {
       "layout": "IPY_MODEL_ad74dd6051f348bab26330738a2f375f",
       "style": "IPY_MODEL_052cb0fb1c5347a09f595b4025ab4f67",
       "value": " 7225/7225 [1:08:49&lt;00:00,  1.75it/s]"
      }
     },
     "19e75c4aa5b148e3a1035094f81e101d": {
      "model_module": "@jupyter-widgets/base",
      "model_module_version": "1.2.0",
      "model_name": "LayoutModel",
      "state": {}
     },
     "1a7683e545344dd4aa0d3a63f7586c7a": {
      "model_module": "@jupyter-widgets/controls",
      "model_module_version": "1.5.0",
      "model_name": "DescriptionStyleModel",
      "state": {
       "description_width": ""
      }
     },
     "1b42cb1b2e8a4f72bbe0a94214b15ac7": {
      "model_module": "@jupyter-widgets/base",
      "model_module_version": "1.2.0",
      "model_name": "LayoutModel",
      "state": {}
     },
     "1c1851c9f5c34ba7b9c1a17f7d9ca18b": {
      "model_module": "@jupyter-widgets/base",
      "model_module_version": "1.2.0",
      "model_name": "LayoutModel",
      "state": {}
     },
     "1c2aa5cb0711489783571559a4669f35": {
      "model_module": "@jupyter-widgets/controls",
      "model_module_version": "1.5.0",
      "model_name": "HBoxModel",
      "state": {
       "children": [
        "IPY_MODEL_bd65a8c8cca544b88b772ac838acaf1e",
        "IPY_MODEL_2d26c55a80934696871bfdcb7de18447"
       ],
       "layout": "IPY_MODEL_6b7a33d38fbe44c0a1ea7cff388c59f0"
      }
     },
     "1c4cfbc610984d3abd173116b37edb5d": {
      "model_module": "@jupyter-widgets/controls",
      "model_module_version": "1.5.0",
      "model_name": "FloatProgressModel",
      "state": {
       "bar_style": "success",
       "description": "100%",
       "layout": "IPY_MODEL_0619604390a040aabad0026c0530eff2",
       "max": 94,
       "style": "IPY_MODEL_c3cd09598a2e4935919411068d1c3e9e",
       "value": 94
      }
     },
     "1c96559bc203496b9f681c26ee461876": {
      "model_module": "@jupyter-widgets/controls",
      "model_module_version": "1.5.0",
      "model_name": "FloatProgressModel",
      "state": {
       "bar_style": "success",
       "description": "100%",
       "layout": "IPY_MODEL_8f5dd33b2683408b97f7ce22783a475f",
       "max": 25,
       "style": "IPY_MODEL_6280e3c6c9914dcdaf25cf7bc098357b",
       "value": 25
      }
     },
     "1cee12fb5eee4513b831d40d467886a9": {
      "model_module": "@jupyter-widgets/controls",
      "model_module_version": "1.5.0",
      "model_name": "HBoxModel",
      "state": {
       "children": [
        "IPY_MODEL_bc780bcbb537448a82af6e17f8373777",
        "IPY_MODEL_f9e9ce58e1084369adfcc02e5efe3d58"
       ],
       "layout": "IPY_MODEL_19e75c4aa5b148e3a1035094f81e101d"
      }
     },
     "1d6289d75d3b4414a4e3ef36de17eceb": {
      "model_module": "@jupyter-widgets/controls",
      "model_module_version": "1.5.0",
      "model_name": "HTMLModel",
      "state": {
       "layout": "IPY_MODEL_d068aa63990d4b4c95d8ea614c118151",
       "style": "IPY_MODEL_ae2a636a2d6d4e6b9ce4569ff17d7ba3",
       "value": " 151/151 [00:07&lt;00:00, 20.24it/s]"
      }
     },
     "1da0cdb94459409e8c53675223ca79ca": {
      "model_module": "@jupyter-widgets/controls",
      "model_module_version": "1.5.0",
      "model_name": "HBoxModel",
      "state": {
       "children": [
        "IPY_MODEL_de1fe22e3a5c466599e563d7993b74d5",
        "IPY_MODEL_8fe9a1ffb506441d8d1db899795d6785"
       ],
       "layout": "IPY_MODEL_f44b9bb27c3a4bf7b144f491b2b24c90"
      }
     },
     "1e9070c6cbb34fdc919f1d0e1170782e": {
      "model_module": "@jupyter-widgets/base",
      "model_module_version": "1.2.0",
      "model_name": "LayoutModel",
      "state": {}
     },
     "1ecd9a8b4fef4e02aba1622f8bd2a36c": {
      "model_module": "@jupyter-widgets/controls",
      "model_module_version": "1.5.0",
      "model_name": "DescriptionStyleModel",
      "state": {
       "description_width": ""
      }
     },
     "1edf7018bbaa4a6686ce515164ad7cd0": {
      "model_module": "@jupyter-widgets/controls",
      "model_module_version": "1.5.0",
      "model_name": "ProgressStyleModel",
      "state": {
       "description_width": "initial"
      }
     },
     "1f32b992d2834424bedd07ee48729024": {
      "model_module": "@jupyter-widgets/base",
      "model_module_version": "1.2.0",
      "model_name": "LayoutModel",
      "state": {}
     },
     "1fd1401a66b742959cfb31911df5941e": {
      "model_module": "@jupyter-widgets/controls",
      "model_module_version": "1.5.0",
      "model_name": "FloatProgressModel",
      "state": {
       "bar_style": "success",
       "description": "100%",
       "layout": "IPY_MODEL_5c3e604423eb423eb7247d12bedfcce6",
       "max": 28,
       "style": "IPY_MODEL_c11f53a2d8644d89a81c0eab7ebb53b1",
       "value": 28
      }
     },
     "20c41d4676a34c4287b4150493d234c4": {
      "model_module": "@jupyter-widgets/controls",
      "model_module_version": "1.5.0",
      "model_name": "DescriptionStyleModel",
      "state": {
       "description_width": ""
      }
     },
     "212a62b7dde84a73afd749b479b348d5": {
      "model_module": "@jupyter-widgets/base",
      "model_module_version": "1.2.0",
      "model_name": "LayoutModel",
      "state": {}
     },
     "21ed0db70ccb40cf849ab5b4f6ca04ec": {
      "model_module": "@jupyter-widgets/base",
      "model_module_version": "1.2.0",
      "model_name": "LayoutModel",
      "state": {}
     },
     "220201585d75480cacb1b11af9042054": {
      "model_module": "@jupyter-widgets/controls",
      "model_module_version": "1.5.0",
      "model_name": "FloatProgressModel",
      "state": {
       "bar_style": "success",
       "description": "100%",
       "layout": "IPY_MODEL_a9c19914a4524f858b499f1dd65c45ad",
       "max": 28,
       "style": "IPY_MODEL_6b61a4501f7a4eeabdd1d4ef224a135d",
       "value": 28
      }
     },
     "236ca3044a994dedb76846a8b825a23d": {
      "model_module": "@jupyter-widgets/base",
      "model_module_version": "1.2.0",
      "model_name": "LayoutModel",
      "state": {}
     },
     "23975b243fd947f69038b019bb72d91d": {
      "model_module": "@jupyter-widgets/base",
      "model_module_version": "1.2.0",
      "model_name": "LayoutModel",
      "state": {}
     },
     "23ca717fe10e4d57932c8f0d8e7f86b7": {
      "model_module": "@jupyter-widgets/base",
      "model_module_version": "1.2.0",
      "model_name": "LayoutModel",
      "state": {}
     },
     "24485423a6454696b7fde29fbf5eeee1": {
      "model_module": "@jupyter-widgets/base",
      "model_module_version": "1.2.0",
      "model_name": "LayoutModel",
      "state": {}
     },
     "24f31cd636b1495f936b8c3eeb03e7a0": {
      "model_module": "@jupyter-widgets/base",
      "model_module_version": "1.2.0",
      "model_name": "LayoutModel",
      "state": {}
     },
     "252262296c6d4b4591044a4c477dd0da": {
      "model_module": "@jupyter-widgets/controls",
      "model_module_version": "1.5.0",
      "model_name": "DescriptionStyleModel",
      "state": {
       "description_width": ""
      }
     },
     "253c20ebca62402f9ce9da6cb22a05a4": {
      "model_module": "@jupyter-widgets/controls",
      "model_module_version": "1.5.0",
      "model_name": "HTMLModel",
      "state": {
       "layout": "IPY_MODEL_ba5de953e64345c09b065955f1f9d2aa",
       "style": "IPY_MODEL_c955dc03c2cb47c99c56fb3d4294ede5",
       "value": " 214/214 [59:18&lt;00:00, 16.63s/it]"
      }
     },
     "254b45c5858a4b70a23974e6da88611a": {
      "model_module": "@jupyter-widgets/base",
      "model_module_version": "1.2.0",
      "model_name": "LayoutModel",
      "state": {}
     },
     "256f8f391b8d4ae1885ee4749f08a4ff": {
      "model_module": "@jupyter-widgets/base",
      "model_module_version": "1.2.0",
      "model_name": "LayoutModel",
      "state": {}
     },
     "25cee102866e41a383e01f6ee47623a8": {
      "model_module": "@jupyter-widgets/base",
      "model_module_version": "1.2.0",
      "model_name": "LayoutModel",
      "state": {}
     },
     "25de6c76b6d54b098a84ea8cd03a7115": {
      "model_module": "@jupyter-widgets/base",
      "model_module_version": "1.2.0",
      "model_name": "LayoutModel",
      "state": {}
     },
     "25e848a179c94bd4b69b521810068f16": {
      "model_module": "@jupyter-widgets/base",
      "model_module_version": "1.2.0",
      "model_name": "LayoutModel",
      "state": {}
     },
     "264ee283f96149de9d95702f0640914b": {
      "model_module": "@jupyter-widgets/controls",
      "model_module_version": "1.5.0",
      "model_name": "DescriptionStyleModel",
      "state": {
       "description_width": ""
      }
     },
     "265921d3fa6c4e728a133579aa177dd9": {
      "model_module": "@jupyter-widgets/base",
      "model_module_version": "1.2.0",
      "model_name": "LayoutModel",
      "state": {}
     },
     "267734332928415b8bb97026d2f6845c": {
      "model_module": "@jupyter-widgets/controls",
      "model_module_version": "1.5.0",
      "model_name": "ProgressStyleModel",
      "state": {
       "description_width": "initial"
      }
     },
     "27581ae1c54745c886a67276668577e7": {
      "model_module": "@jupyter-widgets/base",
      "model_module_version": "1.2.0",
      "model_name": "LayoutModel",
      "state": {}
     },
     "2822dd37fb1646bf8f8f5211994f6d3d": {
      "model_module": "@jupyter-widgets/controls",
      "model_module_version": "1.5.0",
      "model_name": "HTMLModel",
      "state": {
       "layout": "IPY_MODEL_9187cfa714a44857b3fc7ada6cbfe96c",
       "style": "IPY_MODEL_7d271623df484c36ae392e43ffc66362",
       "value": " 1875/1875 [12:01&lt;00:00,  2.60it/s]"
      }
     },
     "2865225a15b743bdbfe4e460a6f3c899": {
      "model_module": "@jupyter-widgets/base",
      "model_module_version": "1.2.0",
      "model_name": "LayoutModel",
      "state": {}
     },
     "287c80ed8a7e48578121599e8fa6786b": {
      "model_module": "@jupyter-widgets/controls",
      "model_module_version": "1.5.0",
      "model_name": "FloatProgressModel",
      "state": {
       "bar_style": "success",
       "description": "100%",
       "layout": "IPY_MODEL_212a62b7dde84a73afd749b479b348d5",
       "max": 356,
       "style": "IPY_MODEL_619cb949acae4454b0aaed249d202bc6",
       "value": 356
      }
     },
     "28b6563f24cf4eeb8f041bec3e4be04e": {
      "model_module": "@jupyter-widgets/base",
      "model_module_version": "1.2.0",
      "model_name": "LayoutModel",
      "state": {}
     },
     "28c37b8458844da29934168991a412b8": {
      "model_module": "@jupyter-widgets/base",
      "model_module_version": "1.2.0",
      "model_name": "LayoutModel",
      "state": {}
     },
     "28ebb02577a04065a11b0abaea28a577": {
      "model_module": "@jupyter-widgets/base",
      "model_module_version": "1.2.0",
      "model_name": "LayoutModel",
      "state": {}
     },
     "2a4d3baf480b4378b5b1300c8ad597e3": {
      "model_module": "@jupyter-widgets/base",
      "model_module_version": "1.2.0",
      "model_name": "LayoutModel",
      "state": {}
     },
     "2a74c5f22cc841a1bcaf2976cf7e36f8": {
      "model_module": "@jupyter-widgets/base",
      "model_module_version": "1.2.0",
      "model_name": "LayoutModel",
      "state": {}
     },
     "2ac3707746ed4cd99be8026d91c8bc6d": {
      "model_module": "@jupyter-widgets/controls",
      "model_module_version": "1.5.0",
      "model_name": "DescriptionStyleModel",
      "state": {
       "description_width": ""
      }
     },
     "2b517516d6604a728a0a71fea0576864": {
      "model_module": "@jupyter-widgets/controls",
      "model_module_version": "1.5.0",
      "model_name": "DescriptionStyleModel",
      "state": {
       "description_width": ""
      }
     },
     "2b721f5d72314f6696d411314e29b62f": {
      "model_module": "@jupyter-widgets/controls",
      "model_module_version": "1.5.0",
      "model_name": "DescriptionStyleModel",
      "state": {
       "description_width": ""
      }
     },
     "2bf370638c22458081295a6599dac976": {
      "model_module": "@jupyter-widgets/base",
      "model_module_version": "1.2.0",
      "model_name": "LayoutModel",
      "state": {}
     },
     "2c079306decb4b11b925956fff95f52c": {
      "model_module": "@jupyter-widgets/controls",
      "model_module_version": "1.5.0",
      "model_name": "HTMLModel",
      "state": {
       "layout": "IPY_MODEL_25e848a179c94bd4b69b521810068f16",
       "style": "IPY_MODEL_07ba6b885556462da33ebaa98df4b658",
       "value": " 998/998 [03:22&lt;00:00,  4.93it/s]"
      }
     },
     "2cd3d4a28f98487488df186c75660fd5": {
      "model_module": "@jupyter-widgets/controls",
      "model_module_version": "1.5.0",
      "model_name": "HTMLModel",
      "state": {
       "layout": "IPY_MODEL_e36fd354b7c14ef090bbb9167cc23597",
       "style": "IPY_MODEL_0c04599bab7744349aea3623ec535fae",
       "value": " 28/28 [02:05&lt;00:00,  4.47s/it]"
      }
     },
     "2d26c55a80934696871bfdcb7de18447": {
      "model_module": "@jupyter-widgets/controls",
      "model_module_version": "1.5.0",
      "model_name": "HTMLModel",
      "state": {
       "layout": "IPY_MODEL_e446859047a2478c906f0c1bf96d2a10",
       "style": "IPY_MODEL_fca368eebd6e4d8b974e350387912b9a",
       "value": " 518/518 [00:33&lt;00:00, 15.58it/s]"
      }
     },
     "2d4f5b2270914921acc52106b91804de": {
      "model_module": "@jupyter-widgets/controls",
      "model_module_version": "1.5.0",
      "model_name": "HTMLModel",
      "state": {
       "layout": "IPY_MODEL_3f06f286c070400d9999205a4be0f106",
       "style": "IPY_MODEL_252262296c6d4b4591044a4c477dd0da",
       "value": " 214/214 [1:38:02&lt;00:00, 27.49s/it]"
      }
     },
     "2df986ed87054ae0870b8c7fa2b32907": {
      "model_module": "@jupyter-widgets/controls",
      "model_module_version": "1.5.0",
      "model_name": "FloatProgressModel",
      "state": {
       "bar_style": "success",
       "description": "100%",
       "layout": "IPY_MODEL_cb9e2b90de6e46c7a5f8eea945abc191",
       "max": 7225,
       "style": "IPY_MODEL_5adcd4fde9de46b791560e01f2210024",
       "value": 7225
      }
     },
     "2fbe54c03aec4ab7930564504ef05c59": {
      "model_module": "@jupyter-widgets/controls",
      "model_module_version": "1.5.0",
      "model_name": "DescriptionStyleModel",
      "state": {
       "description_width": ""
      }
     },
     "306e22cdb4d84f60994792d4065f49f9": {
      "model_module": "@jupyter-widgets/controls",
      "model_module_version": "1.5.0",
      "model_name": "DescriptionStyleModel",
      "state": {
       "description_width": ""
      }
     },
     "32edb2575ed94de79d1be23fcc448984": {
      "model_module": "@jupyter-widgets/controls",
      "model_module_version": "1.5.0",
      "model_name": "DescriptionStyleModel",
      "state": {
       "description_width": ""
      }
     },
     "33520ce1ce0343bf806412160f4abe45": {
      "model_module": "@jupyter-widgets/controls",
      "model_module_version": "1.5.0",
      "model_name": "FloatProgressModel",
      "state": {
       "bar_style": "success",
       "description": "100%",
       "layout": "IPY_MODEL_71e6a203b1e6457eabd6d47f38180eed",
       "max": 214,
       "style": "IPY_MODEL_e74ca5d897674c69885af6b8b65bb9a3",
       "value": 214
      }
     },
     "3354eee2c5a44862b01bcca73d2e9e59": {
      "model_module": "@jupyter-widgets/base",
      "model_module_version": "1.2.0",
      "model_name": "LayoutModel",
      "state": {}
     },
     "335f11c283d74afdbab92324614d165a": {
      "model_module": "@jupyter-widgets/controls",
      "model_module_version": "1.5.0",
      "model_name": "DescriptionStyleModel",
      "state": {
       "description_width": ""
      }
     },
     "3373946ba60e414db33af87031ec1d38": {
      "model_module": "@jupyter-widgets/controls",
      "model_module_version": "1.5.0",
      "model_name": "DescriptionStyleModel",
      "state": {
       "description_width": ""
      }
     },
     "353d90f8bce4454f9b0570ed8ee86804": {
      "model_module": "@jupyter-widgets/controls",
      "model_module_version": "1.5.0",
      "model_name": "HTMLModel",
      "state": {
       "layout": "IPY_MODEL_e1036b9e3f124c3e965889326e5a0ee7",
       "style": "IPY_MODEL_1ecd9a8b4fef4e02aba1622f8bd2a36c",
       "value": " 60/60 [00:03&lt;00:00, 16.19it/s]"
      }
     },
     "35b0a853b7e34964aa09f9b8347d3632": {
      "model_module": "@jupyter-widgets/base",
      "model_module_version": "1.2.0",
      "model_name": "LayoutModel",
      "state": {}
     },
     "360c36b5daf246a6b889a1348d85b9b5": {
      "model_module": "@jupyter-widgets/base",
      "model_module_version": "1.2.0",
      "model_name": "LayoutModel",
      "state": {}
     },
     "370701d03b10408a928048c575a5af0a": {
      "model_module": "@jupyter-widgets/base",
      "model_module_version": "1.2.0",
      "model_name": "LayoutModel",
      "state": {}
     },
     "3812455ba1ee471f8c7d05a206c62635": {
      "model_module": "@jupyter-widgets/base",
      "model_module_version": "1.2.0",
      "model_name": "LayoutModel",
      "state": {}
     },
     "38188236e10d44939e45a6c4b924cabe": {
      "model_module": "@jupyter-widgets/controls",
      "model_module_version": "1.5.0",
      "model_name": "HTMLModel",
      "state": {
       "layout": "IPY_MODEL_63c6b30d97024b829bbd573cadc91da9",
       "style": "IPY_MODEL_ca06011fa6cc473cab930003e2fca8d5",
       "value": " 7225/7225 [1:11:33&lt;00:00,  1.68it/s]"
      }
     },
     "38314a5fe46047248e4ffc554354fe86": {
      "model_module": "@jupyter-widgets/controls",
      "model_module_version": "1.5.0",
      "model_name": "FloatProgressModel",
      "state": {
       "bar_style": "success",
       "description": "100%",
       "layout": "IPY_MODEL_48facfa95a8249bd82fe92b7b5da3875",
       "max": 57,
       "style": "IPY_MODEL_267734332928415b8bb97026d2f6845c",
       "value": 57
      }
     },
     "3b01e487c5fb41549d34b679f041babd": {
      "model_module": "@jupyter-widgets/base",
      "model_module_version": "1.2.0",
      "model_name": "LayoutModel",
      "state": {}
     },
     "3be16c5aada74dbfa512d49e89bdaa7d": {
      "model_module": "@jupyter-widgets/base",
      "model_module_version": "1.2.0",
      "model_name": "LayoutModel",
      "state": {}
     },
     "3cc1bb44b18845098d68181ecc2ce0e6": {
      "model_module": "@jupyter-widgets/controls",
      "model_module_version": "1.5.0",
      "model_name": "ProgressStyleModel",
      "state": {
       "description_width": "initial"
      }
     },
     "3d252e4c95ad433a8931c15c8394dd55": {
      "model_module": "@jupyter-widgets/controls",
      "model_module_version": "1.5.0",
      "model_name": "HTMLModel",
      "state": {
       "layout": "IPY_MODEL_75f0f961527747fe9679073ac1f8f514",
       "style": "IPY_MODEL_decb1794a06849d2a32760d09fe1888d",
       "value": " 46/46 [00:04&lt;00:00, 10.13it/s]"
      }
     },
     "3d4c3db8bb11426bb90a1d82a242d6c4": {
      "model_module": "@jupyter-widgets/controls",
      "model_module_version": "1.5.0",
      "model_name": "ProgressStyleModel",
      "state": {
       "description_width": "initial"
      }
     },
     "3d7f498852f2465097fbed0b81a2f355": {
      "model_module": "@jupyter-widgets/controls",
      "model_module_version": "1.5.0",
      "model_name": "HTMLModel",
      "state": {
       "layout": "IPY_MODEL_2bf370638c22458081295a6599dac976",
       "style": "IPY_MODEL_3373946ba60e414db33af87031ec1d38",
       "value": " 20/20 [00:04&lt;00:00,  4.16it/s]"
      }
     },
     "3dbea8f6d1104e2eb850fbe6b0aca6fe": {
      "model_module": "@jupyter-widgets/base",
      "model_module_version": "1.2.0",
      "model_name": "LayoutModel",
      "state": {}
     },
     "3dc90827630a41d2bed22ea462288543": {
      "model_module": "@jupyter-widgets/controls",
      "model_module_version": "1.5.0",
      "model_name": "HBoxModel",
      "state": {
       "children": [
        "IPY_MODEL_a2ed35b300ff43448ad1f37945705883",
        "IPY_MODEL_bc8b7171a2024ae4aa8554f8a56c9215"
       ],
       "layout": "IPY_MODEL_5629d351b6b94f34894c9202ea9e7a93"
      }
     },
     "3e607c72766b4b4799867f74d2fda7b5": {
      "model_module": "@jupyter-widgets/base",
      "model_module_version": "1.2.0",
      "model_name": "LayoutModel",
      "state": {}
     },
     "3f06f286c070400d9999205a4be0f106": {
      "model_module": "@jupyter-widgets/base",
      "model_module_version": "1.2.0",
      "model_name": "LayoutModel",
      "state": {}
     },
     "3f38e5997f224d76a509feabbfbfbe6f": {
      "model_module": "@jupyter-widgets/controls",
      "model_module_version": "1.5.0",
      "model_name": "HBoxModel",
      "state": {
       "children": [
        "IPY_MODEL_5d59009540c64f2195ea59d95838e2cc",
        "IPY_MODEL_5ae6b4040ecd4d66bb88454c753f09b0"
       ],
       "layout": "IPY_MODEL_adf25d69240a4f7bafedd4abbade7b38"
      }
     },
     "3f52a151933e4c929c2fcc1259dc8e94": {
      "model_module": "@jupyter-widgets/controls",
      "model_module_version": "1.5.0",
      "model_name": "FloatProgressModel",
      "state": {
       "bar_style": "success",
       "description": "100%",
       "layout": "IPY_MODEL_66e632e53df649f285e6ed9f24b75452",
       "max": 998,
       "style": "IPY_MODEL_a466e0fbd3044f1595e02930dd953058",
       "value": 998
      }
     },
     "3f9bbefcd81b4c219b9988cf351d5d36": {
      "model_module": "@jupyter-widgets/base",
      "model_module_version": "1.2.0",
      "model_name": "LayoutModel",
      "state": {}
     },
     "3fc6183fbc9945659376d788b9edfc95": {
      "model_module": "@jupyter-widgets/controls",
      "model_module_version": "1.5.0",
      "model_name": "FloatProgressModel",
      "state": {
       "bar_style": "success",
       "description": "100%",
       "layout": "IPY_MODEL_f5db07290f0540d3b8f2c0a7aa5060a0",
       "max": 28,
       "style": "IPY_MODEL_e728224d32b04d7c9beeddeb2b032234",
       "value": 28
      }
     },
     "40a2c851f8d64f08a6dd1834c910eaf0": {
      "model_module": "@jupyter-widgets/controls",
      "model_module_version": "1.5.0",
      "model_name": "FloatProgressModel",
      "state": {
       "bar_style": "success",
       "description": "100%",
       "layout": "IPY_MODEL_6c7e5a5640fc4b1e95394ac8b20428ac",
       "max": 271,
       "style": "IPY_MODEL_fb4ef7f9e5224d9f8c40d8a5e115f393",
       "value": 271
      }
     },
     "40e0de02e52f4c49a88fdd69761277c7": {
      "model_module": "@jupyter-widgets/controls",
      "model_module_version": "1.5.0",
      "model_name": "HBoxModel",
      "state": {
       "children": [
        "IPY_MODEL_db4c66abcc2c4699a61eecd4cb69c7c2",
        "IPY_MODEL_a264def7414e4426a3fd266aefab07e0"
       ],
       "layout": "IPY_MODEL_28b6563f24cf4eeb8f041bec3e4be04e"
      }
     },
     "40f0761fbdee49b7bd128fbf03c137bb": {
      "model_module": "@jupyter-widgets/controls",
      "model_module_version": "1.5.0",
      "model_name": "HTMLModel",
      "state": {
       "layout": "IPY_MODEL_ff682e7a7cb5424295c41d92cdda47fe",
       "style": "IPY_MODEL_2b517516d6604a728a0a71fea0576864",
       "value": " 18/18 [00:10&lt;00:00,  1.74it/s]"
      }
     },
     "41b618a59e3e4708837e5bb707a02559": {
      "model_module": "@jupyter-widgets/base",
      "model_module_version": "1.2.0",
      "model_name": "LayoutModel",
      "state": {}
     },
     "41ce9a4c9aff4582a95de381fcaa4dbe": {
      "model_module": "@jupyter-widgets/controls",
      "model_module_version": "1.5.0",
      "model_name": "HTMLModel",
      "state": {
       "layout": "IPY_MODEL_9ca8099b1fae4f63b73b55bb102b46d1",
       "style": "IPY_MODEL_4a2b5ce5b50a42c0bf0c77f2c13fd3ea",
       "value": " 72/72 [00:09&lt;00:00,  7.76it/s]"
      }
     },
     "420c77e4aa324340a841f766441f943b": {
      "model_module": "@jupyter-widgets/controls",
      "model_module_version": "1.5.0",
      "model_name": "ProgressStyleModel",
      "state": {
       "description_width": "initial"
      }
     },
     "4223ef1d650548729a8b0d0bcc879fdf": {
      "model_module": "@jupyter-widgets/base",
      "model_module_version": "1.2.0",
      "model_name": "LayoutModel",
      "state": {}
     },
     "4281a8d200744e89949c1c12a55c0b79": {
      "model_module": "@jupyter-widgets/controls",
      "model_module_version": "1.5.0",
      "model_name": "ProgressStyleModel",
      "state": {
       "description_width": "initial"
      }
     },
     "428b4838df194ad3b4375b62bcab4753": {
      "model_module": "@jupyter-widgets/controls",
      "model_module_version": "1.5.0",
      "model_name": "HTMLModel",
      "state": {
       "layout": "IPY_MODEL_b0732e83e17c4a0d9b2419b4ef8bf6fb",
       "style": "IPY_MODEL_e3950ebd1ced442e9983fcd3d7c94995",
       "value": " 111/111 [00:03&lt;00:00, 28.53it/s]"
      }
     },
     "438c3bcaec774ef185dc031f50390a2e": {
      "model_module": "@jupyter-widgets/base",
      "model_module_version": "1.2.0",
      "model_name": "LayoutModel",
      "state": {}
     },
     "43a136d15ed14b339ec9e2bd720f7ea6": {
      "model_module": "@jupyter-widgets/base",
      "model_module_version": "1.2.0",
      "model_name": "LayoutModel",
      "state": {}
     },
     "44b935ecfc8b43e881e3dbd726062fa3": {
      "model_module": "@jupyter-widgets/controls",
      "model_module_version": "1.5.0",
      "model_name": "DescriptionStyleModel",
      "state": {
       "description_width": ""
      }
     },
     "44bbaecdc00d4692a15bb13d3a7c3bc8": {
      "model_module": "@jupyter-widgets/base",
      "model_module_version": "1.2.0",
      "model_name": "LayoutModel",
      "state": {}
     },
     "44e15eb6b244438e928fe9f0daa01c09": {
      "model_module": "@jupyter-widgets/base",
      "model_module_version": "1.2.0",
      "model_name": "LayoutModel",
      "state": {}
     },
     "44ff66e417394b5e8df498bc2ba054c2": {
      "model_module": "@jupyter-widgets/base",
      "model_module_version": "1.2.0",
      "model_name": "LayoutModel",
      "state": {}
     },
     "4527d155115547f89481bd2c356ff246": {
      "model_module": "@jupyter-widgets/base",
      "model_module_version": "1.2.0",
      "model_name": "LayoutModel",
      "state": {}
     },
     "459b8e13039545f5a2ebbaeaaa824e96": {
      "model_module": "@jupyter-widgets/base",
      "model_module_version": "1.2.0",
      "model_name": "LayoutModel",
      "state": {}
     },
     "45acba9468164da2a4436892af9a7be5": {
      "model_module": "@jupyter-widgets/base",
      "model_module_version": "1.2.0",
      "model_name": "LayoutModel",
      "state": {}
     },
     "46508d694ba34313921315beae1f7e5c": {
      "model_module": "@jupyter-widgets/controls",
      "model_module_version": "1.5.0",
      "model_name": "ProgressStyleModel",
      "state": {
       "description_width": "initial"
      }
     },
     "47aa8549a13f475faf41ca6c69a1df12": {
      "model_module": "@jupyter-widgets/controls",
      "model_module_version": "1.5.0",
      "model_name": "HBoxModel",
      "state": {
       "children": [
        "IPY_MODEL_f4a8282ba3b04cb2a34deddff8e9ddc4",
        "IPY_MODEL_03988c86fc4d4b4487fce5551013749d"
       ],
       "layout": "IPY_MODEL_138d16b774c744bcb3fb4a0065ea4cc6"
      }
     },
     "48facfa95a8249bd82fe92b7b5da3875": {
      "model_module": "@jupyter-widgets/base",
      "model_module_version": "1.2.0",
      "model_name": "LayoutModel",
      "state": {}
     },
     "49208e3aefa34ac89f8c545022884ef8": {
      "model_module": "@jupyter-widgets/controls",
      "model_module_version": "1.5.0",
      "model_name": "HTMLModel",
      "state": {
       "layout": "IPY_MODEL_c66375d1e7454af5bbb68b551fcbdbac",
       "style": "IPY_MODEL_eded78b84a6348d98e7b9ce4857e228d",
       "value": " 875/875 [01:40&lt;00:00,  8.71it/s]"
      }
     },
     "495a94dc113341ba809a2ba281f8bf0e": {
      "model_module": "@jupyter-widgets/controls",
      "model_module_version": "1.5.0",
      "model_name": "HTMLModel",
      "state": {
       "layout": "IPY_MODEL_f2faa87cc8ec4e378e1cb0c61fcc5c35",
       "style": "IPY_MODEL_fbbc9c29b3e54d878b3748ea110fcf6c",
       "value": " 479/479 [00:29&lt;00:00, 16.42it/s]"
      }
     },
     "497d6367614a4b5782ce9338e13e0fa5": {
      "model_module": "@jupyter-widgets/controls",
      "model_module_version": "1.5.0",
      "model_name": "HTMLModel",
      "state": {
       "layout": "IPY_MODEL_92f825abb36549ddbbafc2b80d5166cc",
       "style": "IPY_MODEL_44b935ecfc8b43e881e3dbd726062fa3",
       "value": " 210/210 [00:18&lt;00:00, 11.17it/s]"
      }
     },
     "4a2b5ce5b50a42c0bf0c77f2c13fd3ea": {
      "model_module": "@jupyter-widgets/controls",
      "model_module_version": "1.5.0",
      "model_name": "DescriptionStyleModel",
      "state": {
       "description_width": ""
      }
     },
     "4aa04f6bc4fd4a64bfc41a27834d27d4": {
      "model_module": "@jupyter-widgets/controls",
      "model_module_version": "1.5.0",
      "model_name": "DescriptionStyleModel",
      "state": {
       "description_width": ""
      }
     },
     "4b57e29d1dea4aec8d1f4582763cc5c3": {
      "model_module": "@jupyter-widgets/controls",
      "model_module_version": "1.5.0",
      "model_name": "FloatProgressModel",
      "state": {
       "bar_style": "success",
       "description": "100%",
       "layout": "IPY_MODEL_0302975b69434dd6b1b23b65b4e5c470",
       "max": 38,
       "style": "IPY_MODEL_b9c8d6f27f44468bb952800649680a77",
       "value": 38
      }
     },
     "4b8a3ba98f3742eba59b09afc83f83bf": {
      "model_module": "@jupyter-widgets/controls",
      "model_module_version": "1.5.0",
      "model_name": "HBoxModel",
      "state": {
       "children": [
        "IPY_MODEL_b2a8eedf790b4b77b7fbc33698d5d9b5",
        "IPY_MODEL_633541505ec845dd80d39ef7e5953c18"
       ],
       "layout": "IPY_MODEL_1f32b992d2834424bedd07ee48729024"
      }
     },
     "4c0ee04abb554d4a86a749499f4aa759": {
      "model_module": "@jupyter-widgets/controls",
      "model_module_version": "1.5.0",
      "model_name": "HTMLModel",
      "state": {
       "layout": "IPY_MODEL_d96adeadba2d494d9908f7e94c330764",
       "style": "IPY_MODEL_cbf9fc6dfc2f4b61abbeae922ee56eb9",
       "value": " 28/28 [01:38&lt;00:00,  3.50s/it]"
      }
     },
     "4e6eabac3a3447319b2f9cef68bf4cab": {
      "model_module": "@jupyter-widgets/controls",
      "model_module_version": "1.5.0",
      "model_name": "FloatProgressModel",
      "state": {
       "bar_style": "success",
       "description": "100%",
       "layout": "IPY_MODEL_2865225a15b743bdbfe4e460a6f3c899",
       "max": 1573,
       "style": "IPY_MODEL_aa3a3f1a168e4afda129cc19797355de",
       "value": 1573
      }
     },
     "4e855d00591b4f808d2ef11158e2e58d": {
      "model_module": "@jupyter-widgets/controls",
      "model_module_version": "1.5.0",
      "model_name": "DescriptionStyleModel",
      "state": {
       "description_width": ""
      }
     },
     "4e99c5c9715943529b2a299794dda9bc": {
      "model_module": "@jupyter-widgets/controls",
      "model_module_version": "1.5.0",
      "model_name": "HBoxModel",
      "state": {
       "children": [
        "IPY_MODEL_6c3ac62e29e4426986282f0b2af5cac4",
        "IPY_MODEL_6ebb5fb89d124b3b9917671c3c6191af"
       ],
       "layout": "IPY_MODEL_b04aa3903ccc4c428aaba009c32ea88e"
      }
     },
     "4ef6283c617f4beeb9422607832e66ed": {
      "model_module": "@jupyter-widgets/base",
      "model_module_version": "1.2.0",
      "model_name": "LayoutModel",
      "state": {}
     },
     "4f2afa58d45846abb58d1f742f6e2056": {
      "model_module": "@jupyter-widgets/controls",
      "model_module_version": "1.5.0",
      "model_name": "FloatProgressModel",
      "state": {
       "bar_style": "success",
       "description": "100%",
       "layout": "IPY_MODEL_afe124db199b4ba89de4e9d888e920f1",
       "max": 139,
       "style": "IPY_MODEL_5ed73bd1c96848e8b7657d278509decf",
       "value": 139
      }
     },
     "4fd64d42e2a741658a7a21ff31507298": {
      "model_module": "@jupyter-widgets/controls",
      "model_module_version": "1.5.0",
      "model_name": "FloatProgressModel",
      "state": {
       "bar_style": "success",
       "description": "100%",
       "layout": "IPY_MODEL_ab44e997c8f34e38bbe634fcf141372f",
       "max": 28,
       "style": "IPY_MODEL_4281a8d200744e89949c1c12a55c0b79",
       "value": 28
      }
     },
     "5013d392eef84c6184893e20216ad992": {
      "model_module": "@jupyter-widgets/controls",
      "model_module_version": "1.5.0",
      "model_name": "DescriptionStyleModel",
      "state": {
       "description_width": ""
      }
     },
     "505ac75af4624c8a9ab028f365b99b5e": {
      "model_module": "@jupyter-widgets/controls",
      "model_module_version": "1.5.0",
      "model_name": "ProgressStyleModel",
      "state": {
       "description_width": "initial"
      }
     },
     "5146d4601ba549978a3384b10cafcc1b": {
      "model_module": "@jupyter-widgets/base",
      "model_module_version": "1.2.0",
      "model_name": "LayoutModel",
      "state": {}
     },
     "5167ed82c22d4dc9a9efe628fd6731d2": {
      "model_module": "@jupyter-widgets/base",
      "model_module_version": "1.2.0",
      "model_name": "LayoutModel",
      "state": {}
     },
     "522dd3868e414565aa5edd0e63cf0fb7": {
      "model_module": "@jupyter-widgets/base",
      "model_module_version": "1.2.0",
      "model_name": "LayoutModel",
      "state": {}
     },
     "5367c4a13a3d47968b4268511e9ffdf9": {
      "model_module": "@jupyter-widgets/controls",
      "model_module_version": "1.5.0",
      "model_name": "HBoxModel",
      "state": {
       "children": [
        "IPY_MODEL_169c6ee0e30344dfa903af66242f081b",
        "IPY_MODEL_ebd7afcbb229474f9d17373678381033"
       ],
       "layout": "IPY_MODEL_14080b62bf1b446b80811e7f320d210d"
      }
     },
     "53f9e64176af47a1ba70dfa0df3e9806": {
      "model_module": "@jupyter-widgets/controls",
      "model_module_version": "1.5.0",
      "model_name": "HTMLModel",
      "state": {
       "layout": "IPY_MODEL_064fe6a58cdd43cb829053198604e061",
       "style": "IPY_MODEL_daeba99083c04118af698a3cd198f02d",
       "value": " 25/25 [00:02&lt;00:00,  9.21it/s]"
      }
     },
     "5406234e391444c4a2bc5c5b69bab1b5": {
      "model_module": "@jupyter-widgets/controls",
      "model_module_version": "1.5.0",
      "model_name": "FloatProgressModel",
      "state": {
       "bar_style": "success",
       "description": "100%",
       "layout": "IPY_MODEL_925e891f84bc4e289f1fccfcf7bf0e09",
       "max": 28,
       "style": "IPY_MODEL_addfc508f72b406481392c68c826547b",
       "value": 28
      }
     },
     "54c46507d15a4f2a9317db9ac7849468": {
      "model_module": "@jupyter-widgets/controls",
      "model_module_version": "1.5.0",
      "model_name": "ProgressStyleModel",
      "state": {
       "description_width": "initial"
      }
     },
     "551f25f5d4e34111a54e4b01bc0853b8": {
      "model_module": "@jupyter-widgets/base",
      "model_module_version": "1.2.0",
      "model_name": "LayoutModel",
      "state": {}
     },
     "5621eaeac0874f81a169b86876d57f13": {
      "model_module": "@jupyter-widgets/controls",
      "model_module_version": "1.5.0",
      "model_name": "FloatProgressModel",
      "state": {
       "bar_style": "success",
       "description": "100%",
       "layout": "IPY_MODEL_551f25f5d4e34111a54e4b01bc0853b8",
       "max": 285,
       "style": "IPY_MODEL_7969747652ad47f1a96dc90c259234cb",
       "value": 285
      }
     },
     "5629d351b6b94f34894c9202ea9e7a93": {
      "model_module": "@jupyter-widgets/base",
      "model_module_version": "1.2.0",
      "model_name": "LayoutModel",
      "state": {}
     },
     "563f80cce143495f891e01af54ccd6f5": {
      "model_module": "@jupyter-widgets/base",
      "model_module_version": "1.2.0",
      "model_name": "LayoutModel",
      "state": {}
     },
     "567e21b05c2549a4b7c8294a659957d7": {
      "model_module": "@jupyter-widgets/base",
      "model_module_version": "1.2.0",
      "model_name": "LayoutModel",
      "state": {}
     },
     "56c258f5e1ff49f9bf2d27e6179f43fa": {
      "model_module": "@jupyter-widgets/controls",
      "model_module_version": "1.5.0",
      "model_name": "FloatProgressModel",
      "state": {
       "bar_style": "success",
       "description": "100%",
       "layout": "IPY_MODEL_3dbea8f6d1104e2eb850fbe6b0aca6fe",
       "max": 112,
       "style": "IPY_MODEL_a614d57055bd452ba7acef98b4fb10a2",
       "value": 112
      }
     },
     "56d7ff55cd0a446d8393acaca716644a": {
      "model_module": "@jupyter-widgets/controls",
      "model_module_version": "1.5.0",
      "model_name": "FloatProgressModel",
      "state": {
       "bar_style": "success",
       "description": "100%",
       "layout": "IPY_MODEL_c8ae35e4eab240a2b813dcfa62d9f897",
       "max": 348,
       "style": "IPY_MODEL_7e41bbaab7c94da6a6f7446f80f3323c",
       "value": 348
      }
     },
     "56df3fdddceb4eb5bfabdd5c8ed8f84c": {
      "model_module": "@jupyter-widgets/controls",
      "model_module_version": "1.5.0",
      "model_name": "HBoxModel",
      "state": {
       "children": [
        "IPY_MODEL_f4ff6c96537248d38c773b6ed43b1cf5",
        "IPY_MODEL_353d90f8bce4454f9b0570ed8ee86804"
       ],
       "layout": "IPY_MODEL_b288fb59929f435da9ac6cfdf3c2fba4"
      }
     },
     "56e0066469d84b1d9e314b726e0fe5b7": {
      "model_module": "@jupyter-widgets/controls",
      "model_module_version": "1.5.0",
      "model_name": "DescriptionStyleModel",
      "state": {
       "description_width": ""
      }
     },
     "57c18985d7c04be1a643d8057726138f": {
      "model_module": "@jupyter-widgets/base",
      "model_module_version": "1.2.0",
      "model_name": "LayoutModel",
      "state": {}
     },
     "5802b86a1885416584293e12bcf3b872": {
      "model_module": "@jupyter-widgets/controls",
      "model_module_version": "1.5.0",
      "model_name": "ProgressStyleModel",
      "state": {
       "description_width": "initial"
      }
     },
     "580768394d62417d82dd4fd1c921d9ef": {
      "model_module": "@jupyter-widgets/base",
      "model_module_version": "1.2.0",
      "model_name": "LayoutModel",
      "state": {}
     },
     "5886782b856447bcb5a3c2e2f56d0354": {
      "model_module": "@jupyter-widgets/controls",
      "model_module_version": "1.5.0",
      "model_name": "FloatProgressModel",
      "state": {
       "bar_style": "success",
       "description": "100%",
       "layout": "IPY_MODEL_acddcf1b767d4380a842619ed17bc3a2",
       "max": 72,
       "style": "IPY_MODEL_916dd96a907f47fc840c1a723c7df475",
       "value": 72
      }
     },
     "58e78b4a49c446729b23d600163d1782": {
      "model_module": "@jupyter-widgets/controls",
      "model_module_version": "1.5.0",
      "model_name": "HBoxModel",
      "state": {
       "children": [
        "IPY_MODEL_38314a5fe46047248e4ffc554354fe86",
        "IPY_MODEL_a645c73456554ca391ea97213b304d2d"
       ],
       "layout": "IPY_MODEL_1c1851c9f5c34ba7b9c1a17f7d9ca18b"
      }
     },
     "5944c34017f24b07a43ed77cc676b781": {
      "model_module": "@jupyter-widgets/base",
      "model_module_version": "1.2.0",
      "model_name": "LayoutModel",
      "state": {}
     },
     "59dd8d0586734008b1b60495682250f0": {
      "model_module": "@jupyter-widgets/controls",
      "model_module_version": "1.5.0",
      "model_name": "ProgressStyleModel",
      "state": {
       "description_width": "initial"
      }
     },
     "5a37988ad25a4151956c9c2edf837808": {
      "model_module": "@jupyter-widgets/controls",
      "model_module_version": "1.5.0",
      "model_name": "HBoxModel",
      "state": {
       "children": [
        "IPY_MODEL_b21d01deb0784dfeb835899af86eae90",
        "IPY_MODEL_bc54410b74344f979930ecfdb5a4d738"
       ],
       "layout": "IPY_MODEL_5da7572d8f0b4ba089e6628f0b2551c3"
      }
     },
     "5a3a85e2c42a4457b64ef524269e4c0d": {
      "model_module": "@jupyter-widgets/controls",
      "model_module_version": "1.5.0",
      "model_name": "ProgressStyleModel",
      "state": {
       "description_width": "initial"
      }
     },
     "5aa0fd8d481d44fcbd9a96546aab2339": {
      "model_module": "@jupyter-widgets/base",
      "model_module_version": "1.2.0",
      "model_name": "LayoutModel",
      "state": {}
     },
     "5adcd4fde9de46b791560e01f2210024": {
      "model_module": "@jupyter-widgets/controls",
      "model_module_version": "1.5.0",
      "model_name": "ProgressStyleModel",
      "state": {
       "description_width": "initial"
      }
     },
     "5ae6b4040ecd4d66bb88454c753f09b0": {
      "model_module": "@jupyter-widgets/controls",
      "model_module_version": "1.5.0",
      "model_name": "HTMLModel",
      "state": {
       "layout": "IPY_MODEL_d11493b605c84ac3b0a50547fc850cc4",
       "style": "IPY_MODEL_b09be940260141558448289926b2d243",
       "value": " 214/214 [04:40&lt;00:00,  1.31s/it]"
      }
     },
     "5b3d377b19a14073b68526813102690e": {
      "model_module": "@jupyter-widgets/controls",
      "model_module_version": "1.5.0",
      "model_name": "ProgressStyleModel",
      "state": {
       "description_width": "initial"
      }
     },
     "5b723328222549e0b063f33dca9cd801": {
      "model_module": "@jupyter-widgets/base",
      "model_module_version": "1.2.0",
      "model_name": "LayoutModel",
      "state": {}
     },
     "5b7947dd396d45eca0f5441f9d122dd2": {
      "model_module": "@jupyter-widgets/controls",
      "model_module_version": "1.5.0",
      "model_name": "FloatProgressModel",
      "state": {
       "bar_style": "success",
       "description": "100%",
       "layout": "IPY_MODEL_01ec556249744c08ab8b9c97be22a67b",
       "max": 151,
       "style": "IPY_MODEL_1edf7018bbaa4a6686ce515164ad7cd0",
       "value": 151
      }
     },
     "5b965fcfa9284822b0fe41ce5db7d96e": {
      "model_module": "@jupyter-widgets/controls",
      "model_module_version": "1.5.0",
      "model_name": "HTMLModel",
      "state": {
       "layout": "IPY_MODEL_89fd9a49026f475fb936d5b7b09df87c",
       "style": "IPY_MODEL_9c3d935985174158bb68af714f5b9ad5",
       "value": " 7225/7225 [53:01&lt;00:00,  2.27it/s]"
      }
     },
     "5c23589b86584c948bcd0b008b584ff6": {
      "model_module": "@jupyter-widgets/controls",
      "model_module_version": "1.5.0",
      "model_name": "HBoxModel",
      "state": {
       "children": [
        "IPY_MODEL_e5e5fc5ee4a843a380b9159cdb605a35",
        "IPY_MODEL_fddddfdb177048789409c3c1773c6938"
       ],
       "layout": "IPY_MODEL_ea8771df7a884a09819fe7fcf9ec5972"
      }
     },
     "5c3e604423eb423eb7247d12bedfcce6": {
      "model_module": "@jupyter-widgets/base",
      "model_module_version": "1.2.0",
      "model_name": "LayoutModel",
      "state": {}
     },
     "5d0979b994fc428e9a775eb76dda4560": {
      "model_module": "@jupyter-widgets/base",
      "model_module_version": "1.2.0",
      "model_name": "LayoutModel",
      "state": {}
     },
     "5d48df7c7dfd400687cfd878e2db88f4": {
      "model_module": "@jupyter-widgets/controls",
      "model_module_version": "1.5.0",
      "model_name": "DescriptionStyleModel",
      "state": {
       "description_width": ""
      }
     },
     "5d552ac3cdd34b9c96f69371b5d74d17": {
      "model_module": "@jupyter-widgets/controls",
      "model_module_version": "1.5.0",
      "model_name": "FloatProgressModel",
      "state": {
       "bar_style": "success",
       "description": "100%",
       "layout": "IPY_MODEL_b34a743e573c483d8e4569539d19d466",
       "max": 256,
       "style": "IPY_MODEL_7104e4d85a9740c89a650f94c9091cf7",
       "value": 256
      }
     },
     "5d59009540c64f2195ea59d95838e2cc": {
      "model_module": "@jupyter-widgets/controls",
      "model_module_version": "1.5.0",
      "model_name": "FloatProgressModel",
      "state": {
       "bar_style": "success",
       "description": "100%",
       "layout": "IPY_MODEL_9fdfe6aeaaf645998c51576922bf64ef",
       "max": 214,
       "style": "IPY_MODEL_bf22081cabb84a4ebfab6961a3c7f468",
       "value": 214
      }
     },
     "5da7572d8f0b4ba089e6628f0b2551c3": {
      "model_module": "@jupyter-widgets/base",
      "model_module_version": "1.2.0",
      "model_name": "LayoutModel",
      "state": {}
     },
     "5e56a4f9f75749859e482d15b021ffe8": {
      "model_module": "@jupyter-widgets/base",
      "model_module_version": "1.2.0",
      "model_name": "LayoutModel",
      "state": {}
     },
     "5e954ea7b40d4e6296a5832a800f5d32": {
      "model_module": "@jupyter-widgets/base",
      "model_module_version": "1.2.0",
      "model_name": "LayoutModel",
      "state": {}
     },
     "5ed00976a6624c0f9ee9e23901c1c51a": {
      "model_module": "@jupyter-widgets/controls",
      "model_module_version": "1.5.0",
      "model_name": "FloatProgressModel",
      "state": {
       "bar_style": "success",
       "description": "100%",
       "layout": "IPY_MODEL_d9ad89383e8f4b2c89c741a31967ebb0",
       "max": 240,
       "style": "IPY_MODEL_a3ed91253f2a417a868cf933cea68e0e",
       "value": 240
      }
     },
     "5ed73bd1c96848e8b7657d278509decf": {
      "model_module": "@jupyter-widgets/controls",
      "model_module_version": "1.5.0",
      "model_name": "ProgressStyleModel",
      "state": {
       "description_width": "initial"
      }
     },
     "5f1a1ef4baf24e8e9e94e470013fbad0": {
      "model_module": "@jupyter-widgets/controls",
      "model_module_version": "1.5.0",
      "model_name": "HBoxModel",
      "state": {
       "children": [
        "IPY_MODEL_c39e83d201a449e1bfa491f5ac9283f7",
        "IPY_MODEL_7ec82d0d7cb94afb9c3cdd544173f658"
       ],
       "layout": "IPY_MODEL_1b42cb1b2e8a4f72bbe0a94214b15ac7"
      }
     },
     "5f63c6ce33ca4fb8aab0a8e4458b2155": {
      "model_module": "@jupyter-widgets/controls",
      "model_module_version": "1.5.0",
      "model_name": "HBoxModel",
      "state": {
       "children": [
        "IPY_MODEL_4f2afa58d45846abb58d1f742f6e2056",
        "IPY_MODEL_6d93cab2c8d34e32b7aae253a3fc7df4"
       ],
       "layout": "IPY_MODEL_10c7583d76944307a00f155b8963fbd1"
      }
     },
     "5fa5d17d986047cc8fcc4a65aec38644": {
      "model_module": "@jupyter-widgets/controls",
      "model_module_version": "1.5.0",
      "model_name": "HBoxModel",
      "state": {
       "children": [
        "IPY_MODEL_1c4cfbc610984d3abd173116b37edb5d",
        "IPY_MODEL_cce531fafb074063b211690f8d35eac3"
       ],
       "layout": "IPY_MODEL_c2ed5a6b2bd94ad88860d670e11ffbbf"
      }
     },
     "5ffa9c5c593b4d4487137068b760f59c": {
      "model_module": "@jupyter-widgets/base",
      "model_module_version": "1.2.0",
      "model_name": "LayoutModel",
      "state": {}
     },
     "619cb949acae4454b0aaed249d202bc6": {
      "model_module": "@jupyter-widgets/controls",
      "model_module_version": "1.5.0",
      "model_name": "ProgressStyleModel",
      "state": {
       "description_width": "initial"
      }
     },
     "61f106c199554f25ac4be8968fd9b4c3": {
      "model_module": "@jupyter-widgets/controls",
      "model_module_version": "1.5.0",
      "model_name": "HTMLModel",
      "state": {
       "layout": "IPY_MODEL_360c36b5daf246a6b889a1348d85b9b5",
       "style": "IPY_MODEL_264ee283f96149de9d95702f0640914b",
       "value": " 123/123 [00:07&lt;00:00, 17.51it/s]"
      }
     },
     "62149470ec94406f910d6bd51ae71a26": {
      "model_module": "@jupyter-widgets/controls",
      "model_module_version": "1.5.0",
      "model_name": "HBoxModel",
      "state": {
       "children": [
        "IPY_MODEL_3f52a151933e4c929c2fcc1259dc8e94",
        "IPY_MODEL_2c079306decb4b11b925956fff95f52c"
       ],
       "layout": "IPY_MODEL_95b49cca7ba74eb588851927acc578b1"
      }
     },
     "6215ab9d8da147959bb6ba4b901491cc": {
      "model_module": "@jupyter-widgets/base",
      "model_module_version": "1.2.0",
      "model_name": "LayoutModel",
      "state": {}
     },
     "6280e3c6c9914dcdaf25cf7bc098357b": {
      "model_module": "@jupyter-widgets/controls",
      "model_module_version": "1.5.0",
      "model_name": "ProgressStyleModel",
      "state": {
       "description_width": "initial"
      }
     },
     "633541505ec845dd80d39ef7e5953c18": {
      "model_module": "@jupyter-widgets/controls",
      "model_module_version": "1.5.0",
      "model_name": "HTMLModel",
      "state": {
       "layout": "IPY_MODEL_c15602977de043c3a3e95a0f05de8858",
       "style": "IPY_MODEL_f836aa8f2fff4c32888b34f227dad374",
       "value": " 28/28 [00:09&lt;00:00,  2.89it/s]"
      }
     },
     "639eb2dcba7f4bbd960f33043a743727": {
      "model_module": "@jupyter-widgets/controls",
      "model_module_version": "1.5.0",
      "model_name": "HTMLModel",
      "state": {
       "layout": "IPY_MODEL_c61fdb5b4ef1438f918f2d8d55e27459",
       "style": "IPY_MODEL_009c806b91e947ae81a28f4b222388f1",
       "value": " 1573/1573 [07:40&lt;00:00,  3.42it/s]"
      }
     },
     "63c6b30d97024b829bbd573cadc91da9": {
      "model_module": "@jupyter-widgets/base",
      "model_module_version": "1.2.0",
      "model_name": "LayoutModel",
      "state": {}
     },
     "642b85c2d0904abe8ac0e7a522b9bad0": {
      "model_module": "@jupyter-widgets/base",
      "model_module_version": "1.2.0",
      "model_name": "LayoutModel",
      "state": {}
     },
     "65557ebe18af43fb8372efefe4d1caa8": {
      "model_module": "@jupyter-widgets/controls",
      "model_module_version": "1.5.0",
      "model_name": "ProgressStyleModel",
      "state": {
       "description_width": "initial"
      }
     },
     "660729e72a64410099011f7c277f785b": {
      "model_module": "@jupyter-widgets/controls",
      "model_module_version": "1.5.0",
      "model_name": "HBoxModel",
      "state": {
       "children": [
        "IPY_MODEL_6f7cb6cb6dea4252a9b4f1081a76c8a3",
        "IPY_MODEL_497d6367614a4b5782ce9338e13e0fa5"
       ],
       "layout": "IPY_MODEL_2a4d3baf480b4378b5b1300c8ad597e3"
      }
     },
     "660a9e546dc647389ca22dfa294884ed": {
      "model_module": "@jupyter-widgets/controls",
      "model_module_version": "1.5.0",
      "model_name": "DescriptionStyleModel",
      "state": {
       "description_width": ""
      }
     },
     "66721b2d5cf148f8af0867bfb5c32a64": {
      "model_module": "@jupyter-widgets/base",
      "model_module_version": "1.2.0",
      "model_name": "LayoutModel",
      "state": {}
     },
     "66ac2375c168496d936637d423e2b2ab": {
      "model_module": "@jupyter-widgets/controls",
      "model_module_version": "1.5.0",
      "model_name": "HBoxModel",
      "state": {
       "children": [
        "IPY_MODEL_f45fbc7fda22495bb5a5ba616dcc8bf5",
        "IPY_MODEL_0ea42933b0e74c45a459051be81006a9"
       ],
       "layout": "IPY_MODEL_c2fc39d518574b2cb110b601e908458f"
      }
     },
     "66e632e53df649f285e6ed9f24b75452": {
      "model_module": "@jupyter-widgets/base",
      "model_module_version": "1.2.0",
      "model_name": "LayoutModel",
      "state": {}
     },
     "6774749aca5e4f5eb8ed2ca206c248f7": {
      "model_module": "@jupyter-widgets/controls",
      "model_module_version": "1.5.0",
      "model_name": "FloatProgressModel",
      "state": {
       "bar_style": "success",
       "description": "100%",
       "layout": "IPY_MODEL_ffa1661ba2194ec7bab70883e2f6745f",
       "max": 26,
       "style": "IPY_MODEL_78151a4502474b289a19c9f9d95ab4df",
       "value": 26
      }
     },
     "67779645d18441fbaafe44c02252f35e": {
      "model_module": "@jupyter-widgets/controls",
      "model_module_version": "1.5.0",
      "model_name": "HTMLModel",
      "state": {
       "layout": "IPY_MODEL_370701d03b10408a928048c575a5af0a",
       "style": "IPY_MODEL_862f317a5f8d48c9ab416fc75c9aec46",
       "value": " 1430/1430 [09:19&lt;00:00,  2.56it/s]"
      }
     },
     "67e97ca95c984bc1b8a587d6a19f09a6": {
      "model_module": "@jupyter-widgets/controls",
      "model_module_version": "1.5.0",
      "model_name": "HBoxModel",
      "state": {
       "children": [
        "IPY_MODEL_6c575be506dd46ba87ef05f19a33d648",
        "IPY_MODEL_b281f018407e45bea5bee02135f7ca0a"
       ],
       "layout": "IPY_MODEL_5e56a4f9f75749859e482d15b021ffe8"
      }
     },
     "6810cd1b5d6d40769d5aded56f792971": {
      "model_module": "@jupyter-widgets/controls",
      "model_module_version": "1.5.0",
      "model_name": "HBoxModel",
      "state": {
       "children": [
        "IPY_MODEL_7ee381e4e45d4133bfc94a1f35e750f7",
        "IPY_MODEL_41ce9a4c9aff4582a95de381fcaa4dbe"
       ],
       "layout": "IPY_MODEL_127f18731de64fcf9a2c0355435d58e2"
      }
     },
     "6885d6f548024bae999a4dc8bd0624df": {
      "model_module": "@jupyter-widgets/base",
      "model_module_version": "1.2.0",
      "model_name": "LayoutModel",
      "state": {}
     },
     "688c19c4adf941fb9b0f2ca8618a56fc": {
      "model_module": "@jupyter-widgets/controls",
      "model_module_version": "1.5.0",
      "model_name": "DescriptionStyleModel",
      "state": {
       "description_width": ""
      }
     },
     "68eb4df6645b4a9f8725f481c6932714": {
      "model_module": "@jupyter-widgets/controls",
      "model_module_version": "1.5.0",
      "model_name": "HTMLModel",
      "state": {
       "layout": "IPY_MODEL_23975b243fd947f69038b019bb72d91d",
       "style": "IPY_MODEL_81648cf063dd4830a55377de531e6381",
       "value": " 29/29 [00:02&lt;00:00, 13.19it/s]"
      }
     },
     "691d2e6c895542698ab83365120b15eb": {
      "model_module": "@jupyter-widgets/base",
      "model_module_version": "1.2.0",
      "model_name": "LayoutModel",
      "state": {}
     },
     "6a19e2566e4b4cec9592224e6032d883": {
      "model_module": "@jupyter-widgets/base",
      "model_module_version": "1.2.0",
      "model_name": "LayoutModel",
      "state": {}
     },
     "6a34dae29bf940bb883c91f9e5cc8e86": {
      "model_module": "@jupyter-widgets/controls",
      "model_module_version": "1.5.0",
      "model_name": "HTMLModel",
      "state": {
       "layout": "IPY_MODEL_e436e1f418ab4be4b8f9c93e0000f004",
       "style": "IPY_MODEL_ca2f505910614917baeaa620dcb48b62",
       "value": " 285/285 [00:15&lt;00:00, 17.97it/s]"
      }
     },
     "6a673b37d60c4afab55a0a5d6aa9c5c1": {
      "model_module": "@jupyter-widgets/controls",
      "model_module_version": "1.5.0",
      "model_name": "FloatProgressModel",
      "state": {
       "bar_style": "success",
       "description": "100%",
       "layout": "IPY_MODEL_7b855c862f484589bf15e387bbdd08bc",
       "max": 214,
       "style": "IPY_MODEL_420c77e4aa324340a841f766441f943b",
       "value": 214
      }
     },
     "6a735f3c9aa347ecb02d0d93e0dea8f1": {
      "model_module": "@jupyter-widgets/base",
      "model_module_version": "1.2.0",
      "model_name": "LayoutModel",
      "state": {}
     },
     "6afb4074148e4bdf8b4537b8a18256e8": {
      "model_module": "@jupyter-widgets/controls",
      "model_module_version": "1.5.0",
      "model_name": "FloatProgressModel",
      "state": {
       "bar_style": "success",
       "description": "100%",
       "layout": "IPY_MODEL_522dd3868e414565aa5edd0e63cf0fb7",
       "max": 52,
       "style": "IPY_MODEL_dc6e73b2ed45460695b95f05170456ce",
       "value": 52
      }
     },
     "6b61a4501f7a4eeabdd1d4ef224a135d": {
      "model_module": "@jupyter-widgets/controls",
      "model_module_version": "1.5.0",
      "model_name": "ProgressStyleModel",
      "state": {
       "description_width": "initial"
      }
     },
     "6b7a33d38fbe44c0a1ea7cff388c59f0": {
      "model_module": "@jupyter-widgets/base",
      "model_module_version": "1.2.0",
      "model_name": "LayoutModel",
      "state": {}
     },
     "6b8c4df5d7994513af71a3632b9bf281": {
      "model_module": "@jupyter-widgets/base",
      "model_module_version": "1.2.0",
      "model_name": "LayoutModel",
      "state": {}
     },
     "6c3ac62e29e4426986282f0b2af5cac4": {
      "model_module": "@jupyter-widgets/controls",
      "model_module_version": "1.5.0",
      "model_name": "FloatProgressModel",
      "state": {
       "bar_style": "success",
       "description": "100%",
       "layout": "IPY_MODEL_042e20091f4b4633989007243fc28602",
       "max": 16,
       "style": "IPY_MODEL_cb63d39e3a454cad8f1d01a425d6d35e",
       "value": 16
      }
     },
     "6c43e21df5804868b8bec1ae51dc2565": {
      "model_module": "@jupyter-widgets/controls",
      "model_module_version": "1.5.0",
      "model_name": "HTMLModel",
      "state": {
       "layout": "IPY_MODEL_a2a9bca3d9ed4af096ac7dc874fe3ae4",
       "style": "IPY_MODEL_1a7683e545344dd4aa0d3a63f7586c7a",
       "value": " 234/234 [6:54:49&lt;00:00, 106.37s/it]"
      }
     },
     "6c575be506dd46ba87ef05f19a33d648": {
      "model_module": "@jupyter-widgets/controls",
      "model_module_version": "1.5.0",
      "model_name": "FloatProgressModel",
      "state": {
       "bar_style": "success",
       "description": "100%",
       "layout": "IPY_MODEL_d5edb14a94024ac597f4bb35fe8ff91e",
       "max": 1284,
       "style": "IPY_MODEL_5802b86a1885416584293e12bcf3b872",
       "value": 1284
      }
     },
     "6c7e5a5640fc4b1e95394ac8b20428ac": {
      "model_module": "@jupyter-widgets/base",
      "model_module_version": "1.2.0",
      "model_name": "LayoutModel",
      "state": {}
     },
     "6d1c01cd64ea47f99541967cd91a3282": {
      "model_module": "@jupyter-widgets/controls",
      "model_module_version": "1.5.0",
      "model_name": "DescriptionStyleModel",
      "state": {
       "description_width": ""
      }
     },
     "6d2d76f712b74c03853fc4c0a6f7f58c": {
      "model_module": "@jupyter-widgets/controls",
      "model_module_version": "1.5.0",
      "model_name": "DescriptionStyleModel",
      "state": {
       "description_width": ""
      }
     },
     "6d93cab2c8d34e32b7aae253a3fc7df4": {
      "model_module": "@jupyter-widgets/controls",
      "model_module_version": "1.5.0",
      "model_name": "HTMLModel",
      "state": {
       "layout": "IPY_MODEL_0aa651404a434589b4f0ae2609daa610",
       "style": "IPY_MODEL_2fbe54c03aec4ab7930564504ef05c59",
       "value": " 139/139 [00:05&lt;00:00, 26.23it/s]"
      }
     },
     "6dbc392fdf9d4ff8b6fdfc5c2d912600": {
      "model_module": "@jupyter-widgets/controls",
      "model_module_version": "1.5.0",
      "model_name": "FloatProgressModel",
      "state": {
       "bar_style": "success",
       "description": "100%",
       "layout": "IPY_MODEL_d351ef03197d4770957ce7fd47c50965",
       "max": 7225,
       "style": "IPY_MODEL_ecd66e49d6b14972826608388fccb308",
       "value": 7225
      }
     },
     "6e2f27b0da034ebdb4f164c7d032d1f9": {
      "model_module": "@jupyter-widgets/controls",
      "model_module_version": "1.5.0",
      "model_name": "HTMLModel",
      "state": {
       "layout": "IPY_MODEL_23ca717fe10e4d57932c8f0d8e7f86b7",
       "style": "IPY_MODEL_5d48df7c7dfd400687cfd878e2db88f4",
       "value": " 28/28 [00:00&lt;00:00, 108.30it/s]"
      }
     },
     "6ebb5fb89d124b3b9917671c3c6191af": {
      "model_module": "@jupyter-widgets/controls",
      "model_module_version": "1.5.0",
      "model_name": "HTMLModel",
      "state": {
       "layout": "IPY_MODEL_28c37b8458844da29934168991a412b8",
       "style": "IPY_MODEL_4e855d00591b4f808d2ef11158e2e58d",
       "value": " 16/16 [1:38:10&lt;00:00, 368.16s/it]"
      }
     },
     "6f7cb6cb6dea4252a9b4f1081a76c8a3": {
      "model_module": "@jupyter-widgets/controls",
      "model_module_version": "1.5.0",
      "model_name": "FloatProgressModel",
      "state": {
       "bar_style": "success",
       "description": "100%",
       "layout": "IPY_MODEL_3f9bbefcd81b4c219b9988cf351d5d36",
       "max": 210,
       "style": "IPY_MODEL_081e252ca56b4df29b31386ab96189ef",
       "value": 210
      }
     },
     "70f7c61c9bd441529b96b2e17eadcd82": {
      "model_module": "@jupyter-widgets/controls",
      "model_module_version": "1.5.0",
      "model_name": "FloatProgressModel",
      "state": {
       "bar_style": "success",
       "description": "100%",
       "layout": "IPY_MODEL_e7e3711026ad46a09c7f7635bb122459",
       "max": 108,
       "style": "IPY_MODEL_54c46507d15a4f2a9317db9ac7849468",
       "value": 108
      }
     },
     "7104e4d85a9740c89a650f94c9091cf7": {
      "model_module": "@jupyter-widgets/controls",
      "model_module_version": "1.5.0",
      "model_name": "ProgressStyleModel",
      "state": {
       "description_width": "initial"
      }
     },
     "715f5ce456194fae822dd7670457dca5": {
      "model_module": "@jupyter-widgets/base",
      "model_module_version": "1.2.0",
      "model_name": "LayoutModel",
      "state": {}
     },
     "71b99f98584842349f1b12f70f92cf0e": {
      "model_module": "@jupyter-widgets/controls",
      "model_module_version": "1.5.0",
      "model_name": "ProgressStyleModel",
      "state": {
       "description_width": "initial"
      }
     },
     "71e6a203b1e6457eabd6d47f38180eed": {
      "model_module": "@jupyter-widgets/base",
      "model_module_version": "1.2.0",
      "model_name": "LayoutModel",
      "state": {}
     },
     "72d4aaef9986445daca0281aa61f2dbf": {
      "model_module": "@jupyter-widgets/controls",
      "model_module_version": "1.5.0",
      "model_name": "HTMLModel",
      "state": {
       "layout": "IPY_MODEL_256f8f391b8d4ae1885ee4749f08a4ff",
       "style": "IPY_MODEL_e8a8025dc6c44e849c93e89b0dfb31ad",
       "value": " 271/271 [00:30&lt;00:00,  9.00it/s]"
      }
     },
     "731a1f30556446dbbcfca92034645dea": {
      "model_module": "@jupyter-widgets/controls",
      "model_module_version": "1.5.0",
      "model_name": "FloatProgressModel",
      "state": {
       "bar_style": "success",
       "description": "100%",
       "layout": "IPY_MODEL_41b618a59e3e4708837e5bb707a02559",
       "max": 875,
       "style": "IPY_MODEL_d1a93ff278d9484f938fdd3643ee2794",
       "value": 875
      }
     },
     "732a6e809ffc40f6a7618c58bf715f94": {
      "model_module": "@jupyter-widgets/base",
      "model_module_version": "1.2.0",
      "model_name": "LayoutModel",
      "state": {}
     },
     "734190b8233d49e5afd9969665132282": {
      "model_module": "@jupyter-widgets/base",
      "model_module_version": "1.2.0",
      "model_name": "LayoutModel",
      "state": {}
     },
     "75bf0e77717242c2b127f5888c4b4b8d": {
      "model_module": "@jupyter-widgets/base",
      "model_module_version": "1.2.0",
      "model_name": "LayoutModel",
      "state": {}
     },
     "75f0f961527747fe9679073ac1f8f514": {
      "model_module": "@jupyter-widgets/base",
      "model_module_version": "1.2.0",
      "model_name": "LayoutModel",
      "state": {}
     },
     "766007250e4642dd9b15ad01e58e6076": {
      "model_module": "@jupyter-widgets/base",
      "model_module_version": "1.2.0",
      "model_name": "LayoutModel",
      "state": {}
     },
     "7755e7acb8ca478dbacf1a83f89767ef": {
      "model_module": "@jupyter-widgets/base",
      "model_module_version": "1.2.0",
      "model_name": "LayoutModel",
      "state": {}
     },
     "77dbd878913845f7aa82b4880e68d0aa": {
      "model_module": "@jupyter-widgets/controls",
      "model_module_version": "1.5.0",
      "model_name": "HBoxModel",
      "state": {
       "children": [
        "IPY_MODEL_6774749aca5e4f5eb8ed2ca206c248f7",
        "IPY_MODEL_15c5af2953a6443baa0775889e04c488"
       ],
       "layout": "IPY_MODEL_580768394d62417d82dd4fd1c921d9ef"
      }
     },
     "78151a4502474b289a19c9f9d95ab4df": {
      "model_module": "@jupyter-widgets/controls",
      "model_module_version": "1.5.0",
      "model_name": "ProgressStyleModel",
      "state": {
       "description_width": "initial"
      }
     },
     "7969747652ad47f1a96dc90c259234cb": {
      "model_module": "@jupyter-widgets/controls",
      "model_module_version": "1.5.0",
      "model_name": "ProgressStyleModel",
      "state": {
       "description_width": "initial"
      }
     },
     "7a0461eec8b041e9b4e98bfc2f7dfdee": {
      "model_module": "@jupyter-widgets/controls",
      "model_module_version": "1.5.0",
      "model_name": "HTMLModel",
      "state": {
       "layout": "IPY_MODEL_8b8f0a7b713c4e499443090a1be15643",
       "style": "IPY_MODEL_2ac3707746ed4cd99be8026d91c8bc6d",
       "value": " 1297/1297 [06:05&lt;00:00,  3.55it/s]"
      }
     },
     "7adbed50cec4433cb0e2ec7c86f5fdbc": {
      "model_module": "@jupyter-widgets/controls",
      "model_module_version": "1.5.0",
      "model_name": "DescriptionStyleModel",
      "state": {
       "description_width": ""
      }
     },
     "7b801bd9b8c44e60920bbbe17da0308e": {
      "model_module": "@jupyter-widgets/controls",
      "model_module_version": "1.5.0",
      "model_name": "HBoxModel",
      "state": {
       "children": [
        "IPY_MODEL_d6bdecdbe99248b1b304d4ec57afda11",
        "IPY_MODEL_005bbf0e7a0c44c18ba844604148e810"
       ],
       "layout": "IPY_MODEL_75bf0e77717242c2b127f5888c4b4b8d"
      }
     },
     "7b855c862f484589bf15e387bbdd08bc": {
      "model_module": "@jupyter-widgets/base",
      "model_module_version": "1.2.0",
      "model_name": "LayoutModel",
      "state": {}
     },
     "7bc6a016e7a64b879dd5b8d0f1309955": {
      "model_module": "@jupyter-widgets/controls",
      "model_module_version": "1.5.0",
      "model_name": "HBoxModel",
      "state": {
       "children": [
        "IPY_MODEL_1c96559bc203496b9f681c26ee461876",
        "IPY_MODEL_53f9e64176af47a1ba70dfa0df3e9806"
       ],
       "layout": "IPY_MODEL_e01c3bb010104b28ac9c1361057e10bb"
      }
     },
     "7c050273b1dc4030ae6cd50cdab91352": {
      "model_module": "@jupyter-widgets/controls",
      "model_module_version": "1.5.0",
      "model_name": "HTMLModel",
      "state": {
       "layout": "IPY_MODEL_18408d9ad72e4bbc9329dea34e92e8dc",
       "style": "IPY_MODEL_4aa04f6bc4fd4a64bfc41a27834d27d4",
       "value": " 72/72 [00:02&lt;00:00, 27.09it/s]"
      }
     },
     "7d271623df484c36ae392e43ffc66362": {
      "model_module": "@jupyter-widgets/controls",
      "model_module_version": "1.5.0",
      "model_name": "DescriptionStyleModel",
      "state": {
       "description_width": ""
      }
     },
     "7e1a0785d74e44089747045bbe66f3a8": {
      "model_module": "@jupyter-widgets/controls",
      "model_module_version": "1.5.0",
      "model_name": "FloatProgressModel",
      "state": {
       "bar_style": "success",
       "description": "100%",
       "layout": "IPY_MODEL_c69982a1518547acadc03551958e4ba6",
       "max": 28,
       "style": "IPY_MODEL_8bcb5db075f04dabbbea8d517f05d12f",
       "value": 28
      }
     },
     "7e2c051bffc34a30bd3a790618b25ab1": {
      "model_module": "@jupyter-widgets/controls",
      "model_module_version": "1.5.0",
      "model_name": "DescriptionStyleModel",
      "state": {
       "description_width": ""
      }
     },
     "7e41bbaab7c94da6a6f7446f80f3323c": {
      "model_module": "@jupyter-widgets/controls",
      "model_module_version": "1.5.0",
      "model_name": "ProgressStyleModel",
      "state": {
       "description_width": "initial"
      }
     },
     "7e88ecd5d98f4d0599eaf85dc4ea7f8b": {
      "model_module": "@jupyter-widgets/base",
      "model_module_version": "1.2.0",
      "model_name": "LayoutModel",
      "state": {}
     },
     "7ec82d0d7cb94afb9c3cdd544173f658": {
      "model_module": "@jupyter-widgets/controls",
      "model_module_version": "1.5.0",
      "model_name": "HTMLModel",
      "state": {
       "layout": "IPY_MODEL_b18063ae84e84a1493a7a44a1471dbe4",
       "style": "IPY_MODEL_cbf9fbf2d66048ceb53bee76109f88b3",
       "value": " 533/533 [00:47&lt;00:00, 11.29it/s]"
      }
     },
     "7ee381e4e45d4133bfc94a1f35e750f7": {
      "model_module": "@jupyter-widgets/controls",
      "model_module_version": "1.5.0",
      "model_name": "FloatProgressModel",
      "state": {
       "bar_style": "success",
       "description": "100%",
       "layout": "IPY_MODEL_b864a0cc72f0425bb2f62a766da1750c",
       "max": 72,
       "style": "IPY_MODEL_5a3a85e2c42a4457b64ef524269e4c0d",
       "value": 72
      }
     },
     "7f19d9a5b7bc4ca69ca4ca7807129324": {
      "model_module": "@jupyter-widgets/controls",
      "model_module_version": "1.5.0",
      "model_name": "ProgressStyleModel",
      "state": {
       "description_width": "initial"
      }
     },
     "7f4260af3bf0470a9551e6cc5c7ec79f": {
      "model_module": "@jupyter-widgets/controls",
      "model_module_version": "1.5.0",
      "model_name": "ProgressStyleModel",
      "state": {
       "description_width": "initial"
      }
     },
     "7f45436b5cfc4e94bd40b5a1b3f5ab35": {
      "model_module": "@jupyter-widgets/base",
      "model_module_version": "1.2.0",
      "model_name": "LayoutModel",
      "state": {}
     },
     "7f94ac4a123f4ae0baba0dfa3911003a": {
      "model_module": "@jupyter-widgets/controls",
      "model_module_version": "1.5.0",
      "model_name": "HTMLModel",
      "state": {
       "layout": "IPY_MODEL_45acba9468164da2a4436892af9a7be5",
       "style": "IPY_MODEL_f3d8004d907c4399a864495f214ddd4f",
       "value": " 28/28 [1:29:24&lt;00:00, 191.61s/it]"
      }
     },
     "7fda31e8515b4e5da9070029d4120e27": {
      "model_module": "@jupyter-widgets/controls",
      "model_module_version": "1.5.0",
      "model_name": "HTMLModel",
      "state": {
       "layout": "IPY_MODEL_8aac45858a9048e89595829a3d55f4c4",
       "style": "IPY_MODEL_660a9e546dc647389ca22dfa294884ed",
       "value": " 1160/1160 [03:31&lt;00:00,  5.50it/s]"
      }
     },
     "80150b4291ce47dba1d17207ec4c449a": {
      "model_module": "@jupyter-widgets/controls",
      "model_module_version": "1.5.0",
      "model_name": "HBoxModel",
      "state": {
       "children": [
        "IPY_MODEL_127d05ed66614914b3969ba32f20d61d",
        "IPY_MODEL_3d7f498852f2465097fbed0b81a2f355"
       ],
       "layout": "IPY_MODEL_f8bd405c458d4d4e810648a16e253c2e"
      }
     },
     "80777971ec9f49248eadd3eda514907e": {
      "model_module": "@jupyter-widgets/controls",
      "model_module_version": "1.5.0",
      "model_name": "DescriptionStyleModel",
      "state": {
       "description_width": ""
      }
     },
     "80f2850df37747eb9c7f71928656aec0": {
      "model_module": "@jupyter-widgets/controls",
      "model_module_version": "1.5.0",
      "model_name": "HBoxModel",
      "state": {
       "children": [
        "IPY_MODEL_6afb4074148e4bdf8b4537b8a18256e8",
        "IPY_MODEL_1319e067f77948d89db821a49a556f1e"
       ],
       "layout": "IPY_MODEL_db2d59e3b444443eb35307fae2356508"
      }
     },
     "813c08df27ab4c2b91224e1f02b7bb73": {
      "model_module": "@jupyter-widgets/controls",
      "model_module_version": "1.5.0",
      "model_name": "HTMLModel",
      "state": {
       "layout": "IPY_MODEL_3812455ba1ee471f8c7d05a206c62635",
       "style": "IPY_MODEL_335f11c283d74afdbab92324614d165a",
       "value": " 7225/7225 [57:05&lt;00:00,  2.11it/s]"
      }
     },
     "81648cf063dd4830a55377de531e6381": {
      "model_module": "@jupyter-widgets/controls",
      "model_module_version": "1.5.0",
      "model_name": "DescriptionStyleModel",
      "state": {
       "description_width": ""
      }
     },
     "82172e3bae9747c6b9a0a26f4a9fa3a5": {
      "model_module": "@jupyter-widgets/base",
      "model_module_version": "1.2.0",
      "model_name": "LayoutModel",
      "state": {}
     },
     "84c5aa9539244e3f8cc348782514adc3": {
      "model_module": "@jupyter-widgets/controls",
      "model_module_version": "1.5.0",
      "model_name": "HTMLModel",
      "state": {
       "layout": "IPY_MODEL_459b8e13039545f5a2ebbaeaaa824e96",
       "style": "IPY_MODEL_7e2c051bffc34a30bd3a790618b25ab1",
       "value": " 348/348 [00:39&lt;00:00,  8.82it/s]"
      }
     },
     "84d49b0ac0ed4c35b7968108b7c3f3b3": {
      "model_module": "@jupyter-widgets/controls",
      "model_module_version": "1.5.0",
      "model_name": "HBoxModel",
      "state": {
       "children": [
        "IPY_MODEL_2df986ed87054ae0870b8c7fa2b32907",
        "IPY_MODEL_19d92acca101440ba5a78559a163c54b"
       ],
       "layout": "IPY_MODEL_c6e2e5130d07446abc010fbc7041b19f"
      }
     },
     "862f317a5f8d48c9ab416fc75c9aec46": {
      "model_module": "@jupyter-widgets/controls",
      "model_module_version": "1.5.0",
      "model_name": "DescriptionStyleModel",
      "state": {
       "description_width": ""
      }
     },
     "86a697881e2f40eb9fd1fff2fdaac5b2": {
      "model_module": "@jupyter-widgets/controls",
      "model_module_version": "1.5.0",
      "model_name": "ProgressStyleModel",
      "state": {
       "description_width": "initial"
      }
     },
     "86ac68f3eefd4834be4565e2ef9f25df": {
      "model_module": "@jupyter-widgets/controls",
      "model_module_version": "1.5.0",
      "model_name": "FloatProgressModel",
      "state": {
       "bar_style": "success",
       "description": "100%",
       "layout": "IPY_MODEL_94532208e5324241b32b7eff313af2e1",
       "max": 234,
       "style": "IPY_MODEL_daa31a7a544b4ec1b53868bfcefa5018",
       "value": 234
      }
     },
     "87062f7292734a429f91e75717807334": {
      "model_module": "@jupyter-widgets/controls",
      "model_module_version": "1.5.0",
      "model_name": "FloatProgressModel",
      "state": {
       "bar_style": "success",
       "description": "100%",
       "layout": "IPY_MODEL_d09253f5059f448da56e8bf6ccaa2982",
       "max": 7225,
       "style": "IPY_MODEL_7f19d9a5b7bc4ca69ca4ca7807129324",
       "value": 7225
      }
     },
     "883804fa273c4badace55f6630dcbe2b": {
      "model_module": "@jupyter-widgets/controls",
      "model_module_version": "1.5.0",
      "model_name": "HTMLModel",
      "state": {
       "layout": "IPY_MODEL_96c449ca45774b18a882e89d67cea8e4",
       "style": "IPY_MODEL_c3710edc87b1499bade9a548db0b5122",
       "value": " 1605/1605 [07:01&lt;00:00,  3.81it/s]"
      }
     },
     "88ce703cc67841f8a77bc05e89874566": {
      "model_module": "@jupyter-widgets/controls",
      "model_module_version": "1.5.0",
      "model_name": "HBoxModel",
      "state": {
       "children": [
        "IPY_MODEL_e0ce5ea99f5a4812aafe523a6516e67f",
        "IPY_MODEL_adc6a9f8241f47449967619cb3ee9029"
       ],
       "layout": "IPY_MODEL_092d17192a2f4289ad63c2adf74e2242"
      }
     },
     "8909c9e387a24b03a3781a9fab4f04e1": {
      "model_module": "@jupyter-widgets/controls",
      "model_module_version": "1.5.0",
      "model_name": "HBoxModel",
      "state": {
       "children": [
        "IPY_MODEL_f95c77cc17ec4d75b20e89f60433c17d",
        "IPY_MODEL_2822dd37fb1646bf8f8f5211994f6d3d"
       ],
       "layout": "IPY_MODEL_dd9d1ab36b214d6997aede16a1610e5b"
      }
     },
     "89574ed9ecb9498696a2e1937146fd83": {
      "model_module": "@jupyter-widgets/base",
      "model_module_version": "1.2.0",
      "model_name": "LayoutModel",
      "state": {}
     },
     "89587e4879d04bcca5ca896c79ecff0d": {
      "model_module": "@jupyter-widgets/controls",
      "model_module_version": "1.5.0",
      "model_name": "FloatProgressModel",
      "state": {
       "bar_style": "success",
       "description": "100%",
       "layout": "IPY_MODEL_8ac52debd7854032830a41f53f8ac555",
       "max": 12,
       "style": "IPY_MODEL_0e3d61c5bd3648b6bcccde235e075eee",
       "value": 12
      }
     },
     "89fd9a49026f475fb936d5b7b09df87c": {
      "model_module": "@jupyter-widgets/base",
      "model_module_version": "1.2.0",
      "model_name": "LayoutModel",
      "state": {}
     },
     "8aac45858a9048e89595829a3d55f4c4": {
      "model_module": "@jupyter-widgets/base",
      "model_module_version": "1.2.0",
      "model_name": "LayoutModel",
      "state": {}
     },
     "8ac52debd7854032830a41f53f8ac555": {
      "model_module": "@jupyter-widgets/base",
      "model_module_version": "1.2.0",
      "model_name": "LayoutModel",
      "state": {}
     },
     "8b8f0a7b713c4e499443090a1be15643": {
      "model_module": "@jupyter-widgets/base",
      "model_module_version": "1.2.0",
      "model_name": "LayoutModel",
      "state": {}
     },
     "8bcb5db075f04dabbbea8d517f05d12f": {
      "model_module": "@jupyter-widgets/controls",
      "model_module_version": "1.5.0",
      "model_name": "ProgressStyleModel",
      "state": {
       "description_width": "initial"
      }
     },
     "8f5dd33b2683408b97f7ce22783a475f": {
      "model_module": "@jupyter-widgets/base",
      "model_module_version": "1.2.0",
      "model_name": "LayoutModel",
      "state": {}
     },
     "8fc2169a41a94ed6b4d140b19a884730": {
      "model_module": "@jupyter-widgets/controls",
      "model_module_version": "1.5.0",
      "model_name": "HBoxModel",
      "state": {
       "children": [
        "IPY_MODEL_3fc6183fbc9945659376d788b9edfc95",
        "IPY_MODEL_7f94ac4a123f4ae0baba0dfa3911003a"
       ],
       "layout": "IPY_MODEL_44bbaecdc00d4692a15bb13d3a7c3bc8"
      }
     },
     "8fe9a1ffb506441d8d1db899795d6785": {
      "model_module": "@jupyter-widgets/controls",
      "model_module_version": "1.5.0",
      "model_name": "HTMLModel",
      "state": {
       "layout": "IPY_MODEL_4223ef1d650548729a8b0d0bcc879fdf",
       "style": "IPY_MODEL_20c41d4676a34c4287b4150493d234c4",
       "value": " 19/19 [00:02&lt;00:00,  8.82it/s]"
      }
     },
     "90ffea88d1d043cea3513dff014eb106": {
      "model_module": "@jupyter-widgets/controls",
      "model_module_version": "1.5.0",
      "model_name": "DescriptionStyleModel",
      "state": {
       "description_width": ""
      }
     },
     "91617b0ff44840abb8cddaf80a598108": {
      "model_module": "@jupyter-widgets/controls",
      "model_module_version": "1.5.0",
      "model_name": "HTMLModel",
      "state": {
       "layout": "IPY_MODEL_3b01e487c5fb41549d34b679f041babd",
       "style": "IPY_MODEL_2b721f5d72314f6696d411314e29b62f",
       "value": " 516/516 [00:54&lt;00:00,  9.55it/s]"
      }
     },
     "916dd96a907f47fc840c1a723c7df475": {
      "model_module": "@jupyter-widgets/controls",
      "model_module_version": "1.5.0",
      "model_name": "ProgressStyleModel",
      "state": {
       "description_width": "initial"
      }
     },
     "917fb0affcf841e88df2a780dc88a817": {
      "model_module": "@jupyter-widgets/controls",
      "model_module_version": "1.5.0",
      "model_name": "HBoxModel",
      "state": {
       "children": [
        "IPY_MODEL_731a1f30556446dbbcfca92034645dea",
        "IPY_MODEL_49208e3aefa34ac89f8c545022884ef8"
       ],
       "layout": "IPY_MODEL_e792dc3ed5ee426db0ebf96bac1a65e7"
      }
     },
     "9187cfa714a44857b3fc7ada6cbfe96c": {
      "model_module": "@jupyter-widgets/base",
      "model_module_version": "1.2.0",
      "model_name": "LayoutModel",
      "state": {}
     },
     "91fa6488ad3e4e5bb1f0945dd6cd72cd": {
      "model_module": "@jupyter-widgets/controls",
      "model_module_version": "1.5.0",
      "model_name": "HTMLModel",
      "state": {
       "layout": "IPY_MODEL_bdd00cb860c3489494a969a9d4f6c1e3",
       "style": "IPY_MODEL_d5ede6beb9b1498e9390b6635bf61374",
       "value": " 528/528 [00:46&lt;00:00, 11.46it/s]"
      }
     },
     "9250681683384f85980dba13864cb113": {
      "model_module": "@jupyter-widgets/controls",
      "model_module_version": "1.5.0",
      "model_name": "DescriptionStyleModel",
      "state": {
       "description_width": ""
      }
     },
     "92534ff52d484f419d93de70f49e1e03": {
      "model_module": "@jupyter-widgets/controls",
      "model_module_version": "1.5.0",
      "model_name": "DescriptionStyleModel",
      "state": {
       "description_width": ""
      }
     },
     "925e891f84bc4e289f1fccfcf7bf0e09": {
      "model_module": "@jupyter-widgets/base",
      "model_module_version": "1.2.0",
      "model_name": "LayoutModel",
      "state": {}
     },
     "92f825abb36549ddbbafc2b80d5166cc": {
      "model_module": "@jupyter-widgets/base",
      "model_module_version": "1.2.0",
      "model_name": "LayoutModel",
      "state": {}
     },
     "93388f42be2c468291c1919940c41c76": {
      "model_module": "@jupyter-widgets/controls",
      "model_module_version": "1.5.0",
      "model_name": "FloatProgressModel",
      "state": {
       "bar_style": "success",
       "description": "100%",
       "layout": "IPY_MODEL_d9f28e19aace4f168dc3c5ae97ae6a35",
       "max": 1605,
       "style": "IPY_MODEL_b3dd61ac2fa1445d8f0adbf49396dcd0",
       "value": 1605
      }
     },
     "939fc7ff49024f628f8ec9a4aaba5fe1": {
      "model_module": "@jupyter-widgets/base",
      "model_module_version": "1.2.0",
      "model_name": "LayoutModel",
      "state": {}
     },
     "93ee45bd4cfc48a9a21d1a9254603a1a": {
      "model_module": "@jupyter-widgets/controls",
      "model_module_version": "1.5.0",
      "model_name": "DescriptionStyleModel",
      "state": {
       "description_width": ""
      }
     },
     "945061d0404240489c944c0afd1bc66c": {
      "model_module": "@jupyter-widgets/controls",
      "model_module_version": "1.5.0",
      "model_name": "HBoxModel",
      "state": {
       "children": [
        "IPY_MODEL_4b57e29d1dea4aec8d1f4582763cc5c3",
        "IPY_MODEL_0e51562ed2084b1fa97ed759c711dfc5"
       ],
       "layout": "IPY_MODEL_ce1208c3445e45f8b4dfcaffb4f50b49"
      }
     },
     "94532208e5324241b32b7eff313af2e1": {
      "model_module": "@jupyter-widgets/base",
      "model_module_version": "1.2.0",
      "model_name": "LayoutModel",
      "state": {}
     },
     "951070ee0e404043a801c53dcb18a2a6": {
      "model_module": "@jupyter-widgets/controls",
      "model_module_version": "1.5.0",
      "model_name": "HBoxModel",
      "state": {
       "children": [
        "IPY_MODEL_93388f42be2c468291c1919940c41c76",
        "IPY_MODEL_883804fa273c4badace55f6630dcbe2b"
       ],
       "layout": "IPY_MODEL_9c6ace3d4bdb4dc1a61efe5e632e3898"
      }
     },
     "957430ac290f4e218efd27dfba06b3ca": {
      "model_module": "@jupyter-widgets/controls",
      "model_module_version": "1.5.0",
      "model_name": "FloatProgressModel",
      "state": {
       "bar_style": "success",
       "description": "100%",
       "layout": "IPY_MODEL_254b45c5858a4b70a23974e6da88611a",
       "max": 29,
       "style": "IPY_MODEL_0ac936c81e614ce98b3826c6e932ba1b",
       "value": 29
      }
     },
     "95aa70ea944c41d686f6444c666f2cab": {
      "model_module": "@jupyter-widgets/controls",
      "model_module_version": "1.5.0",
      "model_name": "ProgressStyleModel",
      "state": {
       "description_width": "initial"
      }
     },
     "95b49cca7ba74eb588851927acc578b1": {
      "model_module": "@jupyter-widgets/base",
      "model_module_version": "1.2.0",
      "model_name": "LayoutModel",
      "state": {}
     },
     "95ca9c4977694702a7a50c8b318acda2": {
      "model_module": "@jupyter-widgets/controls",
      "model_module_version": "1.5.0",
      "model_name": "HBoxModel",
      "state": {
       "children": [
        "IPY_MODEL_5621eaeac0874f81a169b86876d57f13",
        "IPY_MODEL_6a34dae29bf940bb883c91f9e5cc8e86"
       ],
       "layout": "IPY_MODEL_5167ed82c22d4dc9a9efe628fd6731d2"
      }
     },
     "96c449ca45774b18a882e89d67cea8e4": {
      "model_module": "@jupyter-widgets/base",
      "model_module_version": "1.2.0",
      "model_name": "LayoutModel",
      "state": {}
     },
     "998c916f7dce4874a1fcf7a10c5ab47a": {
      "model_module": "@jupyter-widgets/controls",
      "model_module_version": "1.5.0",
      "model_name": "DescriptionStyleModel",
      "state": {
       "description_width": ""
      }
     },
     "9adb52b99b21492ba2b3c297aab5ba99": {
      "model_module": "@jupyter-widgets/controls",
      "model_module_version": "1.5.0",
      "model_name": "FloatProgressModel",
      "state": {
       "bar_style": "success",
       "description": "100%",
       "layout": "IPY_MODEL_c0f3aacf13a54408acf0bb63dae25da0",
       "max": 18,
       "style": "IPY_MODEL_59dd8d0586734008b1b60495682250f0",
       "value": 18
      }
     },
     "9bbde5d152764111bba581f9989e85f0": {
      "model_module": "@jupyter-widgets/controls",
      "model_module_version": "1.5.0",
      "model_name": "ProgressStyleModel",
      "state": {
       "description_width": "initial"
      }
     },
     "9c3d935985174158bb68af714f5b9ad5": {
      "model_module": "@jupyter-widgets/controls",
      "model_module_version": "1.5.0",
      "model_name": "DescriptionStyleModel",
      "state": {
       "description_width": ""
      }
     },
     "9c6ace3d4bdb4dc1a61efe5e632e3898": {
      "model_module": "@jupyter-widgets/base",
      "model_module_version": "1.2.0",
      "model_name": "LayoutModel",
      "state": {}
     },
     "9ca8099b1fae4f63b73b55bb102b46d1": {
      "model_module": "@jupyter-widgets/base",
      "model_module_version": "1.2.0",
      "model_name": "LayoutModel",
      "state": {}
     },
     "9da2c042080d4ea49c7a04d16a39d774": {
      "model_module": "@jupyter-widgets/controls",
      "model_module_version": "1.5.0",
      "model_name": "FloatProgressModel",
      "state": {
       "bar_style": "success",
       "description": "100%",
       "layout": "IPY_MODEL_563f80cce143495f891e01af54ccd6f5",
       "max": 7225,
       "style": "IPY_MODEL_df93654db50b4e7ab0b3923c8eff1e58",
       "value": 7225
      }
     },
     "9e6e31f89d3f46d5872f27bdb79fba16": {
      "model_module": "@jupyter-widgets/controls",
      "model_module_version": "1.5.0",
      "model_name": "DescriptionStyleModel",
      "state": {
       "description_width": ""
      }
     },
     "9ecba7dbdb404cb7a39319a0167f07a1": {
      "model_module": "@jupyter-widgets/base",
      "model_module_version": "1.2.0",
      "model_name": "LayoutModel",
      "state": {}
     },
     "9fdfe6aeaaf645998c51576922bf64ef": {
      "model_module": "@jupyter-widgets/base",
      "model_module_version": "1.2.0",
      "model_name": "LayoutModel",
      "state": {}
     },
     "a14185eee04f465ba1493f08023e204e": {
      "model_module": "@jupyter-widgets/controls",
      "model_module_version": "1.5.0",
      "model_name": "FloatProgressModel",
      "state": {
       "bar_style": "success",
       "description": "100%",
       "layout": "IPY_MODEL_732a6e809ffc40f6a7618c58bf715f94",
       "max": 2548,
       "style": "IPY_MODEL_3d4c3db8bb11426bb90a1d82a242d6c4",
       "value": 2548
      }
     },
     "a1b1f9bef10e4c64b7c2093bef3ed751": {
      "model_module": "@jupyter-widgets/base",
      "model_module_version": "1.2.0",
      "model_name": "LayoutModel",
      "state": {}
     },
     "a264def7414e4426a3fd266aefab07e0": {
      "model_module": "@jupyter-widgets/controls",
      "model_module_version": "1.5.0",
      "model_name": "HTMLModel",
      "state": {
       "layout": "IPY_MODEL_e2d648bbbce4479e909c577eff6eb66a",
       "style": "IPY_MODEL_eed856a9df334afda089160a2b5c8981",
       "value": " 7225/7225 [57:28&lt;00:00,  2.10it/s]"
      }
     },
     "a2a9bca3d9ed4af096ac7dc874fe3ae4": {
      "model_module": "@jupyter-widgets/base",
      "model_module_version": "1.2.0",
      "model_name": "LayoutModel",
      "state": {}
     },
     "a2ed35b300ff43448ad1f37945705883": {
      "model_module": "@jupyter-widgets/controls",
      "model_module_version": "1.5.0",
      "model_name": "FloatProgressModel",
      "state": {
       "bar_style": "success",
       "description": "100%",
       "layout": "IPY_MODEL_5944c34017f24b07a43ed77cc676b781",
       "max": 9,
       "style": "IPY_MODEL_ce674e32a2bf4c7dadc6152ba6f79ec3",
       "value": 9
      }
     },
     "a3ed91253f2a417a868cf933cea68e0e": {
      "model_module": "@jupyter-widgets/controls",
      "model_module_version": "1.5.0",
      "model_name": "ProgressStyleModel",
      "state": {
       "description_width": "initial"
      }
     },
     "a466e0fbd3044f1595e02930dd953058": {
      "model_module": "@jupyter-widgets/controls",
      "model_module_version": "1.5.0",
      "model_name": "ProgressStyleModel",
      "state": {
       "description_width": "initial"
      }
     },
     "a541c6cf05b24e1c931ac4610b190d9e": {
      "model_module": "@jupyter-widgets/controls",
      "model_module_version": "1.5.0",
      "model_name": "DescriptionStyleModel",
      "state": {
       "description_width": ""
      }
     },
     "a5a2e3d24e834f2c93aa16a42d3bfd5f": {
      "model_module": "@jupyter-widgets/base",
      "model_module_version": "1.2.0",
      "model_name": "LayoutModel",
      "state": {}
     },
     "a5efcbd4c3f449e2a3b1b4994700ad2f": {
      "model_module": "@jupyter-widgets/controls",
      "model_module_version": "1.5.0",
      "model_name": "ProgressStyleModel",
      "state": {
       "description_width": "initial"
      }
     },
     "a614d57055bd452ba7acef98b4fb10a2": {
      "model_module": "@jupyter-widgets/controls",
      "model_module_version": "1.5.0",
      "model_name": "ProgressStyleModel",
      "state": {
       "description_width": "initial"
      }
     },
     "a645c73456554ca391ea97213b304d2d": {
      "model_module": "@jupyter-widgets/controls",
      "model_module_version": "1.5.0",
      "model_name": "HTMLModel",
      "state": {
       "layout": "IPY_MODEL_c09e0cda3f434af58001ca8b425dcbd0",
       "style": "IPY_MODEL_93ee45bd4cfc48a9a21d1a9254603a1a",
       "value": " 57/57 [00:04&lt;00:00, 11.40it/s]"
      }
     },
     "a67521f9904e4128aa94711ee205fc89": {
      "model_module": "@jupyter-widgets/controls",
      "model_module_version": "1.5.0",
      "model_name": "DescriptionStyleModel",
      "state": {
       "description_width": ""
      }
     },
     "a67bce0f546c441eb5def96547579ab8": {
      "model_module": "@jupyter-widgets/controls",
      "model_module_version": "1.5.0",
      "model_name": "HBoxModel",
      "state": {
       "children": [
        "IPY_MODEL_b4ef0eefafff4f0c9460367d9db8cce6",
        "IPY_MODEL_7a0461eec8b041e9b4e98bfc2f7dfdee"
       ],
       "layout": "IPY_MODEL_25de6c76b6d54b098a84ea8cd03a7115"
      }
     },
     "a681565eef75425baadb19a3482c6306": {
      "model_module": "@jupyter-widgets/base",
      "model_module_version": "1.2.0",
      "model_name": "LayoutModel",
      "state": {}
     },
     "a8040333f0f24c5993109a825fcb6018": {
      "model_module": "@jupyter-widgets/base",
      "model_module_version": "1.2.0",
      "model_name": "LayoutModel",
      "state": {}
     },
     "a836f8421a6d41558a7af8b6e1ff2e7f": {
      "model_module": "@jupyter-widgets/controls",
      "model_module_version": "1.5.0",
      "model_name": "HBoxModel",
      "state": {
       "children": [
        "IPY_MODEL_5ed00976a6624c0f9ee9e23901c1c51a",
        "IPY_MODEL_ade11d74544c46eea77653d2eba9d086"
       ],
       "layout": "IPY_MODEL_16ea5ba57f2544aca6cc4eeabbaff22f"
      }
     },
     "a90797723a0b418681503030ee2387e8": {
      "model_module": "@jupyter-widgets/base",
      "model_module_version": "1.2.0",
      "model_name": "LayoutModel",
      "state": {}
     },
     "a9bc5879135a495b9767802067163ef8": {
      "model_module": "@jupyter-widgets/controls",
      "model_module_version": "1.5.0",
      "model_name": "HBoxModel",
      "state": {
       "children": [
        "IPY_MODEL_287c80ed8a7e48578121599e8fa6786b",
        "IPY_MODEL_16d22ab5bfa64cf190e30e337194539b"
       ],
       "layout": "IPY_MODEL_a681565eef75425baadb19a3482c6306"
      }
     },
     "a9c19914a4524f858b499f1dd65c45ad": {
      "model_module": "@jupyter-widgets/base",
      "model_module_version": "1.2.0",
      "model_name": "LayoutModel",
      "state": {}
     },
     "aa3a3f1a168e4afda129cc19797355de": {
      "model_module": "@jupyter-widgets/controls",
      "model_module_version": "1.5.0",
      "model_name": "ProgressStyleModel",
      "state": {
       "description_width": "initial"
      }
     },
     "aa74a214d3414c7da54f67fd55e954bc": {
      "model_module": "@jupyter-widgets/controls",
      "model_module_version": "1.5.0",
      "model_name": "ProgressStyleModel",
      "state": {
       "description_width": "initial"
      }
     },
     "ab44e997c8f34e38bbe634fcf141372f": {
      "model_module": "@jupyter-widgets/base",
      "model_module_version": "1.2.0",
      "model_name": "LayoutModel",
      "state": {}
     },
     "abecf9167178442d8a1dc2d76a8ae381": {
      "model_module": "@jupyter-widgets/controls",
      "model_module_version": "1.5.0",
      "model_name": "HTMLModel",
      "state": {
       "layout": "IPY_MODEL_5d0979b994fc428e9a775eb76dda4560",
       "style": "IPY_MODEL_fda78de607474769b127e91ccaeb5a42",
       "value": " 12/12 [00:07&lt;00:00,  1.58it/s]"
      }
     },
     "ac0b693706474d9abc2d757cba2d8a90": {
      "model_module": "@jupyter-widgets/base",
      "model_module_version": "1.2.0",
      "model_name": "LayoutModel",
      "state": {}
     },
     "acddcf1b767d4380a842619ed17bc3a2": {
      "model_module": "@jupyter-widgets/base",
      "model_module_version": "1.2.0",
      "model_name": "LayoutModel",
      "state": {}
     },
     "ad74dd6051f348bab26330738a2f375f": {
      "model_module": "@jupyter-widgets/base",
      "model_module_version": "1.2.0",
      "model_name": "LayoutModel",
      "state": {}
     },
     "ad90d29d4dcf41dea0808a39ad5d755b": {
      "model_module": "@jupyter-widgets/base",
      "model_module_version": "1.2.0",
      "model_name": "LayoutModel",
      "state": {}
     },
     "adc6a9f8241f47449967619cb3ee9029": {
      "model_module": "@jupyter-widgets/controls",
      "model_module_version": "1.5.0",
      "model_name": "HTMLModel",
      "state": {
       "layout": "IPY_MODEL_d4f06d6654ae457cbc67dd1c65e88891",
       "style": "IPY_MODEL_a541c6cf05b24e1c931ac4610b190d9e",
       "value": " 99/99 [00:02&lt;00:00, 39.98it/s]"
      }
     },
     "addfc508f72b406481392c68c826547b": {
      "model_module": "@jupyter-widgets/controls",
      "model_module_version": "1.5.0",
      "model_name": "ProgressStyleModel",
      "state": {
       "description_width": "initial"
      }
     },
     "ade11d74544c46eea77653d2eba9d086": {
      "model_module": "@jupyter-widgets/controls",
      "model_module_version": "1.5.0",
      "model_name": "HTMLModel",
      "state": {
       "layout": "IPY_MODEL_21ed0db70ccb40cf849ab5b4f6ca04ec",
       "style": "IPY_MODEL_6d1c01cd64ea47f99541967cd91a3282",
       "value": " 240/240 [00:09&lt;00:00, 25.73it/s]"
      }
     },
     "adf25d69240a4f7bafedd4abbade7b38": {
      "model_module": "@jupyter-widgets/base",
      "model_module_version": "1.2.0",
      "model_name": "LayoutModel",
      "state": {}
     },
     "adfd5a8306004ebda8d0bc382b949bab": {
      "model_module": "@jupyter-widgets/base",
      "model_module_version": "1.2.0",
      "model_name": "LayoutModel",
      "state": {}
     },
     "ae2a636a2d6d4e6b9ce4569ff17d7ba3": {
      "model_module": "@jupyter-widgets/controls",
      "model_module_version": "1.5.0",
      "model_name": "DescriptionStyleModel",
      "state": {
       "description_width": ""
      }
     },
     "afe124db199b4ba89de4e9d888e920f1": {
      "model_module": "@jupyter-widgets/base",
      "model_module_version": "1.2.0",
      "model_name": "LayoutModel",
      "state": {}
     },
     "aff0a56eb22f49079afddb4c4305f1b0": {
      "model_module": "@jupyter-widgets/base",
      "model_module_version": "1.2.0",
      "model_name": "LayoutModel",
      "state": {}
     },
     "b04938488d2d4d3296edd7b2f9cd2d19": {
      "model_module": "@jupyter-widgets/base",
      "model_module_version": "1.2.0",
      "model_name": "LayoutModel",
      "state": {}
     },
     "b04aa3903ccc4c428aaba009c32ea88e": {
      "model_module": "@jupyter-widgets/base",
      "model_module_version": "1.2.0",
      "model_name": "LayoutModel",
      "state": {}
     },
     "b0732e83e17c4a0d9b2419b4ef8bf6fb": {
      "model_module": "@jupyter-widgets/base",
      "model_module_version": "1.2.0",
      "model_name": "LayoutModel",
      "state": {}
     },
     "b09be940260141558448289926b2d243": {
      "model_module": "@jupyter-widgets/controls",
      "model_module_version": "1.5.0",
      "model_name": "DescriptionStyleModel",
      "state": {
       "description_width": ""
      }
     },
     "b12d3046f1254b729842e1b5524360ab": {
      "model_module": "@jupyter-widgets/controls",
      "model_module_version": "1.5.0",
      "model_name": "ProgressStyleModel",
      "state": {
       "description_width": "initial"
      }
     },
     "b12f663341ce4ae281b81d59bc93d049": {
      "model_module": "@jupyter-widgets/base",
      "model_module_version": "1.2.0",
      "model_name": "LayoutModel",
      "state": {}
     },
     "b18063ae84e84a1493a7a44a1471dbe4": {
      "model_module": "@jupyter-widgets/base",
      "model_module_version": "1.2.0",
      "model_name": "LayoutModel",
      "state": {}
     },
     "b203394fb5704d109c1905463141fe8a": {
      "model_module": "@jupyter-widgets/base",
      "model_module_version": "1.2.0",
      "model_name": "LayoutModel",
      "state": {}
     },
     "b21d01deb0784dfeb835899af86eae90": {
      "model_module": "@jupyter-widgets/controls",
      "model_module_version": "1.5.0",
      "model_name": "FloatProgressModel",
      "state": {
       "bar_style": "success",
       "description": "100%",
       "layout": "IPY_MODEL_ad90d29d4dcf41dea0808a39ad5d755b",
       "max": 632,
       "style": "IPY_MODEL_dcfeafc6fde34d5ebba917f956b3a89c",
       "value": 632
      }
     },
     "b281f018407e45bea5bee02135f7ca0a": {
      "model_module": "@jupyter-widgets/controls",
      "model_module_version": "1.5.0",
      "model_name": "HTMLModel",
      "state": {
       "layout": "IPY_MODEL_ac0b693706474d9abc2d757cba2d8a90",
       "style": "IPY_MODEL_92534ff52d484f419d93de70f49e1e03",
       "value": " 1284/1284 [05:07&lt;00:00,  4.17it/s]"
      }
     },
     "b288fb59929f435da9ac6cfdf3c2fba4": {
      "model_module": "@jupyter-widgets/base",
      "model_module_version": "1.2.0",
      "model_name": "LayoutModel",
      "state": {}
     },
     "b28fa47bfa6046e28ecec6b2a357dae2": {
      "model_module": "@jupyter-widgets/controls",
      "model_module_version": "1.5.0",
      "model_name": "HBoxModel",
      "state": {
       "children": [
        "IPY_MODEL_6a673b37d60c4afab55a0a5d6aa9c5c1",
        "IPY_MODEL_253c20ebca62402f9ce9da6cb22a05a4"
       ],
       "layout": "IPY_MODEL_de4ea24a2b164c2480859cffc5b1dccc"
      }
     },
     "b2a8eedf790b4b77b7fbc33698d5d9b5": {
      "model_module": "@jupyter-widgets/controls",
      "model_module_version": "1.5.0",
      "model_name": "FloatProgressModel",
      "state": {
       "bar_style": "success",
       "description": "100%",
       "layout": "IPY_MODEL_24f31cd636b1495f936b8c3eeb03e7a0",
       "max": 28,
       "style": "IPY_MODEL_ec8ef4b5def64174a6547ff65b386680",
       "value": 28
      }
     },
     "b34a743e573c483d8e4569539d19d466": {
      "model_module": "@jupyter-widgets/base",
      "model_module_version": "1.2.0",
      "model_name": "LayoutModel",
      "state": {}
     },
     "b3dd61ac2fa1445d8f0adbf49396dcd0": {
      "model_module": "@jupyter-widgets/controls",
      "model_module_version": "1.5.0",
      "model_name": "ProgressStyleModel",
      "state": {
       "description_width": "initial"
      }
     },
     "b4c2e0d1fe924ffbbbe07c08e10add9d": {
      "model_module": "@jupyter-widgets/base",
      "model_module_version": "1.2.0",
      "model_name": "LayoutModel",
      "state": {}
     },
     "b4ef0eefafff4f0c9460367d9db8cce6": {
      "model_module": "@jupyter-widgets/controls",
      "model_module_version": "1.5.0",
      "model_name": "FloatProgressModel",
      "state": {
       "bar_style": "success",
       "description": "100%",
       "layout": "IPY_MODEL_44e15eb6b244438e928fe9f0daa01c09",
       "max": 1297,
       "style": "IPY_MODEL_aa74a214d3414c7da54f67fd55e954bc",
       "value": 1297
      }
     },
     "b4fc6df6f3e548439ea762220d9200dc": {
      "model_module": "@jupyter-widgets/controls",
      "model_module_version": "1.5.0",
      "model_name": "HBoxModel",
      "state": {
       "children": [
        "IPY_MODEL_5b7947dd396d45eca0f5441f9d122dd2",
        "IPY_MODEL_1d6289d75d3b4414a4e3ef36de17eceb"
       ],
       "layout": "IPY_MODEL_7f45436b5cfc4e94bd40b5a1b3f5ab35"
      }
     },
     "b667fe9aa40a44e7a638ca658f86c1bb": {
      "model_module": "@jupyter-widgets/controls",
      "model_module_version": "1.5.0",
      "model_name": "HBoxModel",
      "state": {
       "children": [
        "IPY_MODEL_ba2d19e6608d414d898886b9b633b64c",
        "IPY_MODEL_d14c772cf00a42229c4e6600bfe59d58"
       ],
       "layout": "IPY_MODEL_a1b1f9bef10e4c64b7c2093bef3ed751"
      }
     },
     "b7d2968fa7f8428386dd549cf70dae67": {
      "model_module": "@jupyter-widgets/controls",
      "model_module_version": "1.5.0",
      "model_name": "FloatProgressModel",
      "state": {
       "bar_style": "success",
       "description": "100%",
       "layout": "IPY_MODEL_5b723328222549e0b063f33dca9cd801",
       "max": 658,
       "style": "IPY_MODEL_3cc1bb44b18845098d68181ecc2ce0e6",
       "value": 658
      }
     },
     "b864a0cc72f0425bb2f62a766da1750c": {
      "model_module": "@jupyter-widgets/base",
      "model_module_version": "1.2.0",
      "model_name": "LayoutModel",
      "state": {}
     },
     "b8f1f637e58344b7b66a4af92e524931": {
      "model_module": "@jupyter-widgets/controls",
      "model_module_version": "1.5.0",
      "model_name": "HBoxModel",
      "state": {
       "children": [
        "IPY_MODEL_56c258f5e1ff49f9bf2d27e6179f43fa",
        "IPY_MODEL_dfec5f0cc18540fc996d815d5a16bf82"
       ],
       "layout": "IPY_MODEL_f36f2664f50040708de31bcc36243178"
      }
     },
     "b9c8d6f27f44468bb952800649680a77": {
      "model_module": "@jupyter-widgets/controls",
      "model_module_version": "1.5.0",
      "model_name": "ProgressStyleModel",
      "state": {
       "description_width": "initial"
      }
     },
     "ba2d19e6608d414d898886b9b633b64c": {
      "model_module": "@jupyter-widgets/controls",
      "model_module_version": "1.5.0",
      "model_name": "FloatProgressModel",
      "state": {
       "bar_style": "success",
       "description": "100%",
       "layout": "IPY_MODEL_82172e3bae9747c6b9a0a26f4a9fa3a5",
       "max": 34,
       "style": "IPY_MODEL_9bbde5d152764111bba581f9989e85f0",
       "value": 34
      }
     },
     "ba5de953e64345c09b065955f1f9d2aa": {
      "model_module": "@jupyter-widgets/base",
      "model_module_version": "1.2.0",
      "model_name": "LayoutModel",
      "state": {}
     },
     "ba908d5cf2cf4686ab33f7e9e39d915c": {
      "model_module": "@jupyter-widgets/base",
      "model_module_version": "1.2.0",
      "model_name": "LayoutModel",
      "state": {}
     },
     "bb06c8b2711c4149b993f43dbf745d3c": {
      "model_module": "@jupyter-widgets/controls",
      "model_module_version": "1.5.0",
      "model_name": "ProgressStyleModel",
      "state": {
       "description_width": "initial"
      }
     },
     "bb08bb90ad3541018ddb74d8fc9c7b8b": {
      "model_module": "@jupyter-widgets/base",
      "model_module_version": "1.2.0",
      "model_name": "LayoutModel",
      "state": {}
     },
     "bc54410b74344f979930ecfdb5a4d738": {
      "model_module": "@jupyter-widgets/controls",
      "model_module_version": "1.5.0",
      "model_name": "HTMLModel",
      "state": {
       "layout": "IPY_MODEL_5aa0fd8d481d44fcbd9a96546aab2339",
       "style": "IPY_MODEL_998c916f7dce4874a1fcf7a10c5ab47a",
       "value": " 632/632 [01:44&lt;00:00,  6.07it/s]"
      }
     },
     "bc780bcbb537448a82af6e17f8373777": {
      "model_module": "@jupyter-widgets/controls",
      "model_module_version": "1.5.0",
      "model_name": "FloatProgressModel",
      "state": {
       "bar_style": "success",
       "description": "100%",
       "layout": "IPY_MODEL_edf2ffbd18974b7db0ae2cb77b2c2916",
       "max": 464,
       "style": "IPY_MODEL_fd26719f474a45dcbd211e978c2ce6fd",
       "value": 464
      }
     },
     "bc8b7171a2024ae4aa8554f8a56c9215": {
      "model_module": "@jupyter-widgets/controls",
      "model_module_version": "1.5.0",
      "model_name": "HTMLModel",
      "state": {
       "layout": "IPY_MODEL_6a19e2566e4b4cec9592224e6032d883",
       "style": "IPY_MODEL_f083a21882e94922b986fd229d36fde2",
       "value": " 9/9 [00:02&lt;00:00,  3.88it/s]"
      }
     },
     "bcc57581e5484c4d9a24c4a8e8e155de": {
      "model_module": "@jupyter-widgets/controls",
      "model_module_version": "1.5.0",
      "model_name": "ProgressStyleModel",
      "state": {
       "description_width": "initial"
      }
     },
     "bd2428fa32804ca7ab0b1dafa93dd11b": {
      "model_module": "@jupyter-widgets/controls",
      "model_module_version": "1.5.0",
      "model_name": "HBoxModel",
      "state": {
       "children": [
        "IPY_MODEL_e119e04fc9194ce7b685a0278d961fa2",
        "IPY_MODEL_67779645d18441fbaafe44c02252f35e"
       ],
       "layout": "IPY_MODEL_7e88ecd5d98f4d0599eaf85dc4ea7f8b"
      }
     },
     "bd65a8c8cca544b88b772ac838acaf1e": {
      "model_module": "@jupyter-widgets/controls",
      "model_module_version": "1.5.0",
      "model_name": "FloatProgressModel",
      "state": {
       "bar_style": "success",
       "description": "100%",
       "layout": "IPY_MODEL_b12f663341ce4ae281b81d59bc93d049",
       "max": 518,
       "style": "IPY_MODEL_d96dd217dc654678bb331cb898fe054e",
       "value": 518
      }
     },
     "bdd00cb860c3489494a969a9d4f6c1e3": {
      "model_module": "@jupyter-widgets/base",
      "model_module_version": "1.2.0",
      "model_name": "LayoutModel",
      "state": {}
     },
     "be6baf85e32940d6a900a614a9f564d2": {
      "model_module": "@jupyter-widgets/controls",
      "model_module_version": "1.5.0",
      "model_name": "DescriptionStyleModel",
      "state": {
       "description_width": ""
      }
     },
     "bf22081cabb84a4ebfab6961a3c7f468": {
      "model_module": "@jupyter-widgets/controls",
      "model_module_version": "1.5.0",
      "model_name": "ProgressStyleModel",
      "state": {
       "description_width": "initial"
      }
     },
     "bf58c139d7624d8faa1b52fe10fcc11c": {
      "model_module": "@jupyter-widgets/base",
      "model_module_version": "1.2.0",
      "model_name": "LayoutModel",
      "state": {}
     },
     "bfa14532e9fe4856b21a2e0b3f62292c": {
      "model_module": "@jupyter-widgets/controls",
      "model_module_version": "1.5.0",
      "model_name": "HBoxModel",
      "state": {
       "children": [
        "IPY_MODEL_125c11813bea4a6ba2ac8f4a69dc3dee",
        "IPY_MODEL_428b4838df194ad3b4375b62bcab4753"
       ],
       "layout": "IPY_MODEL_e88259fb929147f3bfa028a5693ecf89"
      }
     },
     "c043e48fe03844d0bf62e7d18c3e6776": {
      "model_module": "@jupyter-widgets/base",
      "model_module_version": "1.2.0",
      "model_name": "LayoutModel",
      "state": {}
     },
     "c09e0cda3f434af58001ca8b425dcbd0": {
      "model_module": "@jupyter-widgets/base",
      "model_module_version": "1.2.0",
      "model_name": "LayoutModel",
      "state": {}
     },
     "c0f3aacf13a54408acf0bb63dae25da0": {
      "model_module": "@jupyter-widgets/base",
      "model_module_version": "1.2.0",
      "model_name": "LayoutModel",
      "state": {}
     },
     "c11f53a2d8644d89a81c0eab7ebb53b1": {
      "model_module": "@jupyter-widgets/controls",
      "model_module_version": "1.5.0",
      "model_name": "ProgressStyleModel",
      "state": {
       "description_width": "initial"
      }
     },
     "c15602977de043c3a3e95a0f05de8858": {
      "model_module": "@jupyter-widgets/base",
      "model_module_version": "1.2.0",
      "model_name": "LayoutModel",
      "state": {}
     },
     "c2ed5a6b2bd94ad88860d670e11ffbbf": {
      "model_module": "@jupyter-widgets/base",
      "model_module_version": "1.2.0",
      "model_name": "LayoutModel",
      "state": {}
     },
     "c2fc39d518574b2cb110b601e908458f": {
      "model_module": "@jupyter-widgets/base",
      "model_module_version": "1.2.0",
      "model_name": "LayoutModel",
      "state": {}
     },
     "c3710edc87b1499bade9a548db0b5122": {
      "model_module": "@jupyter-widgets/controls",
      "model_module_version": "1.5.0",
      "model_name": "DescriptionStyleModel",
      "state": {
       "description_width": ""
      }
     },
     "c39e83d201a449e1bfa491f5ac9283f7": {
      "model_module": "@jupyter-widgets/controls",
      "model_module_version": "1.5.0",
      "model_name": "FloatProgressModel",
      "state": {
       "bar_style": "success",
       "description": "100%",
       "layout": "IPY_MODEL_e0a007f7110140f9baf66b0452ede7b1",
       "max": 533,
       "style": "IPY_MODEL_f48c02a960f148dfa11d45c2b7776a23",
       "value": 533
      }
     },
     "c3cd09598a2e4935919411068d1c3e9e": {
      "model_module": "@jupyter-widgets/controls",
      "model_module_version": "1.5.0",
      "model_name": "ProgressStyleModel",
      "state": {
       "description_width": "initial"
      }
     },
     "c43be15c08a94bbaaadc9cae2ade5d12": {
      "model_module": "@jupyter-widgets/controls",
      "model_module_version": "1.5.0",
      "model_name": "ProgressStyleModel",
      "state": {
       "description_width": "initial"
      }
     },
     "c5b57ed0f46c4835a528556c3864b45c": {
      "model_module": "@jupyter-widgets/controls",
      "model_module_version": "1.5.0",
      "model_name": "FloatProgressModel",
      "state": {
       "bar_style": "success",
       "description": "100%",
       "layout": "IPY_MODEL_35b0a853b7e34964aa09f9b8347d3632",
       "max": 516,
       "style": "IPY_MODEL_95aa70ea944c41d686f6444c666f2cab",
       "value": 516
      }
     },
     "c61fdb5b4ef1438f918f2d8d55e27459": {
      "model_module": "@jupyter-widgets/base",
      "model_module_version": "1.2.0",
      "model_name": "LayoutModel",
      "state": {}
     },
     "c66375d1e7454af5bbb68b551fcbdbac": {
      "model_module": "@jupyter-widgets/base",
      "model_module_version": "1.2.0",
      "model_name": "LayoutModel",
      "state": {}
     },
     "c69982a1518547acadc03551958e4ba6": {
      "model_module": "@jupyter-widgets/base",
      "model_module_version": "1.2.0",
      "model_name": "LayoutModel",
      "state": {}
     },
     "c6e2e5130d07446abc010fbc7041b19f": {
      "model_module": "@jupyter-widgets/base",
      "model_module_version": "1.2.0",
      "model_name": "LayoutModel",
      "state": {}
     },
     "c7ed4a509c404926911b8dcd250b8329": {
      "model_module": "@jupyter-widgets/controls",
      "model_module_version": "1.5.0",
      "model_name": "HBoxModel",
      "state": {
       "children": [
        "IPY_MODEL_1fd1401a66b742959cfb31911df5941e",
        "IPY_MODEL_2cd3d4a28f98487488df186c75660fd5"
       ],
       "layout": "IPY_MODEL_e75e72b21d6a4ce99b0835ab620ed918"
      }
     },
     "c8ae35e4eab240a2b813dcfa62d9f897": {
      "model_module": "@jupyter-widgets/base",
      "model_module_version": "1.2.0",
      "model_name": "LayoutModel",
      "state": {}
     },
     "c8d2bb24da88455e95b0bb5d81785a10": {
      "model_module": "@jupyter-widgets/controls",
      "model_module_version": "1.5.0",
      "model_name": "FloatProgressModel",
      "state": {
       "bar_style": "success",
       "description": "100%",
       "layout": "IPY_MODEL_cbf8754df7254f41aa99cf13eed23103",
       "max": 123,
       "style": "IPY_MODEL_08ab63d53b81403391460aaa38554518",
       "value": 123
      }
     },
     "c955dc03c2cb47c99c56fb3d4294ede5": {
      "model_module": "@jupyter-widgets/controls",
      "model_module_version": "1.5.0",
      "model_name": "DescriptionStyleModel",
      "state": {
       "description_width": ""
      }
     },
     "c9f520192cca42e6970a665efc72f3e1": {
      "model_module": "@jupyter-widgets/controls",
      "model_module_version": "1.5.0",
      "model_name": "HBoxModel",
      "state": {
       "children": [
        "IPY_MODEL_9adb52b99b21492ba2b3c297aab5ba99",
        "IPY_MODEL_40f0761fbdee49b7bd128fbf03c137bb"
       ],
       "layout": "IPY_MODEL_734190b8233d49e5afd9969665132282"
      }
     },
     "ca06011fa6cc473cab930003e2fca8d5": {
      "model_module": "@jupyter-widgets/controls",
      "model_module_version": "1.5.0",
      "model_name": "DescriptionStyleModel",
      "state": {
       "description_width": ""
      }
     },
     "ca2f505910614917baeaa620dcb48b62": {
      "model_module": "@jupyter-widgets/controls",
      "model_module_version": "1.5.0",
      "model_name": "DescriptionStyleModel",
      "state": {
       "description_width": ""
      }
     },
     "cacf10dac46a4706a01c342a0e517817": {
      "model_module": "@jupyter-widgets/controls",
      "model_module_version": "1.5.0",
      "model_name": "HBoxModel",
      "state": {
       "children": [
        "IPY_MODEL_cc5c3977c83d4b99bc1b7e511803176f",
        "IPY_MODEL_3d252e4c95ad433a8931c15c8394dd55"
       ],
       "layout": "IPY_MODEL_89574ed9ecb9498696a2e1937146fd83"
      }
     },
     "cb63d39e3a454cad8f1d01a425d6d35e": {
      "model_module": "@jupyter-widgets/controls",
      "model_module_version": "1.5.0",
      "model_name": "ProgressStyleModel",
      "state": {
       "description_width": "initial"
      }
     },
     "cb9e2b90de6e46c7a5f8eea945abc191": {
      "model_module": "@jupyter-widgets/base",
      "model_module_version": "1.2.0",
      "model_name": "LayoutModel",
      "state": {}
     },
     "cbf8754df7254f41aa99cf13eed23103": {
      "model_module": "@jupyter-widgets/base",
      "model_module_version": "1.2.0",
      "model_name": "LayoutModel",
      "state": {}
     },
     "cbf9fbf2d66048ceb53bee76109f88b3": {
      "model_module": "@jupyter-widgets/controls",
      "model_module_version": "1.5.0",
      "model_name": "DescriptionStyleModel",
      "state": {
       "description_width": ""
      }
     },
     "cbf9fc6dfc2f4b61abbeae922ee56eb9": {
      "model_module": "@jupyter-widgets/controls",
      "model_module_version": "1.5.0",
      "model_name": "DescriptionStyleModel",
      "state": {
       "description_width": ""
      }
     },
     "cc5c3977c83d4b99bc1b7e511803176f": {
      "model_module": "@jupyter-widgets/controls",
      "model_module_version": "1.5.0",
      "model_name": "FloatProgressModel",
      "state": {
       "bar_style": "success",
       "description": "100%",
       "layout": "IPY_MODEL_d9a898fb98f344c8964f232597b2ac61",
       "max": 46,
       "style": "IPY_MODEL_71b99f98584842349f1b12f70f92cf0e",
       "value": 46
      }
     },
     "cce531fafb074063b211690f8d35eac3": {
      "model_module": "@jupyter-widgets/controls",
      "model_module_version": "1.5.0",
      "model_name": "HTMLModel",
      "state": {
       "layout": "IPY_MODEL_ba908d5cf2cf4686ab33f7e9e39d915c",
       "style": "IPY_MODEL_9250681683384f85980dba13864cb113",
       "value": " 94/94 [00:05&lt;00:00, 15.89it/s]"
      }
     },
     "ce1208c3445e45f8b4dfcaffb4f50b49": {
      "model_module": "@jupyter-widgets/base",
      "model_module_version": "1.2.0",
      "model_name": "LayoutModel",
      "state": {}
     },
     "ce674e32a2bf4c7dadc6152ba6f79ec3": {
      "model_module": "@jupyter-widgets/controls",
      "model_module_version": "1.5.0",
      "model_name": "ProgressStyleModel",
      "state": {
       "description_width": "initial"
      }
     },
     "cef479be32cf4d72856bd27da8545ab2": {
      "model_module": "@jupyter-widgets/controls",
      "model_module_version": "1.5.0",
      "model_name": "HBoxModel",
      "state": {
       "children": [
        "IPY_MODEL_40a2c851f8d64f08a6dd1834c910eaf0",
        "IPY_MODEL_72d4aaef9986445daca0281aa61f2dbf"
       ],
       "layout": "IPY_MODEL_3354eee2c5a44862b01bcca73d2e9e59"
      }
     },
     "cfb50386cc8c47edb9765d920f2f4d57": {
      "model_module": "@jupyter-widgets/controls",
      "model_module_version": "1.5.0",
      "model_name": "HBoxModel",
      "state": {
       "children": [
        "IPY_MODEL_220201585d75480cacb1b11af9042054",
        "IPY_MODEL_d83046bc26b24efbbc33bd0ae2ec49c4"
       ],
       "layout": "IPY_MODEL_e6854bfd53034deb8bb83067a84b0e4c"
      }
     },
     "cff230e02419494598fe86715c76826e": {
      "model_module": "@jupyter-widgets/base",
      "model_module_version": "1.2.0",
      "model_name": "LayoutModel",
      "state": {}
     },
     "d01e10c6be324a8f83f5db7475e0c38e": {
      "model_module": "@jupyter-widgets/base",
      "model_module_version": "1.2.0",
      "model_name": "LayoutModel",
      "state": {}
     },
     "d068aa63990d4b4c95d8ea614c118151": {
      "model_module": "@jupyter-widgets/base",
      "model_module_version": "1.2.0",
      "model_name": "LayoutModel",
      "state": {}
     },
     "d09253f5059f448da56e8bf6ccaa2982": {
      "model_module": "@jupyter-widgets/base",
      "model_module_version": "1.2.0",
      "model_name": "LayoutModel",
      "state": {}
     },
     "d11493b605c84ac3b0a50547fc850cc4": {
      "model_module": "@jupyter-widgets/base",
      "model_module_version": "1.2.0",
      "model_name": "LayoutModel",
      "state": {}
     },
     "d14c772cf00a42229c4e6600bfe59d58": {
      "model_module": "@jupyter-widgets/controls",
      "model_module_version": "1.5.0",
      "model_name": "HTMLModel",
      "state": {
       "layout": "IPY_MODEL_2a74c5f22cc841a1bcaf2976cf7e36f8",
       "style": "IPY_MODEL_a67521f9904e4128aa94711ee205fc89",
       "value": " 34/34 [00:04&lt;00:00,  8.46it/s]"
      }
     },
     "d1a93ff278d9484f938fdd3643ee2794": {
      "model_module": "@jupyter-widgets/controls",
      "model_module_version": "1.5.0",
      "model_name": "ProgressStyleModel",
      "state": {
       "description_width": "initial"
      }
     },
     "d351ef03197d4770957ce7fd47c50965": {
      "model_module": "@jupyter-widgets/base",
      "model_module_version": "1.2.0",
      "model_name": "LayoutModel",
      "state": {}
     },
     "d4b1ffeb5187452697ea07830a988c29": {
      "model_module": "@jupyter-widgets/base",
      "model_module_version": "1.2.0",
      "model_name": "LayoutModel",
      "state": {}
     },
     "d4e7ac261d7044a69884999c7a360402": {
      "model_module": "@jupyter-widgets/controls",
      "model_module_version": "1.5.0",
      "model_name": "HTMLModel",
      "state": {
       "layout": "IPY_MODEL_28ebb02577a04065a11b0abaea28a577",
       "style": "IPY_MODEL_d5bb210612284d43ae646c9d797857a6",
       "value": " 319/319 [00:22&lt;00:00, 14.42it/s]"
      }
     },
     "d4f06d6654ae457cbc67dd1c65e88891": {
      "model_module": "@jupyter-widgets/base",
      "model_module_version": "1.2.0",
      "model_name": "LayoutModel",
      "state": {}
     },
     "d4f4a303d4f748a09c53f11f4a653761": {
      "model_module": "@jupyter-widgets/base",
      "model_module_version": "1.2.0",
      "model_name": "LayoutModel",
      "state": {}
     },
     "d5bb210612284d43ae646c9d797857a6": {
      "model_module": "@jupyter-widgets/controls",
      "model_module_version": "1.5.0",
      "model_name": "DescriptionStyleModel",
      "state": {
       "description_width": ""
      }
     },
     "d5edb14a94024ac597f4bb35fe8ff91e": {
      "model_module": "@jupyter-widgets/base",
      "model_module_version": "1.2.0",
      "model_name": "LayoutModel",
      "state": {}
     },
     "d5ede6beb9b1498e9390b6635bf61374": {
      "model_module": "@jupyter-widgets/controls",
      "model_module_version": "1.5.0",
      "model_name": "DescriptionStyleModel",
      "state": {
       "description_width": ""
      }
     },
     "d6285500292d4c329fe91522bc48b776": {
      "model_module": "@jupyter-widgets/base",
      "model_module_version": "1.2.0",
      "model_name": "LayoutModel",
      "state": {}
     },
     "d64d6891bfee41148b55a0887eb39e41": {
      "model_module": "@jupyter-widgets/controls",
      "model_module_version": "1.5.0",
      "model_name": "HBoxModel",
      "state": {
       "children": [
        "IPY_MODEL_89587e4879d04bcca5ca896c79ecff0d",
        "IPY_MODEL_abecf9167178442d8a1dc2d76a8ae381"
       ],
       "layout": "IPY_MODEL_24485423a6454696b7fde29fbf5eeee1"
      }
     },
     "d6bdecdbe99248b1b304d4ec57afda11": {
      "model_module": "@jupyter-widgets/controls",
      "model_module_version": "1.5.0",
      "model_name": "FloatProgressModel",
      "state": {
       "bar_style": "success",
       "description": "100%",
       "layout": "IPY_MODEL_715f5ce456194fae822dd7670457dca5",
       "max": 309,
       "style": "IPY_MODEL_65557ebe18af43fb8372efefe4d1caa8",
       "value": 309
      }
     },
     "d83046bc26b24efbbc33bd0ae2ec49c4": {
      "model_module": "@jupyter-widgets/controls",
      "model_module_version": "1.5.0",
      "model_name": "HTMLModel",
      "state": {
       "layout": "IPY_MODEL_438c3bcaec774ef185dc031f50390a2e",
       "style": "IPY_MODEL_90ffea88d1d043cea3513dff014eb106",
       "value": " 28/28 [00:02&lt;00:00, 13.28it/s]"
      }
     },
     "d8324064e420406cb4b3e4cde1feccc2": {
      "model_module": "@jupyter-widgets/controls",
      "model_module_version": "1.5.0",
      "model_name": "HTMLModel",
      "state": {
       "layout": "IPY_MODEL_db823e80d9b847bdaffd6452f32346ef",
       "style": "IPY_MODEL_6d2d76f712b74c03853fc4c0a6f7f58c",
       "value": " 2548/2548 [19:30&lt;00:00,  2.18it/s]"
      }
     },
     "d8c9ffeb428b47a9a7bcc7563b8c3ecb": {
      "model_module": "@jupyter-widgets/controls",
      "model_module_version": "1.5.0",
      "model_name": "HBoxModel",
      "state": {
       "children": [
        "IPY_MODEL_a14185eee04f465ba1493f08023e204e",
        "IPY_MODEL_d8324064e420406cb4b3e4cde1feccc2"
       ],
       "layout": "IPY_MODEL_f8a933d06b9b43f380b2969de187bfdc"
      }
     },
     "d96adeadba2d494d9908f7e94c330764": {
      "model_module": "@jupyter-widgets/base",
      "model_module_version": "1.2.0",
      "model_name": "LayoutModel",
      "state": {}
     },
     "d96dd217dc654678bb331cb898fe054e": {
      "model_module": "@jupyter-widgets/controls",
      "model_module_version": "1.5.0",
      "model_name": "ProgressStyleModel",
      "state": {
       "description_width": "initial"
      }
     },
     "d9a898fb98f344c8964f232597b2ac61": {
      "model_module": "@jupyter-widgets/base",
      "model_module_version": "1.2.0",
      "model_name": "LayoutModel",
      "state": {}
     },
     "d9ad89383e8f4b2c89c741a31967ebb0": {
      "model_module": "@jupyter-widgets/base",
      "model_module_version": "1.2.0",
      "model_name": "LayoutModel",
      "state": {}
     },
     "d9f28e19aace4f168dc3c5ae97ae6a35": {
      "model_module": "@jupyter-widgets/base",
      "model_module_version": "1.2.0",
      "model_name": "LayoutModel",
      "state": {}
     },
     "daa31a7a544b4ec1b53868bfcefa5018": {
      "model_module": "@jupyter-widgets/controls",
      "model_module_version": "1.5.0",
      "model_name": "ProgressStyleModel",
      "state": {
       "description_width": "initial"
      }
     },
     "daeba99083c04118af698a3cd198f02d": {
      "model_module": "@jupyter-widgets/controls",
      "model_module_version": "1.5.0",
      "model_name": "DescriptionStyleModel",
      "state": {
       "description_width": ""
      }
     },
     "db2d59e3b444443eb35307fae2356508": {
      "model_module": "@jupyter-widgets/base",
      "model_module_version": "1.2.0",
      "model_name": "LayoutModel",
      "state": {}
     },
     "db3d69efffdd40e1971031169ccba512": {
      "model_module": "@jupyter-widgets/controls",
      "model_module_version": "1.5.0",
      "model_name": "HBoxModel",
      "state": {
       "children": [
        "IPY_MODEL_e149943d6b044017ab74f3aa80b1553c",
        "IPY_MODEL_91fa6488ad3e4e5bb1f0945dd6cd72cd"
       ],
       "layout": "IPY_MODEL_5ffa9c5c593b4d4487137068b760f59c"
      }
     },
     "db4c66abcc2c4699a61eecd4cb69c7c2": {
      "model_module": "@jupyter-widgets/controls",
      "model_module_version": "1.5.0",
      "model_name": "FloatProgressModel",
      "state": {
       "bar_style": "success",
       "description": "100%",
       "layout": "IPY_MODEL_3be16c5aada74dbfa512d49e89bdaa7d",
       "max": 7225,
       "style": "IPY_MODEL_0ca85f7f3ab748a39e46304f6c716d0a",
       "value": 7225
      }
     },
     "db823e80d9b847bdaffd6452f32346ef": {
      "model_module": "@jupyter-widgets/base",
      "model_module_version": "1.2.0",
      "model_name": "LayoutModel",
      "state": {}
     },
     "dc1f57dddca948848e4a74ac95e44c4b": {
      "model_module": "@jupyter-widgets/controls",
      "model_module_version": "1.5.0",
      "model_name": "DescriptionStyleModel",
      "state": {
       "description_width": ""
      }
     },
     "dc6e73b2ed45460695b95f05170456ce": {
      "model_module": "@jupyter-widgets/controls",
      "model_module_version": "1.5.0",
      "model_name": "ProgressStyleModel",
      "state": {
       "description_width": "initial"
      }
     },
     "dcfeafc6fde34d5ebba917f956b3a89c": {
      "model_module": "@jupyter-widgets/controls",
      "model_module_version": "1.5.0",
      "model_name": "ProgressStyleModel",
      "state": {
       "description_width": "initial"
      }
     },
     "dd9d1ab36b214d6997aede16a1610e5b": {
      "model_module": "@jupyter-widgets/base",
      "model_module_version": "1.2.0",
      "model_name": "LayoutModel",
      "state": {}
     },
     "de0bf036f44d402da32f402c9ec282f7": {
      "model_module": "@jupyter-widgets/controls",
      "model_module_version": "1.5.0",
      "model_name": "HBoxModel",
      "state": {
       "children": [
        "IPY_MODEL_56d7ff55cd0a446d8393acaca716644a",
        "IPY_MODEL_84c5aa9539244e3f8cc348782514adc3"
       ],
       "layout": "IPY_MODEL_17b87f1e8d3945219c3143ae449401a7"
      }
     },
     "de1fe22e3a5c466599e563d7993b74d5": {
      "model_module": "@jupyter-widgets/controls",
      "model_module_version": "1.5.0",
      "model_name": "FloatProgressModel",
      "state": {
       "bar_style": "success",
       "description": "100%",
       "layout": "IPY_MODEL_6215ab9d8da147959bb6ba4b901491cc",
       "max": 19,
       "style": "IPY_MODEL_7f4260af3bf0470a9551e6cc5c7ec79f",
       "value": 19
      }
     },
     "de4ea24a2b164c2480859cffc5b1dccc": {
      "model_module": "@jupyter-widgets/base",
      "model_module_version": "1.2.0",
      "model_name": "LayoutModel",
      "state": {}
     },
     "decb1794a06849d2a32760d09fe1888d": {
      "model_module": "@jupyter-widgets/controls",
      "model_module_version": "1.5.0",
      "model_name": "DescriptionStyleModel",
      "state": {
       "description_width": ""
      }
     },
     "df93654db50b4e7ab0b3923c8eff1e58": {
      "model_module": "@jupyter-widgets/controls",
      "model_module_version": "1.5.0",
      "model_name": "ProgressStyleModel",
      "state": {
       "description_width": "initial"
      }
     },
     "dfec5f0cc18540fc996d815d5a16bf82": {
      "model_module": "@jupyter-widgets/controls",
      "model_module_version": "1.5.0",
      "model_name": "HTMLModel",
      "state": {
       "layout": "IPY_MODEL_cff230e02419494598fe86715c76826e",
       "style": "IPY_MODEL_02fd26408b2d407aaeb929f7208d1fb6",
       "value": " 112/112 [00:14&lt;00:00,  7.57it/s]"
      }
     },
     "e01c3bb010104b28ac9c1361057e10bb": {
      "model_module": "@jupyter-widgets/base",
      "model_module_version": "1.2.0",
      "model_name": "LayoutModel",
      "state": {}
     },
     "e0a007f7110140f9baf66b0452ede7b1": {
      "model_module": "@jupyter-widgets/base",
      "model_module_version": "1.2.0",
      "model_name": "LayoutModel",
      "state": {}
     },
     "e0ce5ea99f5a4812aafe523a6516e67f": {
      "model_module": "@jupyter-widgets/controls",
      "model_module_version": "1.5.0",
      "model_name": "FloatProgressModel",
      "state": {
       "bar_style": "success",
       "description": "100%",
       "layout": "IPY_MODEL_bb08bb90ad3541018ddb74d8fc9c7b8b",
       "max": 99,
       "style": "IPY_MODEL_a5efcbd4c3f449e2a3b1b4994700ad2f",
       "value": 99
      }
     },
     "e0cf7590c49b47839d04538e4aad5bf7": {
      "model_module": "@jupyter-widgets/controls",
      "model_module_version": "1.5.0",
      "model_name": "HBoxModel",
      "state": {
       "children": [
        "IPY_MODEL_957430ac290f4e218efd27dfba06b3ca",
        "IPY_MODEL_68eb4df6645b4a9f8725f481c6932714"
       ],
       "layout": "IPY_MODEL_4ef6283c617f4beeb9422607832e66ed"
      }
     },
     "e1036b9e3f124c3e965889326e5a0ee7": {
      "model_module": "@jupyter-widgets/base",
      "model_module_version": "1.2.0",
      "model_name": "LayoutModel",
      "state": {}
     },
     "e119e04fc9194ce7b685a0278d961fa2": {
      "model_module": "@jupyter-widgets/controls",
      "model_module_version": "1.5.0",
      "model_name": "FloatProgressModel",
      "state": {
       "bar_style": "success",
       "description": "100%",
       "layout": "IPY_MODEL_236ca3044a994dedb76846a8b825a23d",
       "max": 1430,
       "style": "IPY_MODEL_505ac75af4624c8a9ab028f365b99b5e",
       "value": 1430
      }
     },
     "e149943d6b044017ab74f3aa80b1553c": {
      "model_module": "@jupyter-widgets/controls",
      "model_module_version": "1.5.0",
      "model_name": "FloatProgressModel",
      "state": {
       "bar_style": "success",
       "description": "100%",
       "layout": "IPY_MODEL_3e607c72766b4b4799867f74d2fda7b5",
       "max": 528,
       "style": "IPY_MODEL_bb06c8b2711c4149b993f43dbf745d3c",
       "value": 528
      }
     },
     "e19d722b257242f1bd39ec36556c0369": {
      "model_module": "@jupyter-widgets/controls",
      "model_module_version": "1.5.0",
      "model_name": "HBoxModel",
      "state": {
       "children": [
        "IPY_MODEL_7e1a0785d74e44089747045bbe66f3a8",
        "IPY_MODEL_4c0ee04abb554d4a86a749499f4aa759"
       ],
       "layout": "IPY_MODEL_a5a2e3d24e834f2c93aa16a42d3bfd5f"
      }
     },
     "e2d648bbbce4479e909c577eff6eb66a": {
      "model_module": "@jupyter-widgets/base",
      "model_module_version": "1.2.0",
      "model_name": "LayoutModel",
      "state": {}
     },
     "e36fd354b7c14ef090bbb9167cc23597": {
      "model_module": "@jupyter-widgets/base",
      "model_module_version": "1.2.0",
      "model_name": "LayoutModel",
      "state": {}
     },
     "e3950ebd1ced442e9983fcd3d7c94995": {
      "model_module": "@jupyter-widgets/controls",
      "model_module_version": "1.5.0",
      "model_name": "DescriptionStyleModel",
      "state": {
       "description_width": ""
      }
     },
     "e436e1f418ab4be4b8f9c93e0000f004": {
      "model_module": "@jupyter-widgets/base",
      "model_module_version": "1.2.0",
      "model_name": "LayoutModel",
      "state": {}
     },
     "e446859047a2478c906f0c1bf96d2a10": {
      "model_module": "@jupyter-widgets/base",
      "model_module_version": "1.2.0",
      "model_name": "LayoutModel",
      "state": {}
     },
     "e47429374c4b43da8c4b133e85c3e176": {
      "model_module": "@jupyter-widgets/controls",
      "model_module_version": "1.5.0",
      "model_name": "HBoxModel",
      "state": {
       "children": [
        "IPY_MODEL_4fd64d42e2a741658a7a21ff31507298",
        "IPY_MODEL_0e0b8e7a2f314641bc1fd7756c2a6196"
       ],
       "layout": "IPY_MODEL_e5fd67ec38a144239cd65611cd064b70"
      }
     },
     "e571ffc7af16413581a50e93a91b4baa": {
      "model_module": "@jupyter-widgets/controls",
      "model_module_version": "1.5.0",
      "model_name": "HBoxModel",
      "state": {
       "children": [
        "IPY_MODEL_5886782b856447bcb5a3c2e2f56d0354",
        "IPY_MODEL_7c050273b1dc4030ae6cd50cdab91352"
       ],
       "layout": "IPY_MODEL_5e954ea7b40d4e6296a5832a800f5d32"
      }
     },
     "e5e5fc5ee4a843a380b9159cdb605a35": {
      "model_module": "@jupyter-widgets/controls",
      "model_module_version": "1.5.0",
      "model_name": "FloatProgressModel",
      "state": {
       "bar_style": "success",
       "description": "100%",
       "layout": "IPY_MODEL_4527d155115547f89481bd2c356ff246",
       "max": 501,
       "style": "IPY_MODEL_86a697881e2f40eb9fd1fff2fdaac5b2",
       "value": 501
      }
     },
     "e5fd67ec38a144239cd65611cd064b70": {
      "model_module": "@jupyter-widgets/base",
      "model_module_version": "1.2.0",
      "model_name": "LayoutModel",
      "state": {}
     },
     "e6854bfd53034deb8bb83067a84b0e4c": {
      "model_module": "@jupyter-widgets/base",
      "model_module_version": "1.2.0",
      "model_name": "LayoutModel",
      "state": {}
     },
     "e728224d32b04d7c9beeddeb2b032234": {
      "model_module": "@jupyter-widgets/controls",
      "model_module_version": "1.5.0",
      "model_name": "ProgressStyleModel",
      "state": {
       "description_width": "initial"
      }
     },
     "e74ca5d897674c69885af6b8b65bb9a3": {
      "model_module": "@jupyter-widgets/controls",
      "model_module_version": "1.5.0",
      "model_name": "ProgressStyleModel",
      "state": {
       "description_width": "initial"
      }
     },
     "e75e72b21d6a4ce99b0835ab620ed918": {
      "model_module": "@jupyter-widgets/base",
      "model_module_version": "1.2.0",
      "model_name": "LayoutModel",
      "state": {}
     },
     "e792dc3ed5ee426db0ebf96bac1a65e7": {
      "model_module": "@jupyter-widgets/base",
      "model_module_version": "1.2.0",
      "model_name": "LayoutModel",
      "state": {}
     },
     "e7d3658a186345c09e6d8b1cf08d7709": {
      "model_module": "@jupyter-widgets/controls",
      "model_module_version": "1.5.0",
      "model_name": "ProgressStyleModel",
      "state": {
       "description_width": "initial"
      }
     },
     "e7e3711026ad46a09c7f7635bb122459": {
      "model_module": "@jupyter-widgets/base",
      "model_module_version": "1.2.0",
      "model_name": "LayoutModel",
      "state": {}
     },
     "e88259fb929147f3bfa028a5693ecf89": {
      "model_module": "@jupyter-widgets/base",
      "model_module_version": "1.2.0",
      "model_name": "LayoutModel",
      "state": {}
     },
     "e8a8025dc6c44e849c93e89b0dfb31ad": {
      "model_module": "@jupyter-widgets/controls",
      "model_module_version": "1.5.0",
      "model_name": "DescriptionStyleModel",
      "state": {
       "description_width": ""
      }
     },
     "e9a9e5a7e95245bcb346081980b71432": {
      "model_module": "@jupyter-widgets/controls",
      "model_module_version": "1.5.0",
      "model_name": "ProgressStyleModel",
      "state": {
       "description_width": "initial"
      }
     },
     "ea8771df7a884a09819fe7fcf9ec5972": {
      "model_module": "@jupyter-widgets/base",
      "model_module_version": "1.2.0",
      "model_name": "LayoutModel",
      "state": {}
     },
     "eba9058b913e47ec81ce5ee04fd0d422": {
      "model_module": "@jupyter-widgets/base",
      "model_module_version": "1.2.0",
      "model_name": "LayoutModel",
      "state": {}
     },
     "ebd7afcbb229474f9d17373678381033": {
      "model_module": "@jupyter-widgets/controls",
      "model_module_version": "1.5.0",
      "model_name": "HTMLModel",
      "state": {
       "layout": "IPY_MODEL_fcf3ce23663141788e6a44b02fa45993",
       "style": "IPY_MODEL_32edb2575ed94de79d1be23fcc448984",
       "value": " 210/210 [36:45&lt;00:00, 10.50s/it]"
      }
     },
     "ec8ef4b5def64174a6547ff65b386680": {
      "model_module": "@jupyter-widgets/controls",
      "model_module_version": "1.5.0",
      "model_name": "ProgressStyleModel",
      "state": {
       "description_width": "initial"
      }
     },
     "ecd66e49d6b14972826608388fccb308": {
      "model_module": "@jupyter-widgets/controls",
      "model_module_version": "1.5.0",
      "model_name": "ProgressStyleModel",
      "state": {
       "description_width": "initial"
      }
     },
     "edd7df28cb814311965eaedf254333ee": {
      "model_module": "@jupyter-widgets/controls",
      "model_module_version": "1.5.0",
      "model_name": "HBoxModel",
      "state": {
       "children": [
        "IPY_MODEL_f2320da75c7c47cbaa15c8dce914b7aa",
        "IPY_MODEL_d4e7ac261d7044a69884999c7a360402"
       ],
       "layout": "IPY_MODEL_bf58c139d7624d8faa1b52fe10fcc11c"
      }
     },
     "eded78b84a6348d98e7b9ce4857e228d": {
      "model_module": "@jupyter-widgets/controls",
      "model_module_version": "1.5.0",
      "model_name": "DescriptionStyleModel",
      "state": {
       "description_width": ""
      }
     },
     "edf2ffbd18974b7db0ae2cb77b2c2916": {
      "model_module": "@jupyter-widgets/base",
      "model_module_version": "1.2.0",
      "model_name": "LayoutModel",
      "state": {}
     },
     "ee4803d64ad44f8fa26a24434fabac23": {
      "model_module": "@jupyter-widgets/controls",
      "model_module_version": "1.5.0",
      "model_name": "FloatProgressModel",
      "state": {
       "bar_style": "success",
       "description": "100%",
       "layout": "IPY_MODEL_6885d6f548024bae999a4dc8bd0624df",
       "max": 479,
       "style": "IPY_MODEL_f64dcdd887194da7a323804de0dbc355",
       "value": 479
      }
     },
     "eed856a9df334afda089160a2b5c8981": {
      "model_module": "@jupyter-widgets/controls",
      "model_module_version": "1.5.0",
      "model_name": "DescriptionStyleModel",
      "state": {
       "description_width": ""
      }
     },
     "ef060d6d5acc49df8cc6d2873c094d0f": {
      "model_module": "@jupyter-widgets/controls",
      "model_module_version": "1.5.0",
      "model_name": "HBoxModel",
      "state": {
       "children": [
        "IPY_MODEL_c5b57ed0f46c4835a528556c3864b45c",
        "IPY_MODEL_91617b0ff44840abb8cddaf80a598108"
       ],
       "layout": "IPY_MODEL_aff0a56eb22f49079afddb4c4305f1b0"
      }
     },
     "ef87f8246e6c4bc8ab9ad4db4d918a89": {
      "model_module": "@jupyter-widgets/controls",
      "model_module_version": "1.5.0",
      "model_name": "DescriptionStyleModel",
      "state": {
       "description_width": ""
      }
     },
     "f083a21882e94922b986fd229d36fde2": {
      "model_module": "@jupyter-widgets/controls",
      "model_module_version": "1.5.0",
      "model_name": "DescriptionStyleModel",
      "state": {
       "description_width": ""
      }
     },
     "f2320da75c7c47cbaa15c8dce914b7aa": {
      "model_module": "@jupyter-widgets/controls",
      "model_module_version": "1.5.0",
      "model_name": "FloatProgressModel",
      "state": {
       "bar_style": "success",
       "description": "100%",
       "layout": "IPY_MODEL_d6285500292d4c329fe91522bc48b776",
       "max": 319,
       "style": "IPY_MODEL_bcc57581e5484c4d9a24c4a8e8e155de",
       "value": 319
      }
     },
     "f2faa87cc8ec4e378e1cb0c61fcc5c35": {
      "model_module": "@jupyter-widgets/base",
      "model_module_version": "1.2.0",
      "model_name": "LayoutModel",
      "state": {}
     },
     "f32c82f800534c0fa8abae463aa6fab4": {
      "model_module": "@jupyter-widgets/controls",
      "model_module_version": "1.5.0",
      "model_name": "HBoxModel",
      "state": {
       "children": [
        "IPY_MODEL_33520ce1ce0343bf806412160f4abe45",
        "IPY_MODEL_2d4f5b2270914921acc52106b91804de"
       ],
       "layout": "IPY_MODEL_766007250e4642dd9b15ad01e58e6076"
      }
     },
     "f345f3aff470426f940a65acf3588a2d": {
      "model_module": "@jupyter-widgets/controls",
      "model_module_version": "1.5.0",
      "model_name": "HBoxModel",
      "state": {
       "children": [
        "IPY_MODEL_6dbc392fdf9d4ff8b6fdfc5c2d912600",
        "IPY_MODEL_38188236e10d44939e45a6c4b924cabe"
       ],
       "layout": "IPY_MODEL_27581ae1c54745c886a67276668577e7"
      }
     },
     "f36f2664f50040708de31bcc36243178": {
      "model_module": "@jupyter-widgets/base",
      "model_module_version": "1.2.0",
      "model_name": "LayoutModel",
      "state": {}
     },
     "f3d8004d907c4399a864495f214ddd4f": {
      "model_module": "@jupyter-widgets/controls",
      "model_module_version": "1.5.0",
      "model_name": "DescriptionStyleModel",
      "state": {
       "description_width": ""
      }
     },
     "f44b9bb27c3a4bf7b144f491b2b24c90": {
      "model_module": "@jupyter-widgets/base",
      "model_module_version": "1.2.0",
      "model_name": "LayoutModel",
      "state": {}
     },
     "f45fbc7fda22495bb5a5ba616dcc8bf5": {
      "model_module": "@jupyter-widgets/controls",
      "model_module_version": "1.5.0",
      "model_name": "FloatProgressModel",
      "state": {
       "bar_style": "success",
       "description": "100%",
       "layout": "IPY_MODEL_6b8c4df5d7994513af71a3632b9bf281",
       "max": 28,
       "style": "IPY_MODEL_b12d3046f1254b729842e1b5524360ab",
       "value": 28
      }
     },
     "f48c02a960f148dfa11d45c2b7776a23": {
      "model_module": "@jupyter-widgets/controls",
      "model_module_version": "1.5.0",
      "model_name": "ProgressStyleModel",
      "state": {
       "description_width": "initial"
      }
     },
     "f4a8282ba3b04cb2a34deddff8e9ddc4": {
      "model_module": "@jupyter-widgets/controls",
      "model_module_version": "1.5.0",
      "model_name": "FloatProgressModel",
      "state": {
       "bar_style": "success",
       "description": "100%",
       "layout": "IPY_MODEL_691d2e6c895542698ab83365120b15eb",
       "max": 64,
       "style": "IPY_MODEL_46508d694ba34313921315beae1f7e5c",
       "value": 64
      }
     },
     "f4ff6c96537248d38c773b6ed43b1cf5": {
      "model_module": "@jupyter-widgets/controls",
      "model_module_version": "1.5.0",
      "model_name": "FloatProgressModel",
      "state": {
       "bar_style": "success",
       "description": "100%",
       "layout": "IPY_MODEL_d4f4a303d4f748a09c53f11f4a653761",
       "max": 60,
       "style": "IPY_MODEL_c43be15c08a94bbaaadc9cae2ade5d12",
       "value": 60
      }
     },
     "f5db07290f0540d3b8f2c0a7aa5060a0": {
      "model_module": "@jupyter-widgets/base",
      "model_module_version": "1.2.0",
      "model_name": "LayoutModel",
      "state": {}
     },
     "f64dcdd887194da7a323804de0dbc355": {
      "model_module": "@jupyter-widgets/controls",
      "model_module_version": "1.5.0",
      "model_name": "ProgressStyleModel",
      "state": {
       "description_width": "initial"
      }
     },
     "f836aa8f2fff4c32888b34f227dad374": {
      "model_module": "@jupyter-widgets/controls",
      "model_module_version": "1.5.0",
      "model_name": "DescriptionStyleModel",
      "state": {
       "description_width": ""
      }
     },
     "f8a933d06b9b43f380b2969de187bfdc": {
      "model_module": "@jupyter-widgets/base",
      "model_module_version": "1.2.0",
      "model_name": "LayoutModel",
      "state": {}
     },
     "f8bd405c458d4d4e810648a16e253c2e": {
      "model_module": "@jupyter-widgets/base",
      "model_module_version": "1.2.0",
      "model_name": "LayoutModel",
      "state": {}
     },
     "f95c77cc17ec4d75b20e89f60433c17d": {
      "model_module": "@jupyter-widgets/controls",
      "model_module_version": "1.5.0",
      "model_name": "FloatProgressModel",
      "state": {
       "bar_style": "success",
       "description": "100%",
       "layout": "IPY_MODEL_9ecba7dbdb404cb7a39319a0167f07a1",
       "max": 1875,
       "style": "IPY_MODEL_02361728f31e4b78a6be0009fcb6e20b",
       "value": 1875
      }
     },
     "f9678a04f5344db4bc3b6d1845389b37": {
      "model_module": "@jupyter-widgets/controls",
      "model_module_version": "1.5.0",
      "model_name": "HBoxModel",
      "state": {
       "children": [
        "IPY_MODEL_9da2c042080d4ea49c7a04d16a39d774",
        "IPY_MODEL_813c08df27ab4c2b91224e1f02b7bb73"
       ],
       "layout": "IPY_MODEL_25cee102866e41a383e01f6ee47623a8"
      }
     },
     "f9e9ce58e1084369adfcc02e5efe3d58": {
      "model_module": "@jupyter-widgets/controls",
      "model_module_version": "1.5.0",
      "model_name": "HTMLModel",
      "state": {
       "layout": "IPY_MODEL_d4b1ffeb5187452697ea07830a988c29",
       "style": "IPY_MODEL_108a2c03d83e479a8074d0b3ee600583",
       "value": " 464/464 [00:44&lt;00:00, 10.36it/s]"
      }
     },
     "fb4ef7f9e5224d9f8c40d8a5e115f393": {
      "model_module": "@jupyter-widgets/controls",
      "model_module_version": "1.5.0",
      "model_name": "ProgressStyleModel",
      "state": {
       "description_width": "initial"
      }
     },
     "fb9631088d344597bee4b151fa08b06f": {
      "model_module": "@jupyter-widgets/controls",
      "model_module_version": "1.5.0",
      "model_name": "HBoxModel",
      "state": {
       "children": [
        "IPY_MODEL_86ac68f3eefd4834be4565e2ef9f25df",
        "IPY_MODEL_6c43e21df5804868b8bec1ae51dc2565"
       ],
       "layout": "IPY_MODEL_265921d3fa6c4e728a133579aa177dd9"
      }
     },
     "fbbc9c29b3e54d878b3748ea110fcf6c": {
      "model_module": "@jupyter-widgets/controls",
      "model_module_version": "1.5.0",
      "model_name": "DescriptionStyleModel",
      "state": {
       "description_width": ""
      }
     },
     "fc728335533a424cab0a9c3dfc132f51": {
      "model_module": "@jupyter-widgets/controls",
      "model_module_version": "1.5.0",
      "model_name": "HBoxModel",
      "state": {
       "children": [
        "IPY_MODEL_c8d2bb24da88455e95b0bb5d81785a10",
        "IPY_MODEL_61f106c199554f25ac4be8968fd9b4c3"
       ],
       "layout": "IPY_MODEL_05e1128ccf8a402b9dc5b7a54492cb6d"
      }
     },
     "fca368eebd6e4d8b974e350387912b9a": {
      "model_module": "@jupyter-widgets/controls",
      "model_module_version": "1.5.0",
      "model_name": "DescriptionStyleModel",
      "state": {
       "description_width": ""
      }
     },
     "fcf3ce23663141788e6a44b02fa45993": {
      "model_module": "@jupyter-widgets/base",
      "model_module_version": "1.2.0",
      "model_name": "LayoutModel",
      "state": {}
     },
     "fd26719f474a45dcbd211e978c2ce6fd": {
      "model_module": "@jupyter-widgets/controls",
      "model_module_version": "1.5.0",
      "model_name": "ProgressStyleModel",
      "state": {
       "description_width": "initial"
      }
     },
     "fda78de607474769b127e91ccaeb5a42": {
      "model_module": "@jupyter-widgets/controls",
      "model_module_version": "1.5.0",
      "model_name": "DescriptionStyleModel",
      "state": {
       "description_width": ""
      }
     },
     "fddddfdb177048789409c3c1773c6938": {
      "model_module": "@jupyter-widgets/controls",
      "model_module_version": "1.5.0",
      "model_name": "HTMLModel",
      "state": {
       "layout": "IPY_MODEL_1e9070c6cbb34fdc919f1d0e1170782e",
       "style": "IPY_MODEL_ef87f8246e6c4bc8ab9ad4db4d918a89",
       "value": " 501/501 [01:15&lt;00:00,  6.62it/s]"
      }
     },
     "fde62baa86204183ae9be4e76f7ce16a": {
      "model_module": "@jupyter-widgets/controls",
      "model_module_version": "1.5.0",
      "model_name": "FloatProgressModel",
      "state": {
       "bar_style": "success",
       "description": "100%",
       "layout": "IPY_MODEL_b203394fb5704d109c1905463141fe8a",
       "max": 1160,
       "style": "IPY_MODEL_5b3d377b19a14073b68526813102690e",
       "value": 1160
      }
     },
     "ff682e7a7cb5424295c41d92cdda47fe": {
      "model_module": "@jupyter-widgets/base",
      "model_module_version": "1.2.0",
      "model_name": "LayoutModel",
      "state": {}
     },
     "ffa1661ba2194ec7bab70883e2f6745f": {
      "model_module": "@jupyter-widgets/base",
      "model_module_version": "1.2.0",
      "model_name": "LayoutModel",
      "state": {}
     }
    },
    "version_major": 2,
    "version_minor": 0
   }
  }
 },
 "nbformat": 4,
 "nbformat_minor": 4
}
