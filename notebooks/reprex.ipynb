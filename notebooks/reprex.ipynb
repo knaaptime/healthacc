{
 "cells": [
  {
   "cell_type": "code",
   "execution_count": 1,
   "metadata": {},
   "outputs": [],
   "source": [
    "import quilt3\n",
    "import pandas as pd\n",
    "import numpy as np\n",
    "import geopandas as gpd\n",
    "import urbanaccess as ua\n",
    "import access\n",
    "import pandana as pdna"
   ]
  },
  {
   "cell_type": "markdown",
   "metadata": {},
   "source": [
    "download OSM data from our quilt bucket"
   ]
  },
  {
   "cell_type": "code",
   "execution_count": 2,
   "metadata": {},
   "outputs": [],
   "source": [
    "p = quilt3.Package.browse(\"osm/metro_networks_8k\", \"s3://spatial-ucr\")"
   ]
  },
  {
   "cell_type": "code",
   "execution_count": 3,
   "metadata": {},
   "outputs": [
    {
     "name": "stderr",
     "output_type": "stream",
     "text": [
      "Copying: 100%|██████████| 42.1M/42.1M [00:04<00:00, 10.1MB/s]  \n"
     ]
    },
    {
     "data": {
      "text/plain": [
       "PackageEntry('file:///Users/knaaptime/projects/healthacc/data/')"
      ]
     },
     "execution_count": 3,
     "metadata": {},
     "output_type": "execute_result"
    }
   ],
   "source": [
    "p['40140.h5'].fetch(dest=\"../data/\")"
   ]
  },
  {
   "cell_type": "code",
   "execution_count": 4,
   "metadata": {},
   "outputs": [],
   "source": [
    "# read in the pre-saved OSM network using pandana\n",
    "\n",
    "osm_network = pdna.Network.from_hdf5(\"../data/40140.h5\")"
   ]
  },
  {
   "cell_type": "code",
   "execution_count": 5,
   "metadata": {},
   "outputs": [
    {
     "name": "stdout",
     "output_type": "stream",
     "text": [
      "GTFS text file header whitespace check completed. Took 0.06 seconds\n",
      "--------------------------------\n",
      "Processing GTFS feed: \n",
      "The unique agency id: riverside_transit_agency was generated using the name of the agency in the agency.txt file.\n",
      "Unique agency id operation complete. Took 0.01 seconds\n",
      "Unique GTFS feed id operation complete. Took 0.00 seconds\n",
      "Appended route type to stops\n",
      "Appended route type to stop_times\n",
      "--------------------------------\n",
      "Successfully converted ['departure_time'] to seconds past midnight and appended new columns to stop_times. Took 0.23 seconds\n",
      "1 GTFS feed file(s) successfully read as dataframes:\n",
      "     \n",
      "     Took 0.54 seconds\n"
     ]
    }
   ],
   "source": [
    "# read in GTFS data from the dir extracted from the zip\n",
    "\n",
    "loaded_feeds = ua.gtfsfeed_to_df(gtfsfeed_path=\"/Users/knaaptime/projects/healthacc/data/rside_gtfs/\",\n",
    "                                           validation=False,\n",
    "                                           verbose=True,\n",
    "                                           append_definitions=False)"
   ]
  },
  {
   "cell_type": "code",
   "execution_count": 6,
   "metadata": {},
   "outputs": [
    {
     "name": "stdout",
     "output_type": "stream",
     "text": [
      "Using calendar to extract service_ids to select trips.\n",
      "1 service_ids were extracted from calendar\n",
      "966 trip(s) 51.58 percent of 1,873 total trip records were found in calendar for GTFS feed(s): ['']\n",
      "NOTE: If you expected more trips to have been extracted and your GTFS feed(s) have a calendar_dates file, consider utilizing the calendar_dates_lookup parameter in order to add additional trips based on information inside of calendar_dates. This should only be done if you know the corresponding GTFS feed is using calendar_dates instead of calendar to specify service_ids. When in doubt do not use the calendar_dates_lookup parameter.\n",
      "966 of 1,873 total trips were extracted representing calendar day: monday. Took 0.02 seconds\n",
      "There are no departure time records missing from trips following monday schedule. There are no records to interpolate.\n",
      "Difference between stop times has been successfully calculated. Took 0.19 seconds\n",
      "Stop times from 07:00:00 to 10:00:00 successfully selected 8,613 records out of 46,424 total records (18.55 percent of total). Took 0.00 seconds\n",
      "Starting transformation process for 228 total trips...\n",
      "stop time table transformation to Pandana format edge table completed. Took 0.48 seconds\n",
      "Time conversion completed: seconds converted to minutes.\n",
      "2,415 of 2,473 records selected from stops. Took 0.00 seconds\n",
      "stop time table transformation to Pandana format node table completed. Took 0.01 seconds\n",
      "route type successfully joined to transit edges. Took 0.19 seconds\n",
      "route id successfully joined to transit edges. Took 0.01 seconds\n",
      "Successfully created transit network. Took 1.05 seconds\n"
     ]
    },
    {
     "data": {
      "text/plain": [
       "<urbanaccess.network.urbanaccess_network at 0x7fa9af4a9bd0>"
      ]
     },
     "execution_count": 6,
     "metadata": {},
     "output_type": "execute_result"
    }
   ],
   "source": [
    "# transform the raw gtfs data into a transit network\n",
    "\n",
    "ua.create_transit_net(gtfsfeeds_dfs=loaded_feeds,\n",
    "                                   day='monday',\n",
    "                                   timerange=['07:00:00', '10:00:00'],\n",
    "                                   calendar_dates_lookup=None)"
   ]
  },
  {
   "cell_type": "code",
   "execution_count": 7,
   "metadata": {},
   "outputs": [],
   "source": [
    "urbanaccess_net = ua.ua_network"
   ]
  },
  {
   "cell_type": "code",
   "execution_count": 8,
   "metadata": {},
   "outputs": [
    {
     "data": {
      "text/html": [
       "<div>\n",
       "<style scoped>\n",
       "    .dataframe tbody tr th:only-of-type {\n",
       "        vertical-align: middle;\n",
       "    }\n",
       "\n",
       "    .dataframe tbody tr th {\n",
       "        vertical-align: top;\n",
       "    }\n",
       "\n",
       "    .dataframe thead th {\n",
       "        text-align: right;\n",
       "    }\n",
       "</style>\n",
       "<table border=\"1\" class=\"dataframe\">\n",
       "  <thead>\n",
       "    <tr style=\"text-align: right;\">\n",
       "      <th></th>\n",
       "      <th>node_id_from</th>\n",
       "      <th>node_id_to</th>\n",
       "      <th>weight</th>\n",
       "      <th>unique_agency_id</th>\n",
       "      <th>unique_trip_id</th>\n",
       "      <th>sequence</th>\n",
       "      <th>id</th>\n",
       "      <th>route_type</th>\n",
       "      <th>unique_route_id</th>\n",
       "      <th>net_type</th>\n",
       "    </tr>\n",
       "  </thead>\n",
       "  <tbody>\n",
       "    <tr>\n",
       "      <th>0</th>\n",
       "      <td>749_riverside_transit_agency</td>\n",
       "      <td>714_riverside_transit_agency</td>\n",
       "      <td>1.000000</td>\n",
       "      <td>riverside_transit_agency</td>\n",
       "      <td>534170020_riverside_transit_agency</td>\n",
       "      <td>1</td>\n",
       "      <td>534170020_riverside_transit_agency_1</td>\n",
       "      <td>3</td>\n",
       "      <td>16_riverside_transit_agency</td>\n",
       "      <td>transit</td>\n",
       "    </tr>\n",
       "    <tr>\n",
       "      <th>1</th>\n",
       "      <td>714_riverside_transit_agency</td>\n",
       "      <td>771_riverside_transit_agency</td>\n",
       "      <td>0.533333</td>\n",
       "      <td>riverside_transit_agency</td>\n",
       "      <td>534170020_riverside_transit_agency</td>\n",
       "      <td>2</td>\n",
       "      <td>534170020_riverside_transit_agency_2</td>\n",
       "      <td>3</td>\n",
       "      <td>16_riverside_transit_agency</td>\n",
       "      <td>transit</td>\n",
       "    </tr>\n",
       "    <tr>\n",
       "      <th>2</th>\n",
       "      <td>771_riverside_transit_agency</td>\n",
       "      <td>715_riverside_transit_agency</td>\n",
       "      <td>0.433333</td>\n",
       "      <td>riverside_transit_agency</td>\n",
       "      <td>534170020_riverside_transit_agency</td>\n",
       "      <td>3</td>\n",
       "      <td>534170020_riverside_transit_agency_3</td>\n",
       "      <td>3</td>\n",
       "      <td>16_riverside_transit_agency</td>\n",
       "      <td>transit</td>\n",
       "    </tr>\n",
       "    <tr>\n",
       "      <th>3</th>\n",
       "      <td>715_riverside_transit_agency</td>\n",
       "      <td>717_riverside_transit_agency</td>\n",
       "      <td>0.816667</td>\n",
       "      <td>riverside_transit_agency</td>\n",
       "      <td>534170020_riverside_transit_agency</td>\n",
       "      <td>4</td>\n",
       "      <td>534170020_riverside_transit_agency_4</td>\n",
       "      <td>3</td>\n",
       "      <td>16_riverside_transit_agency</td>\n",
       "      <td>transit</td>\n",
       "    </tr>\n",
       "    <tr>\n",
       "      <th>4</th>\n",
       "      <td>717_riverside_transit_agency</td>\n",
       "      <td>772_riverside_transit_agency</td>\n",
       "      <td>0.633333</td>\n",
       "      <td>riverside_transit_agency</td>\n",
       "      <td>534170020_riverside_transit_agency</td>\n",
       "      <td>5</td>\n",
       "      <td>534170020_riverside_transit_agency_5</td>\n",
       "      <td>3</td>\n",
       "      <td>16_riverside_transit_agency</td>\n",
       "      <td>transit</td>\n",
       "    </tr>\n",
       "    <tr>\n",
       "      <th>...</th>\n",
       "      <td>...</td>\n",
       "      <td>...</td>\n",
       "      <td>...</td>\n",
       "      <td>...</td>\n",
       "      <td>...</td>\n",
       "      <td>...</td>\n",
       "      <td>...</td>\n",
       "      <td>...</td>\n",
       "      <td>...</td>\n",
       "      <td>...</td>\n",
       "    </tr>\n",
       "    <tr>\n",
       "      <th>8380</th>\n",
       "      <td>7_riverside_transit_agency</td>\n",
       "      <td>549_riverside_transit_agency</td>\n",
       "      <td>11.483333</td>\n",
       "      <td>riverside_transit_agency</td>\n",
       "      <td>538597020_riverside_transit_agency</td>\n",
       "      <td>6</td>\n",
       "      <td>538597020_riverside_transit_agency_6</td>\n",
       "      <td>3</td>\n",
       "      <td>204_riverside_transit_agency</td>\n",
       "      <td>transit</td>\n",
       "    </tr>\n",
       "    <tr>\n",
       "      <th>8381</th>\n",
       "      <td>549_riverside_transit_agency</td>\n",
       "      <td>550_riverside_transit_agency</td>\n",
       "      <td>3.516667</td>\n",
       "      <td>riverside_transit_agency</td>\n",
       "      <td>538597020_riverside_transit_agency</td>\n",
       "      <td>7</td>\n",
       "      <td>538597020_riverside_transit_agency_7</td>\n",
       "      <td>3</td>\n",
       "      <td>204_riverside_transit_agency</td>\n",
       "      <td>transit</td>\n",
       "    </tr>\n",
       "    <tr>\n",
       "      <th>8382</th>\n",
       "      <td>1037_riverside_transit_agency</td>\n",
       "      <td>1100_riverside_transit_agency</td>\n",
       "      <td>0.400000</td>\n",
       "      <td>riverside_transit_agency</td>\n",
       "      <td>538603020_riverside_transit_agency</td>\n",
       "      <td>1</td>\n",
       "      <td>538603020_riverside_transit_agency_1</td>\n",
       "      <td>3</td>\n",
       "      <td>204_riverside_transit_agency</td>\n",
       "      <td>transit</td>\n",
       "    </tr>\n",
       "    <tr>\n",
       "      <th>8383</th>\n",
       "      <td>1100_riverside_transit_agency</td>\n",
       "      <td>1038_riverside_transit_agency</td>\n",
       "      <td>17.000000</td>\n",
       "      <td>riverside_transit_agency</td>\n",
       "      <td>538603020_riverside_transit_agency</td>\n",
       "      <td>2</td>\n",
       "      <td>538603020_riverside_transit_agency_2</td>\n",
       "      <td>3</td>\n",
       "      <td>204_riverside_transit_agency</td>\n",
       "      <td>transit</td>\n",
       "    </tr>\n",
       "    <tr>\n",
       "      <th>8384</th>\n",
       "      <td>1038_riverside_transit_agency</td>\n",
       "      <td>1039_riverside_transit_agency</td>\n",
       "      <td>22.000000</td>\n",
       "      <td>riverside_transit_agency</td>\n",
       "      <td>538603020_riverside_transit_agency</td>\n",
       "      <td>3</td>\n",
       "      <td>538603020_riverside_transit_agency_3</td>\n",
       "      <td>3</td>\n",
       "      <td>204_riverside_transit_agency</td>\n",
       "      <td>transit</td>\n",
       "    </tr>\n",
       "  </tbody>\n",
       "</table>\n",
       "<p>8385 rows × 10 columns</p>\n",
       "</div>"
      ],
      "text/plain": [
       "                       node_id_from                     node_id_to     weight  \\\n",
       "0      749_riverside_transit_agency   714_riverside_transit_agency   1.000000   \n",
       "1      714_riverside_transit_agency   771_riverside_transit_agency   0.533333   \n",
       "2      771_riverside_transit_agency   715_riverside_transit_agency   0.433333   \n",
       "3      715_riverside_transit_agency   717_riverside_transit_agency   0.816667   \n",
       "4      717_riverside_transit_agency   772_riverside_transit_agency   0.633333   \n",
       "...                             ...                            ...        ...   \n",
       "8380     7_riverside_transit_agency   549_riverside_transit_agency  11.483333   \n",
       "8381   549_riverside_transit_agency   550_riverside_transit_agency   3.516667   \n",
       "8382  1037_riverside_transit_agency  1100_riverside_transit_agency   0.400000   \n",
       "8383  1100_riverside_transit_agency  1038_riverside_transit_agency  17.000000   \n",
       "8384  1038_riverside_transit_agency  1039_riverside_transit_agency  22.000000   \n",
       "\n",
       "              unique_agency_id                      unique_trip_id  sequence  \\\n",
       "0     riverside_transit_agency  534170020_riverside_transit_agency         1   \n",
       "1     riverside_transit_agency  534170020_riverside_transit_agency         2   \n",
       "2     riverside_transit_agency  534170020_riverside_transit_agency         3   \n",
       "3     riverside_transit_agency  534170020_riverside_transit_agency         4   \n",
       "4     riverside_transit_agency  534170020_riverside_transit_agency         5   \n",
       "...                        ...                                 ...       ...   \n",
       "8380  riverside_transit_agency  538597020_riverside_transit_agency         6   \n",
       "8381  riverside_transit_agency  538597020_riverside_transit_agency         7   \n",
       "8382  riverside_transit_agency  538603020_riverside_transit_agency         1   \n",
       "8383  riverside_transit_agency  538603020_riverside_transit_agency         2   \n",
       "8384  riverside_transit_agency  538603020_riverside_transit_agency         3   \n",
       "\n",
       "                                        id  route_type  \\\n",
       "0     534170020_riverside_transit_agency_1           3   \n",
       "1     534170020_riverside_transit_agency_2           3   \n",
       "2     534170020_riverside_transit_agency_3           3   \n",
       "3     534170020_riverside_transit_agency_4           3   \n",
       "4     534170020_riverside_transit_agency_5           3   \n",
       "...                                    ...         ...   \n",
       "8380  538597020_riverside_transit_agency_6           3   \n",
       "8381  538597020_riverside_transit_agency_7           3   \n",
       "8382  538603020_riverside_transit_agency_1           3   \n",
       "8383  538603020_riverside_transit_agency_2           3   \n",
       "8384  538603020_riverside_transit_agency_3           3   \n",
       "\n",
       "                   unique_route_id net_type  \n",
       "0      16_riverside_transit_agency  transit  \n",
       "1      16_riverside_transit_agency  transit  \n",
       "2      16_riverside_transit_agency  transit  \n",
       "3      16_riverside_transit_agency  transit  \n",
       "4      16_riverside_transit_agency  transit  \n",
       "...                            ...      ...  \n",
       "8380  204_riverside_transit_agency  transit  \n",
       "8381  204_riverside_transit_agency  transit  \n",
       "8382  204_riverside_transit_agency  transit  \n",
       "8383  204_riverside_transit_agency  transit  \n",
       "8384  204_riverside_transit_agency  transit  \n",
       "\n",
       "[8385 rows x 10 columns]"
      ]
     },
     "execution_count": 8,
     "metadata": {},
     "output_type": "execute_result"
    }
   ],
   "source": [
    "urbanaccess_net.transit_edges"
   ]
  },
  {
   "cell_type": "code",
   "execution_count": 9,
   "metadata": {},
   "outputs": [
    {
     "name": "stdout",
     "output_type": "stream",
     "text": [
      "Created OSM network with travel time impedance using a travel speed of 3 MPH. Took 0.02 seconds\n"
     ]
    }
   ],
   "source": [
    "ua_osm = ua.create_osm_net(osm_edges=osm_network.edges_df,\n",
    "                              osm_nodes=osm_network.nodes_df,\n",
    "                              travel_speed_mph=3)"
   ]
  },
  {
   "cell_type": "code",
   "execution_count": 10,
   "metadata": {},
   "outputs": [
    {
     "name": "stdout",
     "output_type": "stream",
     "text": [
      "Loaded UrbanAccess network components comprised of:\n",
      "     Transit: 2,415 nodes and 8,385 edges;\n",
      "     OSM: 486,514 nodes and 742,113 edges\n",
      "Connector edges between the OSM and transit network nodes successfully completed. Took 1.25 seconds\n",
      "Edge and node tables formatted for Pandana with integer node ids: id_int, to_int, and from_int. Took 2.91 seconds\n",
      "Network edge and node network integration completed successfully resulting in a total of 488,929 nodes and 755,328 edges:\n",
      "     Transit: 2,415 nodes 8,385 edges;\n",
      "     OSM: 486,514 nodes 742,113 edges; and\n",
      "     OSM/Transit connector: 4,830 edges.\n"
     ]
    },
    {
     "data": {
      "text/plain": [
       "<urbanaccess.network.urbanaccess_network at 0x7fa9af4a9bd0>"
      ]
     },
     "execution_count": 10,
     "metadata": {},
     "output_type": "execute_result"
    }
   ],
   "source": [
    "ua.integrate_network(urbanaccess_network=urbanaccess_net,\n",
    "                             headways=False)"
   ]
  },
  {
   "cell_type": "code",
   "execution_count": 11,
   "metadata": {},
   "outputs": [
    {
     "name": "stdout",
     "output_type": "stream",
     "text": [
      "Using existing data/../../data/combined_net.h5 hdf5 store.\n",
      "Existing edges overwritten in data/../../data/combined_net.h5 hdf5 store.\n",
      "Using existing data/../../data/combined_net.h5 hdf5 store.\n",
      "Existing nodes overwritten in data/../../data/combined_net.h5 hdf5 store.\n"
     ]
    }
   ],
   "source": [
    "# I think somewhere ua has hardcoded the paths to be `logs` inside the cwd, so you need to move up *two* levels\n",
    "ua.save_network(urbanaccess_network=urbanaccess_net,\n",
    "                        filename='../../data/combined_net.h5',\n",
    "                        overwrite_key = True)"
   ]
  },
  {
   "cell_type": "code",
   "execution_count": 12,
   "metadata": {},
   "outputs": [
    {
     "data": {
      "text/plain": [
       "dtype('float64')"
      ]
     },
     "execution_count": 12,
     "metadata": {},
     "output_type": "execute_result"
    }
   ],
   "source": [
    "urbanaccess_net.net_edges.from_int.dtype"
   ]
  },
  {
   "cell_type": "code",
   "execution_count": 13,
   "metadata": {},
   "outputs": [
    {
     "ename": "ValueError",
     "evalue": "Buffer dtype mismatch, expected 'long' but got 'double'",
     "output_type": "error",
     "traceback": [
      "\u001b[0;31m---------------------------------------------------------------------------\u001b[0m",
      "\u001b[0;31mValueError\u001b[0m                                Traceback (most recent call last)",
      "\u001b[0;32m<ipython-input-13-2640ece2a378>\u001b[0m in \u001b[0;36m<module>\u001b[0;34m\u001b[0m\n\u001b[1;32m      4\u001b[0m                                \u001b[0murbanaccess_net\u001b[0m\u001b[0;34m.\u001b[0m\u001b[0mnet_edges\u001b[0m\u001b[0;34m[\u001b[0m\u001b[0;34m\"to_int\"\u001b[0m\u001b[0;34m]\u001b[0m\u001b[0;34m,\u001b[0m\u001b[0;34m\u001b[0m\u001b[0;34m\u001b[0m\u001b[0m\n\u001b[1;32m      5\u001b[0m                                \u001b[0murbanaccess_net\u001b[0m\u001b[0;34m.\u001b[0m\u001b[0mnet_edges\u001b[0m\u001b[0;34m[\u001b[0m\u001b[0;34m[\u001b[0m\u001b[0;34m\"weight\"\u001b[0m\u001b[0;34m]\u001b[0m\u001b[0;34m]\u001b[0m\u001b[0;34m,\u001b[0m\u001b[0;34m\u001b[0m\u001b[0;34m\u001b[0m\u001b[0m\n\u001b[0;32m----> 6\u001b[0;31m                                twoway=False)\n\u001b[0m",
      "\u001b[0;32m~/anaconda3/envs/healthacc/lib/python3.7/site-packages/pandana/network.py\u001b[0m in \u001b[0;36m__init__\u001b[0;34m(self, node_x, node_y, edge_from, edge_to, edge_weights, twoway)\u001b[0m\n\u001b[1;32m    101\u001b[0m                                                           \u001b[0;34m.\u001b[0m\u001b[0mastype\u001b[0m\u001b[0;34m(\u001b[0m\u001b[0;34m'double'\u001b[0m\u001b[0;34m)\u001b[0m\u001b[0;34m\u001b[0m\u001b[0;34m\u001b[0m\u001b[0m\n\u001b[1;32m    102\u001b[0m                                                           \u001b[0;34m.\u001b[0m\u001b[0mvalues\u001b[0m\u001b[0;34m,\u001b[0m\u001b[0;34m\u001b[0m\u001b[0;34m\u001b[0m\u001b[0m\n\u001b[0;32m--> 103\u001b[0;31m                             twoway)\n\u001b[0m\u001b[1;32m    104\u001b[0m \u001b[0;34m\u001b[0m\u001b[0m\n\u001b[1;32m    105\u001b[0m         \u001b[0mself\u001b[0m\u001b[0;34m.\u001b[0m\u001b[0m_twoway\u001b[0m \u001b[0;34m=\u001b[0m \u001b[0mtwoway\u001b[0m\u001b[0;34m\u001b[0m\u001b[0;34m\u001b[0m\u001b[0m\n",
      "\u001b[0;32msrc/cyaccess.pyx\u001b[0m in \u001b[0;36mpandana.cyaccess.cyaccess.__cinit__\u001b[0;34m()\u001b[0m\n",
      "\u001b[0;31mValueError\u001b[0m: Buffer dtype mismatch, expected 'long' but got 'double'"
     ]
    }
   ],
   "source": [
    "combined_net = pdna.Network(urbanaccess_net.net_nodes[\"x\"],\n",
    "                               urbanaccess_net.net_nodes[\"y\"],\n",
    "                               urbanaccess_net.net_edges[\"from_int\"],\n",
    "                               urbanaccess_net.net_edges[\"to_int\"],\n",
    "                               urbanaccess_net.net_edges[[\"weight\"]],\n",
    "                               twoway=False)\n"
   ]
  },
  {
   "cell_type": "code",
   "execution_count": null,
   "metadata": {},
   "outputs": [],
   "source": []
  }
 ],
 "metadata": {
  "kernelspec": {
   "display_name": "Python [conda env:healthacc]",
   "language": "python",
   "name": "conda-env-healthacc-py"
  },
  "language_info": {
   "codemirror_mode": {
    "name": "ipython",
    "version": 3
   },
   "file_extension": ".py",
   "mimetype": "text/x-python",
   "name": "python",
   "nbconvert_exporter": "python",
   "pygments_lexer": "ipython3",
   "version": "3.7.6"
  },
  "widgets": {
   "application/vnd.jupyter.widget-state+json": {
    "state": {},
    "version_major": 2,
    "version_minor": 0
   }
  }
 },
 "nbformat": 4,
 "nbformat_minor": 4
}
